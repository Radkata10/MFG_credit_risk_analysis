{
  "cells": [
    {
      "cell_type": "markdown",
      "source": [
        "Задача за DSCM006\n",
        "=================\n",
        "\n",
        "Предаваме като .ipynb в Moodle в курса DSCM006 до 15.02.2022 г."
      ],
      "metadata": {
        "id": "RFttHJ-5auPK"
      }
    },
    {
      "cell_type": "code",
      "execution_count": 90,
      "metadata": {
        "id": "UxDjuFA96690"
      },
      "outputs": [],
      "source": [
        "%matplotlib inline\n",
        "\n",
        "import pandas as pd\n",
        "import numpy as np\n",
        "import matplotlib.pyplot as plt\n",
        "import seaborn as sns\n",
        "\n",
        "from sklearn.decomposition import PCA\n",
        "from sklearn.feature_selection import VarianceThreshold\n",
        "from sklearn.preprocessing import StandardScaler, LabelEncoder, Normalizer\n",
        "from sklearn.metrics import f1_score, roc_auc_score, confusion_matrix, accuracy_score, classification_report\n",
        "from sklearn.linear_model import LogisticRegression\n",
        "from sklearn.model_selection import StratifiedKFold, GridSearchCV, ParameterGrid\n",
        "from sklearn.svm import SVC\n",
        "\n",
        "import xgboost as xgb\n",
        "from hyperopt import fmin, tpe, hp, STATUS_OK, Trials"
      ]
    },
    {
      "cell_type": "code",
      "execution_count": 5,
      "metadata": {
        "id": "PII_4HFx6698"
      },
      "outputs": [],
      "source": [
        "pd.options.display.max_rows = 999\n",
        "pd.options.display.max_columns = 999"
      ]
    },
    {
      "cell_type": "code",
      "execution_count": 6,
      "metadata": {
        "id": "fCmrg7tp6699"
      },
      "outputs": [],
      "source": [
        "df_train = pd.read_csv('X_train.csv', encoding='ISO-8859-1')\n",
        "df_test = pd.read_csv('X_test.csv', encoding='ISO-8859-1')"
      ]
    },
    {
      "cell_type": "markdown",
      "source": [
        "1.   Направете основен експлораторен анализ на обучителния набор;\n",
        "2.   Намалете размерността на данните (PCA, correlation, VIF);\n",
        "3.   Направете необходимите операции, за да присвоите на категорийните променливи числови стойности, така че те да могат да бъдат използвани в модел;\n",
        "4.   Мащабирайте данните - необходимо е най-вече за SVM от моделите, които ще използвате;\n",
        "5.   Използвайки кръстосана валидация с обучителния набор, намерете най-добрия модел, варирайки хиперпараметрите. Използвайте логистична регресия и метода на опорните вектори. Опитайте всички възможности за тези модели и чрез GridSearchCV или по друг начин намерете най-добрия модел като експериментирате с различни приложими метрики за оценка на точността;\n",
        "6.   За SVM, scikit-learn предлага ядрата ‘linear’, ‘poly’, ‘rbf’, ‘sigmoid’, които в т.5 се очаква да използвате в решението си. Освен тях, опитайте модел със сплайн ядро, което е описано [в доклад на Steve Gunn от 1998 г](http://www.svms.org/tutorials/Gunn1998.pdf). За начина на внедряване на код за ядра в sklearn можете да ползвате указанията по [тази](https://krypticmouse.hashnode.dev/training-svm-over-custom-kernels) връзка, а за реализация на сплайн ядро може да използвате [този](https://github.com/gmum/pykernels/blob/master/pykernels/regular.py) код. Ако намерите по-подходящи ядра, опитайте и с тях;\n",
        "7.   *По желание.* Проучете как работи XGBoost и опитайте да решите задачата с него;\n",
        "8.   След като сте избрали най-добрия модел, вижте как той се справя на тестовия набор. "
      ],
      "metadata": {
        "id": "YkGQirn9-vDE"
      }
    },
    {
      "source": [
        "1. Основен експлораторен анализ"
      ],
      "cell_type": "markdown",
      "metadata": {}
    },
    {
      "cell_type": "code",
      "execution_count": 7,
      "metadata": {},
      "outputs": [
        {
          "output_type": "execute_result",
          "data": {
            "text/plain": [
              "(6591, 277)"
            ]
          },
          "metadata": {},
          "execution_count": 7
        }
      ],
      "source": [
        "df_train.shape"
      ]
    },
    {
      "cell_type": "code",
      "execution_count": 8,
      "metadata": {},
      "outputs": [
        {
          "output_type": "execute_result",
          "data": {
            "text/plain": [
              "(2197, 277)"
            ]
          },
          "metadata": {},
          "execution_count": 8
        }
      ],
      "source": [
        "df_test.shape"
      ]
    },
    {
      "cell_type": "code",
      "source": [
        "df_train[\"Bad_Flag\"].value_counts(dropna=False)"
      ],
      "metadata": {
        "id": "iSc_4RXc5gVP"
      },
      "execution_count": 9,
      "outputs": [
        {
          "output_type": "execute_result",
          "data": {
            "text/plain": [
              "0    5841\n",
              "1     750\n",
              "Name: Bad_Flag, dtype: int64"
            ]
          },
          "metadata": {},
          "execution_count": 9
        }
      ]
    },
    {
      "cell_type": "code",
      "execution_count": 10,
      "metadata": {},
      "outputs": [
        {
          "output_type": "execute_result",
          "data": {
            "text/plain": [
              "   Unnamed: 0  Bad_Flag  x1     x2     x3     x4     x5     x6     x7     x8  \\\n",
              "0         707         0  56  NoDPD  NoDPD  NoDPD  NoDPD  NoDPD  NoDPD  NoDPD   \n",
              "1        5740         1  21  NoDPD  NoDPD  NoDPD  NoDPD  NoDPD  NoDPD  NoDPD   \n",
              "2        6646         0  31  NoDPD  NoDPD  NoDPD  NoDPD  NoDPD  NoDPD  NoDPD   \n",
              "3        6841         0  56  NoDPD  DPD90  NoDPD  NoDPD  NoDPD  NoDPD  NoDPD   \n",
              "4         842         0  34  NoDPD  NoDPD  NoDPD  NoDPD  NoDPD  NoDPD  NoDPD   \n",
              "\n",
              "     x10      x11    x12    x13         x14         x15         x16  x17  x18  \\\n",
              "0  Never    Never  Never  Never  DPDCurrent  DPDCurrent  DPDCurrent    0    0   \n",
              "1  Never    Never  Never  Never  DPDCurrent  DPDCurrent  DPDCurrent    0    0   \n",
              "2  Never    Never  Never  Never  DPDCurrent  DPDCurrent  DPDCurrent    0    0   \n",
              "3  Never  More24M  Never  Never  DPDCurrent  DPDCurrent  DPDCurrent    0    0   \n",
              "4  Never    Never  Never  Never  DPDCurrent  DPDCurrent  DPDCurrent    0    0   \n",
              "\n",
              "   x19  x20  x21  x22  x23  x24       x25       x26  x27  x28       x29  x30  \\\n",
              "0    0    0    0  0.0  0.0  0.0   2428.33      0.00    0    0    963.02    0   \n",
              "1    0    0    0  0.0  0.0  0.0      0.00   2300.00    0    0      0.00    0   \n",
              "2    0    0    0  0.0  0.0  0.0   8500.00  29469.17    0    0   8220.00    0   \n",
              "3    0    0    0  0.0  0.0  0.0  12660.00      0.00    0    0  11392.00    0   \n",
              "4    0    0    0  0.0  0.0  0.0      0.00    600.00    0    0      0.00    0   \n",
              "\n",
              "   x31       x32       x33       x34       x35       x36       x37       x38  \\\n",
              "0    0      0.00   1728.33      0.00    963.02      0.00   1728.33      0.00   \n",
              "1    0   1277.27      0.00    800.00      0.00    777.27      0.00    800.00   \n",
              "2    0  27234.56   7000.00  29469.17   6826.00  27234.56   7000.00  29469.32   \n",
              "3    0      0.00  11660.00      0.00  10444.00      0.00  11660.00      0.00   \n",
              "4    0    656.00      0.00    600.00      0.00    656.00      0.00    600.00   \n",
              "\n",
              "      x39     x40  x41     x42       x43       x44  x45  x46  x47  x48  x49  \\\n",
              "0  167.61    0.00  0.0    0.00   2272.24      0.00  0.0  0.0    0    0  0.0   \n",
              "1    0.00  169.23  0.0    0.00      0.00   1800.00  0.0  0.0    0    0  0.0   \n",
              "2  104.49  497.93  0.0  122.11   8473.00  29469.32  0.0  0.0    0    0  0.0   \n",
              "3  223.00    0.00  0.0    0.00  12603.00      0.00  0.0  0.0    0    0  0.0   \n",
              "4    0.00  163.00  0.0  107.00      0.00    600.00  0.0  0.0    0    0  0.0   \n",
              "\n",
              "   x50  x51  x52  x53  x54  x55  x56  x57  x58  x59  x60  x61  x62  x63  \\\n",
              "0    0    0    0    0    0    0    0    0    0    0    0  0.0    0  0.0   \n",
              "1    0    0    0    0    0    0    0    0    0    0    0  0.0    0  0.0   \n",
              "2    0    0    0    0    0    0    0    0    0    0    0  0.0    0  0.0   \n",
              "3    0    0    0    0    0    0    0    0    0    0    0  0.0    0  0.0   \n",
              "4    0    0    0    0    0    0    0    0    0    0    0  0.0    0  0.0   \n",
              "\n",
              "      x64  x65  x66     x67     x68     x69       x70  x71  x72    x73  \\\n",
              "0    0.00  0.0  0.0  167.61    0.00     0.0      0.00  0.0  0.0   0.00   \n",
              "1    0.00  0.0  0.0    0.00  169.23     0.0      0.00  0.0  0.0   0.00   \n",
              "2    0.00  0.0  0.0  134.49  497.93  7742.0  27234.56  0.0  0.0  35.36   \n",
              "3  269.09  0.0  0.0  223.00    0.00  9523.0      0.00  0.0  0.0   0.00   \n",
              "4    0.00  0.0  0.0    0.00  163.00     0.0      0.00  0.0  0.0   0.00   \n",
              "\n",
              "      x74      x75       x76       x77       x78     x79     x80       x81  \\\n",
              "0    0.00     0.00      0.00    260.83      0.00  700.22    0.00    963.02   \n",
              "1    0.00     0.00      0.00      0.00      0.00    0.00  856.27      0.00   \n",
              "2  122.11  7612.14  26905.12   8220.00  27234.56   22.00    0.00   8220.00   \n",
              "3    0.00  9508.00      0.00  10008.00      0.00   57.00    0.00  11392.00   \n",
              "4    0.00     0.00      0.00      0.00      0.00    0.00    0.00      0.00   \n",
              "\n",
              "        x82      x83      x84  x85     x86  x87    x88  x89     x90  x91  x92  \\\n",
              "0      0.00   702.19     0.00  0.0     0.0  0.0    0.0  0.0     0.0  0.0  0.0   \n",
              "1   1277.27     0.00  1277.27  0.0  1500.0  0.0  500.0  0.0  1000.0  0.0  0.0   \n",
              "2  27234.56     0.00     0.00  0.0     0.0  0.0    0.0  0.0     0.0  0.0  0.0   \n",
              "3      0.00  1384.00     0.00  0.0     0.0  0.0    0.0  0.0     0.0  0.0  0.0   \n",
              "4    656.00     0.00   656.00  0.0     0.0  0.0    0.0  0.0     0.0  0.0  0.0   \n",
              "\n",
              "   x93  x94    x95     x96       x97       x98     x99  x100    x101  x102  \\\n",
              "0  0.0  0.0   0.00    0.00    963.02      0.00   700.0     0     0.0   0.0   \n",
              "1  0.0  0.0   0.00    0.00      0.00   1152.68     0.0     0     0.0   0.0   \n",
              "2  0.0  0.0  50.36  122.11   8075.14  26905.12  1500.0     0  1394.0   0.0   \n",
              "3  0.0  0.0   0.00    0.00  11363.00      0.00  1000.0     0   948.0   0.0   \n",
              "4  0.0  0.0   0.00  107.00      0.00    493.00     0.0     0     0.0   0.0   \n",
              "\n",
              "      x103  x104  x105  x106   x107  x108  x109  x110      x111  x112  x113  \\\n",
              "0   543.91   0.0   0.0     0   0.00     0     0     0   1663.24     0     0   \n",
              "1     0.00   0.0   0.0     0   0.00     0     0     0      0.00     0     0   \n",
              "2  1473.00   0.0  30.0     0  50.36     0     0     0   8242.00     0     0   \n",
              "3   943.00   0.0   0.0     0   0.00     0     0     0  11449.00     0     0   \n",
              "4     0.00   0.0   0.0     0   0.00     0     0     0      0.00     0     0   \n",
              "\n",
              "       x114  x115  x116     x117     x118    x119    x120  x121  x122   x123  \\\n",
              "0      0.00     0   0.0   963.02     0.00  700.22    0.00     0   0.0    0.0   \n",
              "1   2133.54     0   0.0     0.00  1277.27    0.00  856.27     0   0.0    0.0   \n",
              "2  27234.56     0   0.0   478.00     0.00   22.00    0.00     0  15.0    0.0   \n",
              "3      0.00     0   0.0  1869.00     0.00   57.00    0.00     0   0.0    0.0   \n",
              "4    656.00     0   0.0     0.00   656.00    0.00    0.00     0   0.0  107.0   \n",
              "\n",
              "      x124     x125  x126  x127  x128      x129  x130  x131      x132  x133  \\\n",
              "0   963.02     0.00     0     0     0  0.000000     0     0  1.000000     0   \n",
              "1     0.00  1152.68     0     0     0  1.000000     0     0  0.000000     0   \n",
              "2   463.00     0.00     0     0     0  0.776134     0     0  0.231846     0   \n",
              "3  1855.00     0.00     0     0     0  0.000000     0     0  1.000000     0   \n",
              "4     0.00   493.00     0     0     0  1.000000     0     0  0.000000     0   \n",
              "\n",
              "   x134      x135      x136      x137      x138  x139  x140  x141  x142  x143  \\\n",
              "0     0  0.000000  0.000000  0.557197  0.000000     3     0     0     0     0   \n",
              "1     0  1.000000  1.000000  0.000000  0.971588     0     5     0     0     0   \n",
              "2     0  0.768154  0.768154  0.975143  0.924167     3     3     0     0     0   \n",
              "3     0  0.000000  0.000000  0.895712  0.000000     4     0     0     4     0   \n",
              "4     0  1.000000  1.000000  0.000000  1.093333     0     1     0     0     0   \n",
              "\n",
              "   x144  x145  x146  x147  x148  x149  x150  x151  x152  x153  x154  x155  \\\n",
              "0     0     0     0     0     0     0     0     0     0     0     0     0   \n",
              "1     0     0     0     0     0     0     0     0     0     0     0     0   \n",
              "2     0     0     0     0     0     0     0     0     0     0     0     0   \n",
              "3     0     0    14     0     0     0     0     4     0     0     0     0   \n",
              "4     0     0     0     0     0     0     0     0     0     0     0     0   \n",
              "\n",
              "   x156  x157  x158  x159  x160  x161  x162  x163  x164  x165  x166  x167  \\\n",
              "0     0     0     0     0     0     0     0     0     0     0     0     0   \n",
              "1     0     0     0     0     0     0     0     0     0     0     0     0   \n",
              "2     0     0     0     0     0     0     0     0     0     0     0     0   \n",
              "3     0     0     0     0     0     0     0     0     0     0     0     0   \n",
              "4     0     0     0     0     0     0     0     0     0     0     0     0   \n",
              "\n",
              "   x168  x169  x170  x171  x172  x173  x174  x175  x176  x177      x178  x179  \\\n",
              "0     0     0     0     0     0     0     0     0     0     0  0.000000     1   \n",
              "1     0     0     0     0     0     0     0     0     0     0  1.000000     0   \n",
              "2     0     0     0     0     0     0     0     0     0     0  0.787341     2   \n",
              "3     0     0     0     0     0     0     0     0     0     0  0.000000     2   \n",
              "4     0     0     0     0     0     0     0     0     0     0  1.000000     0   \n",
              "\n",
              "   x180      x181      x182  x183 x184   x185       x186      x187  x188  \\\n",
              "0     0  0.000000  0.000000   0.0  Yes  20.80  2012.6800  2001.600     5   \n",
              "1     5  0.000000  0.000000   0.0  Yes   0.00     0.0000     0.000     0   \n",
              "2     1  0.004865  0.929333   0.0  Yes  20.75  1320.4725  1321.535     4   \n",
              "3     0  0.000000  0.948000   0.0  Yes  21.75  1260.1300  1317.105     4   \n",
              "4     1  0.163110  0.000000   0.0  Yes   0.00     0.0000     0.000     0   \n",
              "\n",
              "    x189       x190      x191  x192  \\\n",
              "0  20.80  2012.6800  2001.600     5   \n",
              "1   0.00     0.0000     0.000     0   \n",
              "2  20.75  1320.4725  1321.535     4   \n",
              "3  21.75  1260.1300  1317.105     4   \n",
              "4   0.00     0.0000     0.000     0   \n",
              "\n",
              "                                             x193     x194 x195  x196  x197  \\\n",
              "0  ÐÐµÐ·ÑÑÐ¾ÑÐµÐ½ ÑÑÑÐ´Ð¾Ð² Ð´Ð¾Ð³Ð¾Ð²Ð¾Ñ       01  Yes     1     1   \n",
              "1                                         Missing  Missing   No     0     0   \n",
              "2  ÐÐµÐ·ÑÑÐ¾ÑÐµÐ½ ÑÑÑÐ´Ð¾Ð² Ð´Ð¾Ð³Ð¾Ð²Ð¾Ñ       01  Yes     1     1   \n",
              "3  ÐÐµÐ·ÑÑÐ¾ÑÐµÐ½ ÑÑÑÐ´Ð¾Ð² Ð´Ð¾Ð³Ð¾Ð²Ð¾Ñ       01  Yes     1     1   \n",
              "4                                         Missing  Missing   No     0     0   \n",
              "\n",
              "         x198   x199      x200  x201  x202  x203  x204  x205  x206  x207  \\\n",
              "0  807.877778  799.0  72332009  4910   0.0   0.0   0.0   1.0     7   364   \n",
              "1    0.000000    0.0         0     0   0.0   0.0   0.0   0.0     0     0   \n",
              "2  557.638889  550.0  83222006  4639   0.0   0.0   0.0   1.0     8   365   \n",
              "3  586.444444  580.0  72233006  2540   0.0   0.0   0.0   1.0     7   364   \n",
              "4    0.000000    0.0         0     0   0.0   0.0   0.0   0.0     0     0   \n",
              "\n",
              "   x208  x209  x210  x211  x212  x213  x214  x215        x216   x217  \\\n",
              "0    72   364     4   364    49   364     1     1  812.316667  799.0   \n",
              "1     0     0     0     0     0     0     0     0    0.000000    0.0   \n",
              "2    83   365     4   365    46   365     1     1  553.055556  550.0   \n",
              "3    72   364     2   364    25   364     1     1  586.444444  580.0   \n",
              "4     0     0     0     0     0     0     0     0    0.000000    0.0   \n",
              "\n",
              "       x218  x219  x220  x221  x222  x223  x224  x225  x226  x227  x228  x229  \\\n",
              "0  72332009  4910   0.0   0.0   0.0   1.0     7   183    72   183     4   183   \n",
              "1         0     0   0.0   0.0   0.0   0.0     0     0     0     0     0     0   \n",
              "2  83222006  4639   0.0   0.0   0.0   1.0     8   181    83   181     4   181   \n",
              "3  72233006  2540   0.0   0.0   0.0   1.0     7   182    72   182     2   182   \n",
              "4         0     0   0.0   0.0   0.0   0.0     0     0     0     0     0     0   \n",
              "\n",
              "   x230  x231  x232  x233        x234   x235      x236  x237  x238  x239  \\\n",
              "0    49   183     1     1  807.877778  799.0  72332009  4910   0.0   0.0   \n",
              "1     0     0     0     0    0.000000    0.0         0     0   0.0   0.0   \n",
              "2    46   181     1     1  550.000000  550.0  83222006  4639   0.0   0.0   \n",
              "3    25   182     1     1  580.000000  580.0  72233006  2540   0.0   0.0   \n",
              "4     0     0     0     0    0.000000    0.0         0     0   0.0   0.0   \n",
              "\n",
              "   x240  x241  x242  x243  x244  x245  x246  x247  x248  x249  x250  x251  \\\n",
              "0   0.0   1.0     7    91    72    91     4    91    49    91   133   377   \n",
              "1   0.0   0.0     0     0     0     0     0     0     0     0     0     0   \n",
              "2   0.0   1.0     8    90    83    90     4    90    46    90    29   104   \n",
              "3   0.0   1.0     7    90    72    90     2    90    25    90    64   169   \n",
              "4   0.0   0.0     0     0     0     0     0     0     0     0     0     0   \n",
              "\n",
              "   x252 x253  x254 x255     x256  x257  x258  x259     x260     x261 x262  \\\n",
              "0     3  Yes   0.0  NaN  Missing   0.0   0.0     0  Missing  Missing   No   \n",
              "1     0   No   0.0  NaN  Missing   0.0   0.0     0  Missing  Missing   No   \n",
              "2     4  Yes   0.0  NaN  Missing   0.0   0.0     0  Missing  Missing   No   \n",
              "3     4  Yes   0.0  NaN  Missing   0.0   0.0     0  Missing  Missing   No   \n",
              "4     0   No   0.0  NaN  Missing   0.0   0.0     0  Missing  Missing   No   \n",
              "\n",
              "       x263      x264      x265      x266      x267      x268      x269  \\\n",
              "0   2428.33      0.00   2428.33    963.02      0.00    963.02      0.00   \n",
              "1      0.00   2300.00   2300.00      0.00   1277.27   1277.27    777.27   \n",
              "2   8500.00  29469.17  37969.17   8220.00  27234.56  35454.56  27234.56   \n",
              "3  12660.00      0.00  12660.00  11392.00      0.00  11392.00      0.00   \n",
              "4      0.00    600.00    600.00      0.00    656.00    656.00    656.00   \n",
              "\n",
              "    x270    x271    x272 x273 x274 x275 x276  \n",
              "0   0.00    0.00    0.00   Íå   Äà   Íå   Äà  \n",
              "1   0.00    0.00    0.00   Äà   Íå   Íå   Íå  \n",
              "2  50.36  122.11  172.47   Äà   Äà   Íå   Äà  \n",
              "3   0.00    0.00    0.00   Íå   Äà   Íå   Äà  \n",
              "4   0.00  107.00  107.00   Äà   Íå   Íå   Íå  "
            ],
            "text/html": "<div>\n<style scoped>\n    .dataframe tbody tr th:only-of-type {\n        vertical-align: middle;\n    }\n\n    .dataframe tbody tr th {\n        vertical-align: top;\n    }\n\n    .dataframe thead th {\n        text-align: right;\n    }\n</style>\n<table border=\"1\" class=\"dataframe\">\n  <thead>\n    <tr style=\"text-align: right;\">\n      <th></th>\n      <th>Unnamed: 0</th>\n      <th>Bad_Flag</th>\n      <th>x1</th>\n      <th>x2</th>\n      <th>x3</th>\n      <th>x4</th>\n      <th>x5</th>\n      <th>x6</th>\n      <th>x7</th>\n      <th>x8</th>\n      <th>x10</th>\n      <th>x11</th>\n      <th>x12</th>\n      <th>x13</th>\n      <th>x14</th>\n      <th>x15</th>\n      <th>x16</th>\n      <th>x17</th>\n      <th>x18</th>\n      <th>x19</th>\n      <th>x20</th>\n      <th>x21</th>\n      <th>x22</th>\n      <th>x23</th>\n      <th>x24</th>\n      <th>x25</th>\n      <th>x26</th>\n      <th>x27</th>\n      <th>x28</th>\n      <th>x29</th>\n      <th>x30</th>\n      <th>x31</th>\n      <th>x32</th>\n      <th>x33</th>\n      <th>x34</th>\n      <th>x35</th>\n      <th>x36</th>\n      <th>x37</th>\n      <th>x38</th>\n      <th>x39</th>\n      <th>x40</th>\n      <th>x41</th>\n      <th>x42</th>\n      <th>x43</th>\n      <th>x44</th>\n      <th>x45</th>\n      <th>x46</th>\n      <th>x47</th>\n      <th>x48</th>\n      <th>x49</th>\n      <th>x50</th>\n      <th>x51</th>\n      <th>x52</th>\n      <th>x53</th>\n      <th>x54</th>\n      <th>x55</th>\n      <th>x56</th>\n      <th>x57</th>\n      <th>x58</th>\n      <th>x59</th>\n      <th>x60</th>\n      <th>x61</th>\n      <th>x62</th>\n      <th>x63</th>\n      <th>x64</th>\n      <th>x65</th>\n      <th>x66</th>\n      <th>x67</th>\n      <th>x68</th>\n      <th>x69</th>\n      <th>x70</th>\n      <th>x71</th>\n      <th>x72</th>\n      <th>x73</th>\n      <th>x74</th>\n      <th>x75</th>\n      <th>x76</th>\n      <th>x77</th>\n      <th>x78</th>\n      <th>x79</th>\n      <th>x80</th>\n      <th>x81</th>\n      <th>x82</th>\n      <th>x83</th>\n      <th>x84</th>\n      <th>x85</th>\n      <th>x86</th>\n      <th>x87</th>\n      <th>x88</th>\n      <th>x89</th>\n      <th>x90</th>\n      <th>x91</th>\n      <th>x92</th>\n      <th>x93</th>\n      <th>x94</th>\n      <th>x95</th>\n      <th>x96</th>\n      <th>x97</th>\n      <th>x98</th>\n      <th>x99</th>\n      <th>x100</th>\n      <th>x101</th>\n      <th>x102</th>\n      <th>x103</th>\n      <th>x104</th>\n      <th>x105</th>\n      <th>x106</th>\n      <th>x107</th>\n      <th>x108</th>\n      <th>x109</th>\n      <th>x110</th>\n      <th>x111</th>\n      <th>x112</th>\n      <th>x113</th>\n      <th>x114</th>\n      <th>x115</th>\n      <th>x116</th>\n      <th>x117</th>\n      <th>x118</th>\n      <th>x119</th>\n      <th>x120</th>\n      <th>x121</th>\n      <th>x122</th>\n      <th>x123</th>\n      <th>x124</th>\n      <th>x125</th>\n      <th>x126</th>\n      <th>x127</th>\n      <th>x128</th>\n      <th>x129</th>\n      <th>x130</th>\n      <th>x131</th>\n      <th>x132</th>\n      <th>x133</th>\n      <th>x134</th>\n      <th>x135</th>\n      <th>x136</th>\n      <th>x137</th>\n      <th>x138</th>\n      <th>x139</th>\n      <th>x140</th>\n      <th>x141</th>\n      <th>x142</th>\n      <th>x143</th>\n      <th>x144</th>\n      <th>x145</th>\n      <th>x146</th>\n      <th>x147</th>\n      <th>x148</th>\n      <th>x149</th>\n      <th>x150</th>\n      <th>x151</th>\n      <th>x152</th>\n      <th>x153</th>\n      <th>x154</th>\n      <th>x155</th>\n      <th>x156</th>\n      <th>x157</th>\n      <th>x158</th>\n      <th>x159</th>\n      <th>x160</th>\n      <th>x161</th>\n      <th>x162</th>\n      <th>x163</th>\n      <th>x164</th>\n      <th>x165</th>\n      <th>x166</th>\n      <th>x167</th>\n      <th>x168</th>\n      <th>x169</th>\n      <th>x170</th>\n      <th>x171</th>\n      <th>x172</th>\n      <th>x173</th>\n      <th>x174</th>\n      <th>x175</th>\n      <th>x176</th>\n      <th>x177</th>\n      <th>x178</th>\n      <th>x179</th>\n      <th>x180</th>\n      <th>x181</th>\n      <th>x182</th>\n      <th>x183</th>\n      <th>x184</th>\n      <th>x185</th>\n      <th>x186</th>\n      <th>x187</th>\n      <th>x188</th>\n      <th>x189</th>\n      <th>x190</th>\n      <th>x191</th>\n      <th>x192</th>\n      <th>x193</th>\n      <th>x194</th>\n      <th>x195</th>\n      <th>x196</th>\n      <th>x197</th>\n      <th>x198</th>\n      <th>x199</th>\n      <th>x200</th>\n      <th>x201</th>\n      <th>x202</th>\n      <th>x203</th>\n      <th>x204</th>\n      <th>x205</th>\n      <th>x206</th>\n      <th>x207</th>\n      <th>x208</th>\n      <th>x209</th>\n      <th>x210</th>\n      <th>x211</th>\n      <th>x212</th>\n      <th>x213</th>\n      <th>x214</th>\n      <th>x215</th>\n      <th>x216</th>\n      <th>x217</th>\n      <th>x218</th>\n      <th>x219</th>\n      <th>x220</th>\n      <th>x221</th>\n      <th>x222</th>\n      <th>x223</th>\n      <th>x224</th>\n      <th>x225</th>\n      <th>x226</th>\n      <th>x227</th>\n      <th>x228</th>\n      <th>x229</th>\n      <th>x230</th>\n      <th>x231</th>\n      <th>x232</th>\n      <th>x233</th>\n      <th>x234</th>\n      <th>x235</th>\n      <th>x236</th>\n      <th>x237</th>\n      <th>x238</th>\n      <th>x239</th>\n      <th>x240</th>\n      <th>x241</th>\n      <th>x242</th>\n      <th>x243</th>\n      <th>x244</th>\n      <th>x245</th>\n      <th>x246</th>\n      <th>x247</th>\n      <th>x248</th>\n      <th>x249</th>\n      <th>x250</th>\n      <th>x251</th>\n      <th>x252</th>\n      <th>x253</th>\n      <th>x254</th>\n      <th>x255</th>\n      <th>x256</th>\n      <th>x257</th>\n      <th>x258</th>\n      <th>x259</th>\n      <th>x260</th>\n      <th>x261</th>\n      <th>x262</th>\n      <th>x263</th>\n      <th>x264</th>\n      <th>x265</th>\n      <th>x266</th>\n      <th>x267</th>\n      <th>x268</th>\n      <th>x269</th>\n      <th>x270</th>\n      <th>x271</th>\n      <th>x272</th>\n      <th>x273</th>\n      <th>x274</th>\n      <th>x275</th>\n      <th>x276</th>\n    </tr>\n  </thead>\n  <tbody>\n    <tr>\n      <th>0</th>\n      <td>707</td>\n      <td>0</td>\n      <td>56</td>\n      <td>NoDPD</td>\n      <td>NoDPD</td>\n      <td>NoDPD</td>\n      <td>NoDPD</td>\n      <td>NoDPD</td>\n      <td>NoDPD</td>\n      <td>NoDPD</td>\n      <td>Never</td>\n      <td>Never</td>\n      <td>Never</td>\n      <td>Never</td>\n      <td>DPDCurrent</td>\n      <td>DPDCurrent</td>\n      <td>DPDCurrent</td>\n      <td>0</td>\n      <td>0</td>\n      <td>0</td>\n      <td>0</td>\n      <td>0</td>\n      <td>0.0</td>\n      <td>0.0</td>\n      <td>0.0</td>\n      <td>2428.33</td>\n      <td>0.00</td>\n      <td>0</td>\n      <td>0</td>\n      <td>963.02</td>\n      <td>0</td>\n      <td>0</td>\n      <td>0.00</td>\n      <td>1728.33</td>\n      <td>0.00</td>\n      <td>963.02</td>\n      <td>0.00</td>\n      <td>1728.33</td>\n      <td>0.00</td>\n      <td>167.61</td>\n      <td>0.00</td>\n      <td>0.0</td>\n      <td>0.00</td>\n      <td>2272.24</td>\n      <td>0.00</td>\n      <td>0.0</td>\n      <td>0.0</td>\n      <td>0</td>\n      <td>0</td>\n      <td>0.0</td>\n      <td>0</td>\n      <td>0</td>\n      <td>0</td>\n      <td>0</td>\n      <td>0</td>\n      <td>0</td>\n      <td>0</td>\n      <td>0</td>\n      <td>0</td>\n      <td>0</td>\n      <td>0</td>\n      <td>0.0</td>\n      <td>0</td>\n      <td>0.0</td>\n      <td>0.00</td>\n      <td>0.0</td>\n      <td>0.0</td>\n      <td>167.61</td>\n      <td>0.00</td>\n      <td>0.0</td>\n      <td>0.00</td>\n      <td>0.0</td>\n      <td>0.0</td>\n      <td>0.00</td>\n      <td>0.00</td>\n      <td>0.00</td>\n      <td>0.00</td>\n      <td>260.83</td>\n      <td>0.00</td>\n      <td>700.22</td>\n      <td>0.00</td>\n      <td>963.02</td>\n      <td>0.00</td>\n      <td>702.19</td>\n      <td>0.00</td>\n      <td>0.0</td>\n      <td>0.0</td>\n      <td>0.0</td>\n      <td>0.0</td>\n      <td>0.0</td>\n      <td>0.0</td>\n      <td>0.0</td>\n      <td>0.0</td>\n      <td>0.0</td>\n      <td>0.0</td>\n      <td>0.00</td>\n      <td>0.00</td>\n      <td>963.02</td>\n      <td>0.00</td>\n      <td>700.0</td>\n      <td>0</td>\n      <td>0.0</td>\n      <td>0.0</td>\n      <td>543.91</td>\n      <td>0.0</td>\n      <td>0.0</td>\n      <td>0</td>\n      <td>0.00</td>\n      <td>0</td>\n      <td>0</td>\n      <td>0</td>\n      <td>1663.24</td>\n      <td>0</td>\n      <td>0</td>\n      <td>0.00</td>\n      <td>0</td>\n      <td>0.0</td>\n      <td>963.02</td>\n      <td>0.00</td>\n      <td>700.22</td>\n      <td>0.00</td>\n      <td>0</td>\n      <td>0.0</td>\n      <td>0.0</td>\n      <td>963.02</td>\n      <td>0.00</td>\n      <td>0</td>\n      <td>0</td>\n      <td>0</td>\n      <td>0.000000</td>\n      <td>0</td>\n      <td>0</td>\n      <td>1.000000</td>\n      <td>0</td>\n      <td>0</td>\n      <td>0.000000</td>\n      <td>0.000000</td>\n      <td>0.557197</td>\n      <td>0.000000</td>\n      <td>3</td>\n      <td>0</td>\n      <td>0</td>\n      <td>0</td>\n      <td>0</td>\n      <td>0</td>\n      <td>0</td>\n      <td>0</td>\n      <td>0</td>\n      <td>0</td>\n      <td>0</td>\n      <td>0</td>\n      <td>0</td>\n      <td>0</td>\n      <td>0</td>\n      <td>0</td>\n      <td>0</td>\n      <td>0</td>\n      <td>0</td>\n      <td>0</td>\n      <td>0</td>\n      <td>0</td>\n      <td>0</td>\n      <td>0</td>\n      <td>0</td>\n      <td>0</td>\n      <td>0</td>\n      <td>0</td>\n      <td>0</td>\n      <td>0</td>\n      <td>0</td>\n      <td>0</td>\n      <td>0</td>\n      <td>0</td>\n      <td>0</td>\n      <td>0</td>\n      <td>0</td>\n      <td>0</td>\n      <td>0</td>\n      <td>0.000000</td>\n      <td>1</td>\n      <td>0</td>\n      <td>0.000000</td>\n      <td>0.000000</td>\n      <td>0.0</td>\n      <td>Yes</td>\n      <td>20.80</td>\n      <td>2012.6800</td>\n      <td>2001.600</td>\n      <td>5</td>\n      <td>20.80</td>\n      <td>2012.6800</td>\n      <td>2001.600</td>\n      <td>5</td>\n      <td>ÐÐµÐ·ÑÑÐ¾ÑÐµÐ½ ÑÑÑÐ´Ð¾Ð² Ð´Ð¾Ð³Ð¾Ð²Ð¾Ñ</td>\n      <td>01</td>\n      <td>Yes</td>\n      <td>1</td>\n      <td>1</td>\n      <td>807.877778</td>\n      <td>799.0</td>\n      <td>72332009</td>\n      <td>4910</td>\n      <td>0.0</td>\n      <td>0.0</td>\n      <td>0.0</td>\n      <td>1.0</td>\n      <td>7</td>\n      <td>364</td>\n      <td>72</td>\n      <td>364</td>\n      <td>4</td>\n      <td>364</td>\n      <td>49</td>\n      <td>364</td>\n      <td>1</td>\n      <td>1</td>\n      <td>812.316667</td>\n      <td>799.0</td>\n      <td>72332009</td>\n      <td>4910</td>\n      <td>0.0</td>\n      <td>0.0</td>\n      <td>0.0</td>\n      <td>1.0</td>\n      <td>7</td>\n      <td>183</td>\n      <td>72</td>\n      <td>183</td>\n      <td>4</td>\n      <td>183</td>\n      <td>49</td>\n      <td>183</td>\n      <td>1</td>\n      <td>1</td>\n      <td>807.877778</td>\n      <td>799.0</td>\n      <td>72332009</td>\n      <td>4910</td>\n      <td>0.0</td>\n      <td>0.0</td>\n      <td>0.0</td>\n      <td>1.0</td>\n      <td>7</td>\n      <td>91</td>\n      <td>72</td>\n      <td>91</td>\n      <td>4</td>\n      <td>91</td>\n      <td>49</td>\n      <td>91</td>\n      <td>133</td>\n      <td>377</td>\n      <td>3</td>\n      <td>Yes</td>\n      <td>0.0</td>\n      <td>NaN</td>\n      <td>Missing</td>\n      <td>0.0</td>\n      <td>0.0</td>\n      <td>0</td>\n      <td>Missing</td>\n      <td>Missing</td>\n      <td>No</td>\n      <td>2428.33</td>\n      <td>0.00</td>\n      <td>2428.33</td>\n      <td>963.02</td>\n      <td>0.00</td>\n      <td>963.02</td>\n      <td>0.00</td>\n      <td>0.00</td>\n      <td>0.00</td>\n      <td>0.00</td>\n      <td>Íå</td>\n      <td>Äà</td>\n      <td>Íå</td>\n      <td>Äà</td>\n    </tr>\n    <tr>\n      <th>1</th>\n      <td>5740</td>\n      <td>1</td>\n      <td>21</td>\n      <td>NoDPD</td>\n      <td>NoDPD</td>\n      <td>NoDPD</td>\n      <td>NoDPD</td>\n      <td>NoDPD</td>\n      <td>NoDPD</td>\n      <td>NoDPD</td>\n      <td>Never</td>\n      <td>Never</td>\n      <td>Never</td>\n      <td>Never</td>\n      <td>DPDCurrent</td>\n      <td>DPDCurrent</td>\n      <td>DPDCurrent</td>\n      <td>0</td>\n      <td>0</td>\n      <td>0</td>\n      <td>0</td>\n      <td>0</td>\n      <td>0.0</td>\n      <td>0.0</td>\n      <td>0.0</td>\n      <td>0.00</td>\n      <td>2300.00</td>\n      <td>0</td>\n      <td>0</td>\n      <td>0.00</td>\n      <td>0</td>\n      <td>0</td>\n      <td>1277.27</td>\n      <td>0.00</td>\n      <td>800.00</td>\n      <td>0.00</td>\n      <td>777.27</td>\n      <td>0.00</td>\n      <td>800.00</td>\n      <td>0.00</td>\n      <td>169.23</td>\n      <td>0.0</td>\n      <td>0.00</td>\n      <td>0.00</td>\n      <td>1800.00</td>\n      <td>0.0</td>\n      <td>0.0</td>\n      <td>0</td>\n      <td>0</td>\n      <td>0.0</td>\n      <td>0</td>\n      <td>0</td>\n      <td>0</td>\n      <td>0</td>\n      <td>0</td>\n      <td>0</td>\n      <td>0</td>\n      <td>0</td>\n      <td>0</td>\n      <td>0</td>\n      <td>0</td>\n      <td>0.0</td>\n      <td>0</td>\n      <td>0.0</td>\n      <td>0.00</td>\n      <td>0.0</td>\n      <td>0.0</td>\n      <td>0.00</td>\n      <td>169.23</td>\n      <td>0.0</td>\n      <td>0.00</td>\n      <td>0.0</td>\n      <td>0.0</td>\n      <td>0.00</td>\n      <td>0.00</td>\n      <td>0.00</td>\n      <td>0.00</td>\n      <td>0.00</td>\n      <td>0.00</td>\n      <td>0.00</td>\n      <td>856.27</td>\n      <td>0.00</td>\n      <td>1277.27</td>\n      <td>0.00</td>\n      <td>1277.27</td>\n      <td>0.0</td>\n      <td>1500.0</td>\n      <td>0.0</td>\n      <td>500.0</td>\n      <td>0.0</td>\n      <td>1000.0</td>\n      <td>0.0</td>\n      <td>0.0</td>\n      <td>0.0</td>\n      <td>0.0</td>\n      <td>0.00</td>\n      <td>0.00</td>\n      <td>0.00</td>\n      <td>1152.68</td>\n      <td>0.0</td>\n      <td>0</td>\n      <td>0.0</td>\n      <td>0.0</td>\n      <td>0.00</td>\n      <td>0.0</td>\n      <td>0.0</td>\n      <td>0</td>\n      <td>0.00</td>\n      <td>0</td>\n      <td>0</td>\n      <td>0</td>\n      <td>0.00</td>\n      <td>0</td>\n      <td>0</td>\n      <td>2133.54</td>\n      <td>0</td>\n      <td>0.0</td>\n      <td>0.00</td>\n      <td>1277.27</td>\n      <td>0.00</td>\n      <td>856.27</td>\n      <td>0</td>\n      <td>0.0</td>\n      <td>0.0</td>\n      <td>0.00</td>\n      <td>1152.68</td>\n      <td>0</td>\n      <td>0</td>\n      <td>0</td>\n      <td>1.000000</td>\n      <td>0</td>\n      <td>0</td>\n      <td>0.000000</td>\n      <td>0</td>\n      <td>0</td>\n      <td>1.000000</td>\n      <td>1.000000</td>\n      <td>0.000000</td>\n      <td>0.971588</td>\n      <td>0</td>\n      <td>5</td>\n      <td>0</td>\n      <td>0</td>\n      <td>0</td>\n      <td>0</td>\n      <td>0</td>\n      <td>0</td>\n      <td>0</td>\n      <td>0</td>\n      <td>0</td>\n      <td>0</td>\n      <td>0</td>\n      <td>0</td>\n      <td>0</td>\n      <td>0</td>\n      <td>0</td>\n      <td>0</td>\n      <td>0</td>\n      <td>0</td>\n      <td>0</td>\n      <td>0</td>\n      <td>0</td>\n      <td>0</td>\n      <td>0</td>\n      <td>0</td>\n      <td>0</td>\n      <td>0</td>\n      <td>0</td>\n      <td>0</td>\n      <td>0</td>\n      <td>0</td>\n      <td>0</td>\n      <td>0</td>\n      <td>0</td>\n      <td>0</td>\n      <td>0</td>\n      <td>0</td>\n      <td>0</td>\n      <td>1.000000</td>\n      <td>0</td>\n      <td>5</td>\n      <td>0.000000</td>\n      <td>0.000000</td>\n      <td>0.0</td>\n      <td>Yes</td>\n      <td>0.00</td>\n      <td>0.0000</td>\n      <td>0.000</td>\n      <td>0</td>\n      <td>0.00</td>\n      <td>0.0000</td>\n      <td>0.000</td>\n      <td>0</td>\n      <td>Missing</td>\n      <td>Missing</td>\n      <td>No</td>\n      <td>0</td>\n      <td>0</td>\n      <td>0.000000</td>\n      <td>0.0</td>\n      <td>0</td>\n      <td>0</td>\n      <td>0.0</td>\n      <td>0.0</td>\n      <td>0.0</td>\n      <td>0.0</td>\n      <td>0</td>\n      <td>0</td>\n      <td>0</td>\n      <td>0</td>\n      <td>0</td>\n      <td>0</td>\n      <td>0</td>\n      <td>0</td>\n      <td>0</td>\n      <td>0</td>\n      <td>0.000000</td>\n      <td>0.0</td>\n      <td>0</td>\n      <td>0</td>\n      <td>0.0</td>\n      <td>0.0</td>\n      <td>0.0</td>\n      <td>0.0</td>\n      <td>0</td>\n      <td>0</td>\n      <td>0</td>\n      <td>0</td>\n      <td>0</td>\n      <td>0</td>\n      <td>0</td>\n      <td>0</td>\n      <td>0</td>\n      <td>0</td>\n      <td>0.000000</td>\n      <td>0.0</td>\n      <td>0</td>\n      <td>0</td>\n      <td>0.0</td>\n      <td>0.0</td>\n      <td>0.0</td>\n      <td>0.0</td>\n      <td>0</td>\n      <td>0</td>\n      <td>0</td>\n      <td>0</td>\n      <td>0</td>\n      <td>0</td>\n      <td>0</td>\n      <td>0</td>\n      <td>0</td>\n      <td>0</td>\n      <td>0</td>\n      <td>No</td>\n      <td>0.0</td>\n      <td>NaN</td>\n      <td>Missing</td>\n      <td>0.0</td>\n      <td>0.0</td>\n      <td>0</td>\n      <td>Missing</td>\n      <td>Missing</td>\n      <td>No</td>\n      <td>0.00</td>\n      <td>2300.00</td>\n      <td>2300.00</td>\n      <td>0.00</td>\n      <td>1277.27</td>\n      <td>1277.27</td>\n      <td>777.27</td>\n      <td>0.00</td>\n      <td>0.00</td>\n      <td>0.00</td>\n      <td>Äà</td>\n      <td>Íå</td>\n      <td>Íå</td>\n      <td>Íå</td>\n    </tr>\n    <tr>\n      <th>2</th>\n      <td>6646</td>\n      <td>0</td>\n      <td>31</td>\n      <td>NoDPD</td>\n      <td>NoDPD</td>\n      <td>NoDPD</td>\n      <td>NoDPD</td>\n      <td>NoDPD</td>\n      <td>NoDPD</td>\n      <td>NoDPD</td>\n      <td>Never</td>\n      <td>Never</td>\n      <td>Never</td>\n      <td>Never</td>\n      <td>DPDCurrent</td>\n      <td>DPDCurrent</td>\n      <td>DPDCurrent</td>\n      <td>0</td>\n      <td>0</td>\n      <td>0</td>\n      <td>0</td>\n      <td>0</td>\n      <td>0.0</td>\n      <td>0.0</td>\n      <td>0.0</td>\n      <td>8500.00</td>\n      <td>29469.17</td>\n      <td>0</td>\n      <td>0</td>\n      <td>8220.00</td>\n      <td>0</td>\n      <td>0</td>\n      <td>27234.56</td>\n      <td>7000.00</td>\n      <td>29469.17</td>\n      <td>6826.00</td>\n      <td>27234.56</td>\n      <td>7000.00</td>\n      <td>29469.32</td>\n      <td>104.49</td>\n      <td>497.93</td>\n      <td>0.0</td>\n      <td>122.11</td>\n      <td>8473.00</td>\n      <td>29469.32</td>\n      <td>0.0</td>\n      <td>0.0</td>\n      <td>0</td>\n      <td>0</td>\n      <td>0.0</td>\n      <td>0</td>\n      <td>0</td>\n      <td>0</td>\n      <td>0</td>\n      <td>0</td>\n      <td>0</td>\n      <td>0</td>\n      <td>0</td>\n      <td>0</td>\n      <td>0</td>\n      <td>0</td>\n      <td>0.0</td>\n      <td>0</td>\n      <td>0.0</td>\n      <td>0.00</td>\n      <td>0.0</td>\n      <td>0.0</td>\n      <td>134.49</td>\n      <td>497.93</td>\n      <td>7742.0</td>\n      <td>27234.56</td>\n      <td>0.0</td>\n      <td>0.0</td>\n      <td>35.36</td>\n      <td>122.11</td>\n      <td>7612.14</td>\n      <td>26905.12</td>\n      <td>8220.00</td>\n      <td>27234.56</td>\n      <td>22.00</td>\n      <td>0.00</td>\n      <td>8220.00</td>\n      <td>27234.56</td>\n      <td>0.00</td>\n      <td>0.00</td>\n      <td>0.0</td>\n      <td>0.0</td>\n      <td>0.0</td>\n      <td>0.0</td>\n      <td>0.0</td>\n      <td>0.0</td>\n      <td>0.0</td>\n      <td>0.0</td>\n      <td>0.0</td>\n      <td>0.0</td>\n      <td>50.36</td>\n      <td>122.11</td>\n      <td>8075.14</td>\n      <td>26905.12</td>\n      <td>1500.0</td>\n      <td>0</td>\n      <td>1394.0</td>\n      <td>0.0</td>\n      <td>1473.00</td>\n      <td>0.0</td>\n      <td>30.0</td>\n      <td>0</td>\n      <td>50.36</td>\n      <td>0</td>\n      <td>0</td>\n      <td>0</td>\n      <td>8242.00</td>\n      <td>0</td>\n      <td>0</td>\n      <td>27234.56</td>\n      <td>0</td>\n      <td>0.0</td>\n      <td>478.00</td>\n      <td>0.00</td>\n      <td>22.00</td>\n      <td>0.00</td>\n      <td>0</td>\n      <td>15.0</td>\n      <td>0.0</td>\n      <td>463.00</td>\n      <td>0.00</td>\n      <td>0</td>\n      <td>0</td>\n      <td>0</td>\n      <td>0.776134</td>\n      <td>0</td>\n      <td>0</td>\n      <td>0.231846</td>\n      <td>0</td>\n      <td>0</td>\n      <td>0.768154</td>\n      <td>0.768154</td>\n      <td>0.975143</td>\n      <td>0.924167</td>\n      <td>3</td>\n      <td>3</td>\n      <td>0</td>\n      <td>0</td>\n      <td>0</td>\n      <td>0</td>\n      <td>0</td>\n      <td>0</td>\n      <td>0</td>\n      <td>0</td>\n      <td>0</td>\n      <td>0</td>\n      <td>0</td>\n      <td>0</td>\n      <td>0</td>\n      <td>0</td>\n      <td>0</td>\n      <td>0</td>\n      <td>0</td>\n      <td>0</td>\n      <td>0</td>\n      <td>0</td>\n      <td>0</td>\n      <td>0</td>\n      <td>0</td>\n      <td>0</td>\n      <td>0</td>\n      <td>0</td>\n      <td>0</td>\n      <td>0</td>\n      <td>0</td>\n      <td>0</td>\n      <td>0</td>\n      <td>0</td>\n      <td>0</td>\n      <td>0</td>\n      <td>0</td>\n      <td>0</td>\n      <td>0</td>\n      <td>0.787341</td>\n      <td>2</td>\n      <td>1</td>\n      <td>0.004865</td>\n      <td>0.929333</td>\n      <td>0.0</td>\n      <td>Yes</td>\n      <td>20.75</td>\n      <td>1320.4725</td>\n      <td>1321.535</td>\n      <td>4</td>\n      <td>20.75</td>\n      <td>1320.4725</td>\n      <td>1321.535</td>\n      <td>4</td>\n      <td>ÐÐµÐ·ÑÑÐ¾ÑÐµÐ½ ÑÑÑÐ´Ð¾Ð² Ð´Ð¾Ð³Ð¾Ð²Ð¾Ñ</td>\n      <td>01</td>\n      <td>Yes</td>\n      <td>1</td>\n      <td>1</td>\n      <td>557.638889</td>\n      <td>550.0</td>\n      <td>83222006</td>\n      <td>4639</td>\n      <td>0.0</td>\n      <td>0.0</td>\n      <td>0.0</td>\n      <td>1.0</td>\n      <td>8</td>\n      <td>365</td>\n      <td>83</td>\n      <td>365</td>\n      <td>4</td>\n      <td>365</td>\n      <td>46</td>\n      <td>365</td>\n      <td>1</td>\n      <td>1</td>\n      <td>553.055556</td>\n      <td>550.0</td>\n      <td>83222006</td>\n      <td>4639</td>\n      <td>0.0</td>\n      <td>0.0</td>\n      <td>0.0</td>\n      <td>1.0</td>\n      <td>8</td>\n      <td>181</td>\n      <td>83</td>\n      <td>181</td>\n      <td>4</td>\n      <td>181</td>\n      <td>46</td>\n      <td>181</td>\n      <td>1</td>\n      <td>1</td>\n      <td>550.000000</td>\n      <td>550.0</td>\n      <td>83222006</td>\n      <td>4639</td>\n      <td>0.0</td>\n      <td>0.0</td>\n      <td>0.0</td>\n      <td>1.0</td>\n      <td>8</td>\n      <td>90</td>\n      <td>83</td>\n      <td>90</td>\n      <td>4</td>\n      <td>90</td>\n      <td>46</td>\n      <td>90</td>\n      <td>29</td>\n      <td>104</td>\n      <td>4</td>\n      <td>Yes</td>\n      <td>0.0</td>\n      <td>NaN</td>\n      <td>Missing</td>\n      <td>0.0</td>\n      <td>0.0</td>\n      <td>0</td>\n      <td>Missing</td>\n      <td>Missing</td>\n      <td>No</td>\n      <td>8500.00</td>\n      <td>29469.17</td>\n      <td>37969.17</td>\n      <td>8220.00</td>\n      <td>27234.56</td>\n      <td>35454.56</td>\n      <td>27234.56</td>\n      <td>50.36</td>\n      <td>122.11</td>\n      <td>172.47</td>\n      <td>Äà</td>\n      <td>Äà</td>\n      <td>Íå</td>\n      <td>Äà</td>\n    </tr>\n    <tr>\n      <th>3</th>\n      <td>6841</td>\n      <td>0</td>\n      <td>56</td>\n      <td>NoDPD</td>\n      <td>DPD90</td>\n      <td>NoDPD</td>\n      <td>NoDPD</td>\n      <td>NoDPD</td>\n      <td>NoDPD</td>\n      <td>NoDPD</td>\n      <td>Never</td>\n      <td>More24M</td>\n      <td>Never</td>\n      <td>Never</td>\n      <td>DPDCurrent</td>\n      <td>DPDCurrent</td>\n      <td>DPDCurrent</td>\n      <td>0</td>\n      <td>0</td>\n      <td>0</td>\n      <td>0</td>\n      <td>0</td>\n      <td>0.0</td>\n      <td>0.0</td>\n      <td>0.0</td>\n      <td>12660.00</td>\n      <td>0.00</td>\n      <td>0</td>\n      <td>0</td>\n      <td>11392.00</td>\n      <td>0</td>\n      <td>0</td>\n      <td>0.00</td>\n      <td>11660.00</td>\n      <td>0.00</td>\n      <td>10444.00</td>\n      <td>0.00</td>\n      <td>11660.00</td>\n      <td>0.00</td>\n      <td>223.00</td>\n      <td>0.00</td>\n      <td>0.0</td>\n      <td>0.00</td>\n      <td>12603.00</td>\n      <td>0.00</td>\n      <td>0.0</td>\n      <td>0.0</td>\n      <td>0</td>\n      <td>0</td>\n      <td>0.0</td>\n      <td>0</td>\n      <td>0</td>\n      <td>0</td>\n      <td>0</td>\n      <td>0</td>\n      <td>0</td>\n      <td>0</td>\n      <td>0</td>\n      <td>0</td>\n      <td>0</td>\n      <td>0</td>\n      <td>0.0</td>\n      <td>0</td>\n      <td>0.0</td>\n      <td>269.09</td>\n      <td>0.0</td>\n      <td>0.0</td>\n      <td>223.00</td>\n      <td>0.00</td>\n      <td>9523.0</td>\n      <td>0.00</td>\n      <td>0.0</td>\n      <td>0.0</td>\n      <td>0.00</td>\n      <td>0.00</td>\n      <td>9508.00</td>\n      <td>0.00</td>\n      <td>10008.00</td>\n      <td>0.00</td>\n      <td>57.00</td>\n      <td>0.00</td>\n      <td>11392.00</td>\n      <td>0.00</td>\n      <td>1384.00</td>\n      <td>0.00</td>\n      <td>0.0</td>\n      <td>0.0</td>\n      <td>0.0</td>\n      <td>0.0</td>\n      <td>0.0</td>\n      <td>0.0</td>\n      <td>0.0</td>\n      <td>0.0</td>\n      <td>0.0</td>\n      <td>0.0</td>\n      <td>0.00</td>\n      <td>0.00</td>\n      <td>11363.00</td>\n      <td>0.00</td>\n      <td>1000.0</td>\n      <td>0</td>\n      <td>948.0</td>\n      <td>0.0</td>\n      <td>943.00</td>\n      <td>0.0</td>\n      <td>0.0</td>\n      <td>0</td>\n      <td>0.00</td>\n      <td>0</td>\n      <td>0</td>\n      <td>0</td>\n      <td>11449.00</td>\n      <td>0</td>\n      <td>0</td>\n      <td>0.00</td>\n      <td>0</td>\n      <td>0.0</td>\n      <td>1869.00</td>\n      <td>0.00</td>\n      <td>57.00</td>\n      <td>0.00</td>\n      <td>0</td>\n      <td>0.0</td>\n      <td>0.0</td>\n      <td>1855.00</td>\n      <td>0.00</td>\n      <td>0</td>\n      <td>0</td>\n      <td>0</td>\n      <td>0.000000</td>\n      <td>0</td>\n      <td>0</td>\n      <td>1.000000</td>\n      <td>0</td>\n      <td>0</td>\n      <td>0.000000</td>\n      <td>0.000000</td>\n      <td>0.895712</td>\n      <td>0.000000</td>\n      <td>4</td>\n      <td>0</td>\n      <td>0</td>\n      <td>4</td>\n      <td>0</td>\n      <td>0</td>\n      <td>0</td>\n      <td>14</td>\n      <td>0</td>\n      <td>0</td>\n      <td>0</td>\n      <td>0</td>\n      <td>4</td>\n      <td>0</td>\n      <td>0</td>\n      <td>0</td>\n      <td>0</td>\n      <td>0</td>\n      <td>0</td>\n      <td>0</td>\n      <td>0</td>\n      <td>0</td>\n      <td>0</td>\n      <td>0</td>\n      <td>0</td>\n      <td>0</td>\n      <td>0</td>\n      <td>0</td>\n      <td>0</td>\n      <td>0</td>\n      <td>0</td>\n      <td>0</td>\n      <td>0</td>\n      <td>0</td>\n      <td>0</td>\n      <td>0</td>\n      <td>0</td>\n      <td>0</td>\n      <td>0</td>\n      <td>0.000000</td>\n      <td>2</td>\n      <td>0</td>\n      <td>0.000000</td>\n      <td>0.948000</td>\n      <td>0.0</td>\n      <td>Yes</td>\n      <td>21.75</td>\n      <td>1260.1300</td>\n      <td>1317.105</td>\n      <td>4</td>\n      <td>21.75</td>\n      <td>1260.1300</td>\n      <td>1317.105</td>\n      <td>4</td>\n      <td>ÐÐµÐ·ÑÑÐ¾ÑÐµÐ½ ÑÑÑÐ´Ð¾Ð² Ð´Ð¾Ð³Ð¾Ð²Ð¾Ñ</td>\n      <td>01</td>\n      <td>Yes</td>\n      <td>1</td>\n      <td>1</td>\n      <td>586.444444</td>\n      <td>580.0</td>\n      <td>72233006</td>\n      <td>2540</td>\n      <td>0.0</td>\n      <td>0.0</td>\n      <td>0.0</td>\n      <td>1.0</td>\n      <td>7</td>\n      <td>364</td>\n      <td>72</td>\n      <td>364</td>\n      <td>2</td>\n      <td>364</td>\n      <td>25</td>\n      <td>364</td>\n      <td>1</td>\n      <td>1</td>\n      <td>586.444444</td>\n      <td>580.0</td>\n      <td>72233006</td>\n      <td>2540</td>\n      <td>0.0</td>\n      <td>0.0</td>\n      <td>0.0</td>\n      <td>1.0</td>\n      <td>7</td>\n      <td>182</td>\n      <td>72</td>\n      <td>182</td>\n      <td>2</td>\n      <td>182</td>\n      <td>25</td>\n      <td>182</td>\n      <td>1</td>\n      <td>1</td>\n      <td>580.000000</td>\n      <td>580.0</td>\n      <td>72233006</td>\n      <td>2540</td>\n      <td>0.0</td>\n      <td>0.0</td>\n      <td>0.0</td>\n      <td>1.0</td>\n      <td>7</td>\n      <td>90</td>\n      <td>72</td>\n      <td>90</td>\n      <td>2</td>\n      <td>90</td>\n      <td>25</td>\n      <td>90</td>\n      <td>64</td>\n      <td>169</td>\n      <td>4</td>\n      <td>Yes</td>\n      <td>0.0</td>\n      <td>NaN</td>\n      <td>Missing</td>\n      <td>0.0</td>\n      <td>0.0</td>\n      <td>0</td>\n      <td>Missing</td>\n      <td>Missing</td>\n      <td>No</td>\n      <td>12660.00</td>\n      <td>0.00</td>\n      <td>12660.00</td>\n      <td>11392.00</td>\n      <td>0.00</td>\n      <td>11392.00</td>\n      <td>0.00</td>\n      <td>0.00</td>\n      <td>0.00</td>\n      <td>0.00</td>\n      <td>Íå</td>\n      <td>Äà</td>\n      <td>Íå</td>\n      <td>Äà</td>\n    </tr>\n    <tr>\n      <th>4</th>\n      <td>842</td>\n      <td>0</td>\n      <td>34</td>\n      <td>NoDPD</td>\n      <td>NoDPD</td>\n      <td>NoDPD</td>\n      <td>NoDPD</td>\n      <td>NoDPD</td>\n      <td>NoDPD</td>\n      <td>NoDPD</td>\n      <td>Never</td>\n      <td>Never</td>\n      <td>Never</td>\n      <td>Never</td>\n      <td>DPDCurrent</td>\n      <td>DPDCurrent</td>\n      <td>DPDCurrent</td>\n      <td>0</td>\n      <td>0</td>\n      <td>0</td>\n      <td>0</td>\n      <td>0</td>\n      <td>0.0</td>\n      <td>0.0</td>\n      <td>0.0</td>\n      <td>0.00</td>\n      <td>600.00</td>\n      <td>0</td>\n      <td>0</td>\n      <td>0.00</td>\n      <td>0</td>\n      <td>0</td>\n      <td>656.00</td>\n      <td>0.00</td>\n      <td>600.00</td>\n      <td>0.00</td>\n      <td>656.00</td>\n      <td>0.00</td>\n      <td>600.00</td>\n      <td>0.00</td>\n      <td>163.00</td>\n      <td>0.0</td>\n      <td>107.00</td>\n      <td>0.00</td>\n      <td>600.00</td>\n      <td>0.0</td>\n      <td>0.0</td>\n      <td>0</td>\n      <td>0</td>\n      <td>0.0</td>\n      <td>0</td>\n      <td>0</td>\n      <td>0</td>\n      <td>0</td>\n      <td>0</td>\n      <td>0</td>\n      <td>0</td>\n      <td>0</td>\n      <td>0</td>\n      <td>0</td>\n      <td>0</td>\n      <td>0.0</td>\n      <td>0</td>\n      <td>0.0</td>\n      <td>0.00</td>\n      <td>0.0</td>\n      <td>0.0</td>\n      <td>0.00</td>\n      <td>163.00</td>\n      <td>0.0</td>\n      <td>0.00</td>\n      <td>0.0</td>\n      <td>0.0</td>\n      <td>0.00</td>\n      <td>0.00</td>\n      <td>0.00</td>\n      <td>0.00</td>\n      <td>0.00</td>\n      <td>0.00</td>\n      <td>0.00</td>\n      <td>0.00</td>\n      <td>0.00</td>\n      <td>656.00</td>\n      <td>0.00</td>\n      <td>656.00</td>\n      <td>0.0</td>\n      <td>0.0</td>\n      <td>0.0</td>\n      <td>0.0</td>\n      <td>0.0</td>\n      <td>0.0</td>\n      <td>0.0</td>\n      <td>0.0</td>\n      <td>0.0</td>\n      <td>0.0</td>\n      <td>0.00</td>\n      <td>107.00</td>\n      <td>0.00</td>\n      <td>493.00</td>\n      <td>0.0</td>\n      <td>0</td>\n      <td>0.0</td>\n      <td>0.0</td>\n      <td>0.00</td>\n      <td>0.0</td>\n      <td>0.0</td>\n      <td>0</td>\n      <td>0.00</td>\n      <td>0</td>\n      <td>0</td>\n      <td>0</td>\n      <td>0.00</td>\n      <td>0</td>\n      <td>0</td>\n      <td>656.00</td>\n      <td>0</td>\n      <td>0.0</td>\n      <td>0.00</td>\n      <td>656.00</td>\n      <td>0.00</td>\n      <td>0.00</td>\n      <td>0</td>\n      <td>0.0</td>\n      <td>107.0</td>\n      <td>0.00</td>\n      <td>493.00</td>\n      <td>0</td>\n      <td>0</td>\n      <td>0</td>\n      <td>1.000000</td>\n      <td>0</td>\n      <td>0</td>\n      <td>0.000000</td>\n      <td>0</td>\n      <td>0</td>\n      <td>1.000000</td>\n      <td>1.000000</td>\n      <td>0.000000</td>\n      <td>1.093333</td>\n      <td>0</td>\n      <td>1</td>\n      <td>0</td>\n      <td>0</td>\n      <td>0</td>\n      <td>0</td>\n      <td>0</td>\n      <td>0</td>\n      <td>0</td>\n      <td>0</td>\n      <td>0</td>\n      <td>0</td>\n      <td>0</td>\n      <td>0</td>\n      <td>0</td>\n      <td>0</td>\n      <td>0</td>\n      <td>0</td>\n      <td>0</td>\n      <td>0</td>\n      <td>0</td>\n      <td>0</td>\n      <td>0</td>\n      <td>0</td>\n      <td>0</td>\n      <td>0</td>\n      <td>0</td>\n      <td>0</td>\n      <td>0</td>\n      <td>0</td>\n      <td>0</td>\n      <td>0</td>\n      <td>0</td>\n      <td>0</td>\n      <td>0</td>\n      <td>0</td>\n      <td>0</td>\n      <td>0</td>\n      <td>0</td>\n      <td>1.000000</td>\n      <td>0</td>\n      <td>1</td>\n      <td>0.163110</td>\n      <td>0.000000</td>\n      <td>0.0</td>\n      <td>Yes</td>\n      <td>0.00</td>\n      <td>0.0000</td>\n      <td>0.000</td>\n      <td>0</td>\n      <td>0.00</td>\n      <td>0.0000</td>\n      <td>0.000</td>\n      <td>0</td>\n      <td>Missing</td>\n      <td>Missing</td>\n      <td>No</td>\n      <td>0</td>\n      <td>0</td>\n      <td>0.000000</td>\n      <td>0.0</td>\n      <td>0</td>\n      <td>0</td>\n      <td>0.0</td>\n      <td>0.0</td>\n      <td>0.0</td>\n      <td>0.0</td>\n      <td>0</td>\n      <td>0</td>\n      <td>0</td>\n      <td>0</td>\n      <td>0</td>\n      <td>0</td>\n      <td>0</td>\n      <td>0</td>\n      <td>0</td>\n      <td>0</td>\n      <td>0.000000</td>\n      <td>0.0</td>\n      <td>0</td>\n      <td>0</td>\n      <td>0.0</td>\n      <td>0.0</td>\n      <td>0.0</td>\n      <td>0.0</td>\n      <td>0</td>\n      <td>0</td>\n      <td>0</td>\n      <td>0</td>\n      <td>0</td>\n      <td>0</td>\n      <td>0</td>\n      <td>0</td>\n      <td>0</td>\n      <td>0</td>\n      <td>0.000000</td>\n      <td>0.0</td>\n      <td>0</td>\n      <td>0</td>\n      <td>0.0</td>\n      <td>0.0</td>\n      <td>0.0</td>\n      <td>0.0</td>\n      <td>0</td>\n      <td>0</td>\n      <td>0</td>\n      <td>0</td>\n      <td>0</td>\n      <td>0</td>\n      <td>0</td>\n      <td>0</td>\n      <td>0</td>\n      <td>0</td>\n      <td>0</td>\n      <td>No</td>\n      <td>0.0</td>\n      <td>NaN</td>\n      <td>Missing</td>\n      <td>0.0</td>\n      <td>0.0</td>\n      <td>0</td>\n      <td>Missing</td>\n      <td>Missing</td>\n      <td>No</td>\n      <td>0.00</td>\n      <td>600.00</td>\n      <td>600.00</td>\n      <td>0.00</td>\n      <td>656.00</td>\n      <td>656.00</td>\n      <td>656.00</td>\n      <td>0.00</td>\n      <td>107.00</td>\n      <td>107.00</td>\n      <td>Äà</td>\n      <td>Íå</td>\n      <td>Íå</td>\n      <td>Íå</td>\n    </tr>\n  </tbody>\n</table>\n</div>"
          },
          "metadata": {},
          "execution_count": 10
        }
      ],
      "source": [
        "df_train.head()"
      ]
    },
    {
      "cell_type": "code",
      "execution_count": 11,
      "metadata": {},
      "outputs": [
        {
          "output_type": "display_data",
          "data": {
            "text/plain": "<Figure size 432x432 with 1 Axes>",
            "image/svg+xml": "<?xml version=\"1.0\" encoding=\"utf-8\" standalone=\"no\"?>\n<!DOCTYPE svg PUBLIC \"-//W3C//DTD SVG 1.1//EN\"\n  \"http://www.w3.org/Graphics/SVG/1.1/DTD/svg11.dtd\">\n<svg xmlns:xlink=\"http://www.w3.org/1999/xlink\" width=\"354.238125pt\" height=\"340.56pt\" viewBox=\"0 0 354.238125 340.56\" xmlns=\"http://www.w3.org/2000/svg\" version=\"1.1\">\n <metadata>\n  <rdf:RDF xmlns:dc=\"http://purl.org/dc/elements/1.1/\" xmlns:cc=\"http://creativecommons.org/ns#\" xmlns:rdf=\"http://www.w3.org/1999/02/22-rdf-syntax-ns#\">\n   <cc:Work>\n    <dc:type rdf:resource=\"http://purl.org/dc/dcmitype/StillImage\"/>\n    <dc:date>2024-02-21T20:09:34.665842</dc:date>\n    <dc:format>image/svg+xml</dc:format>\n    <dc:creator>\n     <cc:Agent>\n      <dc:title>Matplotlib v3.5.1, https://matplotlib.org/</dc:title>\n     </cc:Agent>\n    </dc:creator>\n   </cc:Work>\n  </rdf:RDF>\n </metadata>\n <defs>\n  <style type=\"text/css\">*{stroke-linejoin: round; stroke-linecap: butt}</style>\n </defs>\n <g id=\"figure_1\">\n  <g id=\"patch_1\">\n   <path d=\"M 0 340.56 \nL 354.238125 340.56 \nL 354.238125 0 \nL 0 0 \nL 0 340.56 \nz\n\" style=\"fill: none\"/>\n  </g>\n  <g id=\"axes_1\">\n   <g id=\"patch_2\">\n    <path d=\"M 311.812845 172.88928 \nC 311.812845 157.716795 309.166089 142.659959 303.991803 128.397033 \nC 298.817518 114.134107 291.194584 100.882522 281.466388 89.239218 \nC 271.738193 77.595915 260.053038 67.738391 246.937302 60.110694 \nC 233.821566 52.482997 219.475192 47.201408 204.544437 44.503845 \nC 189.613682 41.806283 174.326158 41.73387 159.370518 44.289869 \nC 144.414878 46.845868 130.019114 51.991314 116.831708 59.49442 \nC 103.644301 66.997526 91.866288 76.743913 82.02823 88.294536 \nC 72.190171 99.845159 64.442044 113.023936 59.132875 127.237205 \nC 53.823706 141.450474 51.034432 156.481561 50.890699 171.653365 \nC 50.746967 186.825169 53.250968 201.906403 58.289905 216.217706 \nC 63.328842 230.52901 70.825899 243.852214 80.443358 255.587152 \nC 90.060817 267.32209 101.652065 277.289869 114.694954 285.041472 \nC 127.737842 292.793075 142.033539 298.210333 156.93807 301.049217 \nC 171.8426 303.8881 187.128753 304.105332 202.107935 301.691126 \nC 217.087117 299.27692 231.530979 294.26808 244.788872 286.890237 \nC 258.046766 279.512395 269.91658 269.878021 279.863618 258.421114 \nL 181.348845 172.88928 \nL 311.812845 172.88928 \nz\n\" style=\"fill: #092436; opacity: 0.5; stroke: #092436; stroke-linejoin: miter\"/>\n   </g>\n   <g id=\"patch_3\">\n    <path d=\"M 292.085216 262.986322 \nC 302.304437 251.215917 310.331969 237.708749 315.786413 223.106559 \nC 321.240858 208.504369 324.034443 193.042134 324.034442 177.454481 \nL 193.570442 177.454487 \nL 292.085216 262.986322 \nz\n\" style=\"fill: #4c2604; opacity: 0.5; stroke: #4c2604; stroke-linejoin: miter\"/>\n   </g>\n   <g id=\"patch_4\">\n    <path d=\"M 314.422125 170.28 \nC 314.422125 155.107515 311.775369 140.050679 306.601083 125.787753 \nC 301.426798 111.524827 293.803864 98.273242 284.075668 86.629938 \nC 274.347473 74.986635 262.662318 65.129111 249.546582 57.501414 \nC 236.430846 49.873717 222.084472 44.592128 207.153717 41.894565 \nC 192.222962 39.197003 176.935438 39.12459 161.979798 41.680589 \nC 147.024158 44.236588 132.628394 49.382034 119.440988 56.88514 \nC 106.253581 64.388246 94.475568 74.134633 84.63751 85.685256 \nC 74.799451 97.235879 67.051324 110.414656 61.742155 124.627925 \nC 56.432986 138.841194 53.643712 153.872281 53.499979 169.044085 \nC 53.356247 184.215889 55.860248 199.297123 60.899185 213.608426 \nC 65.938122 227.91973 73.435179 241.242934 83.052638 252.977872 \nC 92.670097 264.71281 104.261345 274.680589 117.304234 282.432192 \nC 130.347122 290.183795 144.642819 295.601053 159.54735 298.439937 \nC 174.45188 301.27882 189.738033 301.496052 204.717215 299.081846 \nC 219.696397 296.66764 234.140259 291.6588 247.398152 284.280957 \nC 260.656046 276.903115 272.52586 267.268741 282.472898 255.811834 \nL 183.958125 170.28 \nL 314.422125 170.28 \nz\n\" style=\"fill: #1f77b4\"/>\n   </g>\n   <g id=\"patch_5\">\n    <path d=\"M 294.694496 260.377042 \nC 304.913717 248.606637 312.941249 235.099469 318.395693 220.497279 \nC 323.850138 205.895089 326.643723 190.432854 326.643722 174.845201 \nL 196.179722 174.845207 \nL 294.694496 260.377042 \nz\n\" style=\"fill: #ff7f0e\"/>\n   </g>\n   <g id=\"matplotlib.axis_1\"/>\n   <g id=\"matplotlib.axis_2\">\n    <g id=\"text_1\">\n     <!-- Loan: Fully Paid Vs. Not Fully Paid -->\n     <g transform=\"translate(14.798438 253.712031)rotate(-90)scale(0.1 -0.1)\">\n      <defs>\n       <path id=\"DejaVuSans-4c\" d=\"M 628 4666 \nL 1259 4666 \nL 1259 531 \nL 3531 531 \nL 3531 0 \nL 628 0 \nL 628 4666 \nz\n\" transform=\"scale(0.015625)\"/>\n       <path id=\"DejaVuSans-6f\" d=\"M 1959 3097 \nQ 1497 3097 1228 2736 \nQ 959 2375 959 1747 \nQ 959 1119 1226 758 \nQ 1494 397 1959 397 \nQ 2419 397 2687 759 \nQ 2956 1122 2956 1747 \nQ 2956 2369 2687 2733 \nQ 2419 3097 1959 3097 \nz\nM 1959 3584 \nQ 2709 3584 3137 3096 \nQ 3566 2609 3566 1747 \nQ 3566 888 3137 398 \nQ 2709 -91 1959 -91 \nQ 1206 -91 779 398 \nQ 353 888 353 1747 \nQ 353 2609 779 3096 \nQ 1206 3584 1959 3584 \nz\n\" transform=\"scale(0.015625)\"/>\n       <path id=\"DejaVuSans-61\" d=\"M 2194 1759 \nQ 1497 1759 1228 1600 \nQ 959 1441 959 1056 \nQ 959 750 1161 570 \nQ 1363 391 1709 391 \nQ 2188 391 2477 730 \nQ 2766 1069 2766 1631 \nL 2766 1759 \nL 2194 1759 \nz\nM 3341 1997 \nL 3341 0 \nL 2766 0 \nL 2766 531 \nQ 2569 213 2275 61 \nQ 1981 -91 1556 -91 \nQ 1019 -91 701 211 \nQ 384 513 384 1019 \nQ 384 1609 779 1909 \nQ 1175 2209 1959 2209 \nL 2766 2209 \nL 2766 2266 \nQ 2766 2663 2505 2880 \nQ 2244 3097 1772 3097 \nQ 1472 3097 1187 3025 \nQ 903 2953 641 2809 \nL 641 3341 \nQ 956 3463 1253 3523 \nQ 1550 3584 1831 3584 \nQ 2591 3584 2966 3190 \nQ 3341 2797 3341 1997 \nz\n\" transform=\"scale(0.015625)\"/>\n       <path id=\"DejaVuSans-6e\" d=\"M 3513 2113 \nL 3513 0 \nL 2938 0 \nL 2938 2094 \nQ 2938 2591 2744 2837 \nQ 2550 3084 2163 3084 \nQ 1697 3084 1428 2787 \nQ 1159 2491 1159 1978 \nL 1159 0 \nL 581 0 \nL 581 3500 \nL 1159 3500 \nL 1159 2956 \nQ 1366 3272 1645 3428 \nQ 1925 3584 2291 3584 \nQ 2894 3584 3203 3211 \nQ 3513 2838 3513 2113 \nz\n\" transform=\"scale(0.015625)\"/>\n       <path id=\"DejaVuSans-3a\" d=\"M 750 794 \nL 1409 794 \nL 1409 0 \nL 750 0 \nL 750 794 \nz\nM 750 3309 \nL 1409 3309 \nL 1409 2516 \nL 750 2516 \nL 750 3309 \nz\n\" transform=\"scale(0.015625)\"/>\n       <path id=\"DejaVuSans-20\" transform=\"scale(0.015625)\"/>\n       <path id=\"DejaVuSans-46\" d=\"M 628 4666 \nL 3309 4666 \nL 3309 4134 \nL 1259 4134 \nL 1259 2759 \nL 3109 2759 \nL 3109 2228 \nL 1259 2228 \nL 1259 0 \nL 628 0 \nL 628 4666 \nz\n\" transform=\"scale(0.015625)\"/>\n       <path id=\"DejaVuSans-75\" d=\"M 544 1381 \nL 544 3500 \nL 1119 3500 \nL 1119 1403 \nQ 1119 906 1312 657 \nQ 1506 409 1894 409 \nQ 2359 409 2629 706 \nQ 2900 1003 2900 1516 \nL 2900 3500 \nL 3475 3500 \nL 3475 0 \nL 2900 0 \nL 2900 538 \nQ 2691 219 2414 64 \nQ 2138 -91 1772 -91 \nQ 1169 -91 856 284 \nQ 544 659 544 1381 \nz\nM 1991 3584 \nL 1991 3584 \nz\n\" transform=\"scale(0.015625)\"/>\n       <path id=\"DejaVuSans-6c\" d=\"M 603 4863 \nL 1178 4863 \nL 1178 0 \nL 603 0 \nL 603 4863 \nz\n\" transform=\"scale(0.015625)\"/>\n       <path id=\"DejaVuSans-79\" d=\"M 2059 -325 \nQ 1816 -950 1584 -1140 \nQ 1353 -1331 966 -1331 \nL 506 -1331 \nL 506 -850 \nL 844 -850 \nQ 1081 -850 1212 -737 \nQ 1344 -625 1503 -206 \nL 1606 56 \nL 191 3500 \nL 800 3500 \nL 1894 763 \nL 2988 3500 \nL 3597 3500 \nL 2059 -325 \nz\n\" transform=\"scale(0.015625)\"/>\n       <path id=\"DejaVuSans-50\" d=\"M 1259 4147 \nL 1259 2394 \nL 2053 2394 \nQ 2494 2394 2734 2622 \nQ 2975 2850 2975 3272 \nQ 2975 3691 2734 3919 \nQ 2494 4147 2053 4147 \nL 1259 4147 \nz\nM 628 4666 \nL 2053 4666 \nQ 2838 4666 3239 4311 \nQ 3641 3956 3641 3272 \nQ 3641 2581 3239 2228 \nQ 2838 1875 2053 1875 \nL 1259 1875 \nL 1259 0 \nL 628 0 \nL 628 4666 \nz\n\" transform=\"scale(0.015625)\"/>\n       <path id=\"DejaVuSans-69\" d=\"M 603 3500 \nL 1178 3500 \nL 1178 0 \nL 603 0 \nL 603 3500 \nz\nM 603 4863 \nL 1178 4863 \nL 1178 4134 \nL 603 4134 \nL 603 4863 \nz\n\" transform=\"scale(0.015625)\"/>\n       <path id=\"DejaVuSans-64\" d=\"M 2906 2969 \nL 2906 4863 \nL 3481 4863 \nL 3481 0 \nL 2906 0 \nL 2906 525 \nQ 2725 213 2448 61 \nQ 2172 -91 1784 -91 \nQ 1150 -91 751 415 \nQ 353 922 353 1747 \nQ 353 2572 751 3078 \nQ 1150 3584 1784 3584 \nQ 2172 3584 2448 3432 \nQ 2725 3281 2906 2969 \nz\nM 947 1747 \nQ 947 1113 1208 752 \nQ 1469 391 1925 391 \nQ 2381 391 2643 752 \nQ 2906 1113 2906 1747 \nQ 2906 2381 2643 2742 \nQ 2381 3103 1925 3103 \nQ 1469 3103 1208 2742 \nQ 947 2381 947 1747 \nz\n\" transform=\"scale(0.015625)\"/>\n       <path id=\"DejaVuSans-56\" d=\"M 1831 0 \nL 50 4666 \nL 709 4666 \nL 2188 738 \nL 3669 4666 \nL 4325 4666 \nL 2547 0 \nL 1831 0 \nz\n\" transform=\"scale(0.015625)\"/>\n       <path id=\"DejaVuSans-73\" d=\"M 2834 3397 \nL 2834 2853 \nQ 2591 2978 2328 3040 \nQ 2066 3103 1784 3103 \nQ 1356 3103 1142 2972 \nQ 928 2841 928 2578 \nQ 928 2378 1081 2264 \nQ 1234 2150 1697 2047 \nL 1894 2003 \nQ 2506 1872 2764 1633 \nQ 3022 1394 3022 966 \nQ 3022 478 2636 193 \nQ 2250 -91 1575 -91 \nQ 1294 -91 989 -36 \nQ 684 19 347 128 \nL 347 722 \nQ 666 556 975 473 \nQ 1284 391 1588 391 \nQ 1994 391 2212 530 \nQ 2431 669 2431 922 \nQ 2431 1156 2273 1281 \nQ 2116 1406 1581 1522 \nL 1381 1569 \nQ 847 1681 609 1914 \nQ 372 2147 372 2553 \nQ 372 3047 722 3315 \nQ 1072 3584 1716 3584 \nQ 2034 3584 2315 3537 \nQ 2597 3491 2834 3397 \nz\n\" transform=\"scale(0.015625)\"/>\n       <path id=\"DejaVuSans-2e\" d=\"M 684 794 \nL 1344 794 \nL 1344 0 \nL 684 0 \nL 684 794 \nz\n\" transform=\"scale(0.015625)\"/>\n       <path id=\"DejaVuSans-4e\" d=\"M 628 4666 \nL 1478 4666 \nL 3547 763 \nL 3547 4666 \nL 4159 4666 \nL 4159 0 \nL 3309 0 \nL 1241 3903 \nL 1241 0 \nL 628 0 \nL 628 4666 \nz\n\" transform=\"scale(0.015625)\"/>\n       <path id=\"DejaVuSans-74\" d=\"M 1172 4494 \nL 1172 3500 \nL 2356 3500 \nL 2356 3053 \nL 1172 3053 \nL 1172 1153 \nQ 1172 725 1289 603 \nQ 1406 481 1766 481 \nL 2356 481 \nL 2356 0 \nL 1766 0 \nQ 1100 0 847 248 \nQ 594 497 594 1153 \nL 594 3053 \nL 172 3053 \nL 172 3500 \nL 594 3500 \nL 594 4494 \nL 1172 4494 \nz\n\" transform=\"scale(0.015625)\"/>\n      </defs>\n      <use xlink:href=\"#DejaVuSans-4c\"/>\n      <use xlink:href=\"#DejaVuSans-6f\" x=\"53.962891\"/>\n      <use xlink:href=\"#DejaVuSans-61\" x=\"115.144531\"/>\n      <use xlink:href=\"#DejaVuSans-6e\" x=\"176.423828\"/>\n      <use xlink:href=\"#DejaVuSans-3a\" x=\"239.802734\"/>\n      <use xlink:href=\"#DejaVuSans-20\" x=\"273.494141\"/>\n      <use xlink:href=\"#DejaVuSans-46\" x=\"305.28125\"/>\n      <use xlink:href=\"#DejaVuSans-75\" x=\"357.300781\"/>\n      <use xlink:href=\"#DejaVuSans-6c\" x=\"420.679688\"/>\n      <use xlink:href=\"#DejaVuSans-6c\" x=\"448.462891\"/>\n      <use xlink:href=\"#DejaVuSans-79\" x=\"476.246094\"/>\n      <use xlink:href=\"#DejaVuSans-20\" x=\"535.425781\"/>\n      <use xlink:href=\"#DejaVuSans-50\" x=\"567.212891\"/>\n      <use xlink:href=\"#DejaVuSans-61\" x=\"623.015625\"/>\n      <use xlink:href=\"#DejaVuSans-69\" x=\"684.294922\"/>\n      <use xlink:href=\"#DejaVuSans-64\" x=\"712.078125\"/>\n      <use xlink:href=\"#DejaVuSans-20\" x=\"775.554688\"/>\n      <use xlink:href=\"#DejaVuSans-56\" x=\"807.341797\"/>\n      <use xlink:href=\"#DejaVuSans-73\" x=\"875.75\"/>\n      <use xlink:href=\"#DejaVuSans-2e\" x=\"927.849609\"/>\n      <use xlink:href=\"#DejaVuSans-20\" x=\"959.636719\"/>\n      <use xlink:href=\"#DejaVuSans-4e\" x=\"991.423828\"/>\n      <use xlink:href=\"#DejaVuSans-6f\" x=\"1066.228516\"/>\n      <use xlink:href=\"#DejaVuSans-74\" x=\"1127.410156\"/>\n      <use xlink:href=\"#DejaVuSans-20\" x=\"1166.619141\"/>\n      <use xlink:href=\"#DejaVuSans-46\" x=\"1198.40625\"/>\n      <use xlink:href=\"#DejaVuSans-75\" x=\"1250.425781\"/>\n      <use xlink:href=\"#DejaVuSans-6c\" x=\"1313.804688\"/>\n      <use xlink:href=\"#DejaVuSans-6c\" x=\"1341.587891\"/>\n      <use xlink:href=\"#DejaVuSans-79\" x=\"1369.371094\"/>\n      <use xlink:href=\"#DejaVuSans-20\" x=\"1428.550781\"/>\n      <use xlink:href=\"#DejaVuSans-50\" x=\"1460.337891\"/>\n      <use xlink:href=\"#DejaVuSans-61\" x=\"1516.140625\"/>\n      <use xlink:href=\"#DejaVuSans-69\" x=\"1577.419922\"/>\n      <use xlink:href=\"#DejaVuSans-64\" x=\"1605.203125\"/>\n     </g>\n    </g>\n   </g>\n   <g id=\"text_2\">\n    <!-- 0 -->\n    <g transform=\"translate(43.158058 122.822093)scale(0.1 -0.1)\">\n     <defs>\n      <path id=\"DejaVuSans-30\" d=\"M 2034 4250 \nQ 1547 4250 1301 3770 \nQ 1056 3291 1056 2328 \nQ 1056 1369 1301 889 \nQ 1547 409 2034 409 \nQ 2525 409 2770 889 \nQ 3016 1369 3016 2328 \nQ 3016 3291 2770 3770 \nQ 2525 4250 2034 4250 \nz\nM 2034 4750 \nQ 2819 4750 3233 4129 \nQ 3647 3509 3647 2328 \nQ 3647 1150 3233 529 \nQ 2819 -91 2034 -91 \nQ 1250 -91 836 529 \nQ 422 1150 422 2328 \nQ 422 3509 836 4129 \nQ 1250 4750 2034 4750 \nz\n\" transform=\"scale(0.015625)\"/>\n     </defs>\n     <use xlink:href=\"#DejaVuSans-30\"/>\n    </g>\n   </g>\n   <g id=\"text_3\">\n    <!-- 88.6% -->\n    <g transform=\"translate(94.744949 145.64813)scale(0.1 -0.1)\">\n     <defs>\n      <path id=\"DejaVuSans-38\" d=\"M 2034 2216 \nQ 1584 2216 1326 1975 \nQ 1069 1734 1069 1313 \nQ 1069 891 1326 650 \nQ 1584 409 2034 409 \nQ 2484 409 2743 651 \nQ 3003 894 3003 1313 \nQ 3003 1734 2745 1975 \nQ 2488 2216 2034 2216 \nz\nM 1403 2484 \nQ 997 2584 770 2862 \nQ 544 3141 544 3541 \nQ 544 4100 942 4425 \nQ 1341 4750 2034 4750 \nQ 2731 4750 3128 4425 \nQ 3525 4100 3525 3541 \nQ 3525 3141 3298 2862 \nQ 3072 2584 2669 2484 \nQ 3125 2378 3379 2068 \nQ 3634 1759 3634 1313 \nQ 3634 634 3220 271 \nQ 2806 -91 2034 -91 \nQ 1263 -91 848 271 \nQ 434 634 434 1313 \nQ 434 1759 690 2068 \nQ 947 2378 1403 2484 \nz\nM 1172 3481 \nQ 1172 3119 1398 2916 \nQ 1625 2713 2034 2713 \nQ 2441 2713 2670 2916 \nQ 2900 3119 2900 3481 \nQ 2900 3844 2670 4047 \nQ 2441 4250 2034 4250 \nQ 1625 4250 1398 4047 \nQ 1172 3844 1172 3481 \nz\n\" transform=\"scale(0.015625)\"/>\n      <path id=\"DejaVuSans-36\" d=\"M 2113 2584 \nQ 1688 2584 1439 2293 \nQ 1191 2003 1191 1497 \nQ 1191 994 1439 701 \nQ 1688 409 2113 409 \nQ 2538 409 2786 701 \nQ 3034 994 3034 1497 \nQ 3034 2003 2786 2293 \nQ 2538 2584 2113 2584 \nz\nM 3366 4563 \nL 3366 3988 \nQ 3128 4100 2886 4159 \nQ 2644 4219 2406 4219 \nQ 1781 4219 1451 3797 \nQ 1122 3375 1075 2522 \nQ 1259 2794 1537 2939 \nQ 1816 3084 2150 3084 \nQ 2853 3084 3261 2657 \nQ 3669 2231 3669 1497 \nQ 3669 778 3244 343 \nQ 2819 -91 2113 -91 \nQ 1303 -91 875 529 \nQ 447 1150 447 2328 \nQ 447 3434 972 4092 \nQ 1497 4750 2381 4750 \nQ 2619 4750 2861 4703 \nQ 3103 4656 3366 4563 \nz\n\" transform=\"scale(0.015625)\"/>\n      <path id=\"DejaVuSans-25\" d=\"M 4653 2053 \nQ 4381 2053 4226 1822 \nQ 4072 1591 4072 1178 \nQ 4072 772 4226 539 \nQ 4381 306 4653 306 \nQ 4919 306 5073 539 \nQ 5228 772 5228 1178 \nQ 5228 1588 5073 1820 \nQ 4919 2053 4653 2053 \nz\nM 4653 2450 \nQ 5147 2450 5437 2106 \nQ 5728 1763 5728 1178 \nQ 5728 594 5436 251 \nQ 5144 -91 4653 -91 \nQ 4153 -91 3862 251 \nQ 3572 594 3572 1178 \nQ 3572 1766 3864 2108 \nQ 4156 2450 4653 2450 \nz\nM 1428 4353 \nQ 1159 4353 1004 4120 \nQ 850 3888 850 3481 \nQ 850 3069 1003 2837 \nQ 1156 2606 1428 2606 \nQ 1700 2606 1854 2837 \nQ 2009 3069 2009 3481 \nQ 2009 3884 1853 4118 \nQ 1697 4353 1428 4353 \nz\nM 4250 4750 \nL 4750 4750 \nL 1831 -91 \nL 1331 -91 \nL 4250 4750 \nz\nM 1428 4750 \nQ 1922 4750 2215 4408 \nQ 2509 4066 2509 3481 \nQ 2509 2891 2217 2550 \nQ 1925 2209 1428 2209 \nQ 931 2209 642 2551 \nQ 353 2894 353 3481 \nQ 353 4063 643 4406 \nQ 934 4750 1428 4750 \nz\n\" transform=\"scale(0.015625)\"/>\n     </defs>\n     <use xlink:href=\"#DejaVuSans-38\"/>\n     <use xlink:href=\"#DejaVuSans-38\" x=\"63.623047\"/>\n     <use xlink:href=\"#DejaVuSans-2e\" x=\"127.246094\"/>\n     <use xlink:href=\"#DejaVuSans-36\" x=\"159.033203\"/>\n     <use xlink:href=\"#DejaVuSans-25\" x=\"222.65625\"/>\n    </g>\n   </g>\n   <g id=\"text_4\">\n    <!-- 1 -->\n    <g transform=\"translate(330.61729 227.821861)scale(0.1 -0.1)\">\n     <defs>\n      <path id=\"DejaVuSans-31\" d=\"M 794 531 \nL 1825 531 \nL 1825 4091 \nL 703 3866 \nL 703 4441 \nL 1819 4666 \nL 2450 4666 \nL 2450 531 \nL 3481 531 \nL 3481 0 \nL 794 0 \nL 794 531 \nz\n\" transform=\"scale(0.015625)\"/>\n     </defs>\n     <use xlink:href=\"#DejaVuSans-31\"/>\n    </g>\n   </g>\n   <g id=\"text_5\">\n    <!-- 11.4% -->\n    <g transform=\"translate(253.625711 204.995825)scale(0.1 -0.1)\">\n     <defs>\n      <path id=\"DejaVuSans-34\" d=\"M 2419 4116 \nL 825 1625 \nL 2419 1625 \nL 2419 4116 \nz\nM 2253 4666 \nL 3047 4666 \nL 3047 1625 \nL 3713 1625 \nL 3713 1100 \nL 3047 1100 \nL 3047 0 \nL 2419 0 \nL 2419 1100 \nL 313 1100 \nL 313 1709 \nL 2253 4666 \nz\n\" transform=\"scale(0.015625)\"/>\n     </defs>\n     <use xlink:href=\"#DejaVuSans-31\"/>\n     <use xlink:href=\"#DejaVuSans-31\" x=\"63.623047\"/>\n     <use xlink:href=\"#DejaVuSans-2e\" x=\"127.246094\"/>\n     <use xlink:href=\"#DejaVuSans-34\" x=\"159.033203\"/>\n     <use xlink:href=\"#DejaVuSans-25\" x=\"222.65625\"/>\n    </g>\n   </g>\n   <g id=\"legend_1\">\n    <g id=\"patch_6\">\n     <path d=\"M 240.313125 44.55625 \nL 340.038125 44.55625 \nQ 342.038125 44.55625 342.038125 42.55625 \nL 342.038125 14.2 \nQ 342.038125 12.2 340.038125 12.2 \nL 240.313125 12.2 \nQ 238.313125 12.2 238.313125 14.2 \nL 238.313125 42.55625 \nQ 238.313125 44.55625 240.313125 44.55625 \nz\n\" style=\"fill: #ffffff; opacity: 0.8; stroke: #cccccc; stroke-linejoin: miter\"/>\n    </g>\n    <g id=\"patch_7\">\n     <path d=\"M 242.313125 23.798437 \nL 262.313125 23.798437 \nL 262.313125 16.798437 \nL 242.313125 16.798437 \nz\n\" style=\"fill: #1f77b4\"/>\n    </g>\n    <g id=\"text_6\">\n     <!-- Fully Paid -->\n     <g transform=\"translate(270.313125 23.798437)scale(0.1 -0.1)\">\n      <use xlink:href=\"#DejaVuSans-46\"/>\n      <use xlink:href=\"#DejaVuSans-75\" x=\"52.019531\"/>\n      <use xlink:href=\"#DejaVuSans-6c\" x=\"115.398438\"/>\n      <use xlink:href=\"#DejaVuSans-6c\" x=\"143.181641\"/>\n      <use xlink:href=\"#DejaVuSans-79\" x=\"170.964844\"/>\n      <use xlink:href=\"#DejaVuSans-20\" x=\"230.144531\"/>\n      <use xlink:href=\"#DejaVuSans-50\" x=\"261.931641\"/>\n      <use xlink:href=\"#DejaVuSans-61\" x=\"317.734375\"/>\n      <use xlink:href=\"#DejaVuSans-69\" x=\"379.013672\"/>\n      <use xlink:href=\"#DejaVuSans-64\" x=\"406.796875\"/>\n     </g>\n    </g>\n    <g id=\"patch_8\">\n     <path d=\"M 242.313125 38.476562 \nL 262.313125 38.476562 \nL 262.313125 31.476562 \nL 242.313125 31.476562 \nz\n\" style=\"fill: #ff7f0e\"/>\n    </g>\n    <g id=\"text_7\">\n     <!-- Not Fully Paid -->\n     <g transform=\"translate(270.313125 38.476562)scale(0.1 -0.1)\">\n      <use xlink:href=\"#DejaVuSans-4e\"/>\n      <use xlink:href=\"#DejaVuSans-6f\" x=\"74.804688\"/>\n      <use xlink:href=\"#DejaVuSans-74\" x=\"135.986328\"/>\n      <use xlink:href=\"#DejaVuSans-20\" x=\"175.195312\"/>\n      <use xlink:href=\"#DejaVuSans-46\" x=\"206.982422\"/>\n      <use xlink:href=\"#DejaVuSans-75\" x=\"259.001953\"/>\n      <use xlink:href=\"#DejaVuSans-6c\" x=\"322.380859\"/>\n      <use xlink:href=\"#DejaVuSans-6c\" x=\"350.164062\"/>\n      <use xlink:href=\"#DejaVuSans-79\" x=\"377.947266\"/>\n      <use xlink:href=\"#DejaVuSans-20\" x=\"437.126953\"/>\n      <use xlink:href=\"#DejaVuSans-50\" x=\"468.914062\"/>\n      <use xlink:href=\"#DejaVuSans-61\" x=\"524.716797\"/>\n      <use xlink:href=\"#DejaVuSans-69\" x=\"585.996094\"/>\n      <use xlink:href=\"#DejaVuSans-64\" x=\"613.779297\"/>\n     </g>\n    </g>\n   </g>\n  </g>\n </g>\n</svg>\n",
            "image/png": "[encoded data removed]"
          },
          "metadata": {}
        }
      ],
      "source": [
        "# Helper function for data distribution\n",
        "# Visualize the proportion of borrowers\n",
        "def show_loan_distrib(data):\n",
        "  count = \"\"\n",
        "  if isinstance(data, pd.DataFrame):\n",
        "      count = data[\"Bad_Flag\"].value_counts()\n",
        "  else:\n",
        "      count = data.value_counts()\n",
        "\n",
        "\n",
        "  count.plot(kind = 'pie', explode = [0, 0.1], \n",
        "\n",
        "              figsize = (6, 6), autopct = '%1.1f%%', shadow = True)\n",
        "  plt.ylabel(\"Loan: Fully Paid Vs. Not Fully Paid\")\n",
        "  plt.legend([\"Fully Paid\", \"Not Fully Paid\"])\n",
        "  plt.show()\n",
        "\n",
        "\n",
        "# Visualize the proportion of borrowers\n",
        "show_loan_distrib(df_train)"
      ]
    },
    {
      "source": [
        "Можем да видим, че таргет променливата ни е небансирана.  "
      ],
      "cell_type": "markdown",
      "metadata": {}
    },
    {
      "cell_type": "code",
      "execution_count": 9,
      "metadata": {},
      "outputs": [
        {
          "output_type": "stream",
          "name": "stdout",
          "text": [
            "Unnamed: 0      int64\nBad_Flag        int64\nx1              int64\nx2             object\nx3             object\nx4             object\nx5             object\nx6             object\nx7             object\nx8             object\nx10            object\nx11            object\nx12            object\nx13            object\nx14            object\nx15            object\nx16            object\nx17             int64\nx18             int64\nx19             int64\nx20             int64\nx21             int64\nx22           float64\nx23           float64\nx24           float64\nx25           float64\nx26           float64\nx27             int64\nx28             int64\nx29           float64\nx30             int64\nx31             int64\nx32           float64\nx33           float64\nx34           float64\nx35           float64\nx36           float64\nx37           float64\nx38           float64\nx39           float64\nx40           float64\nx41           float64\nx42           float64\nx43           float64\nx44           float64\nx45           float64\nx46           float64\nx47             int64\nx48             int64\nx49           float64\nx50             int64\nx51             int64\nx52             int64\nx53             int64\nx54             int64\nx55             int64\nx56             int64\nx57             int64\nx58             int64\nx59             int64\nx60             int64\nx61           float64\nx62             int64\nx63           float64\nx64           float64\nx65           float64\nx66           float64\nx67           float64\nx68           float64\nx69           float64\nx70           float64\nx71           float64\nx72           float64\nx73           float64\nx74           float64\nx75           float64\nx76           float64\nx77           float64\nx78           float64\nx79           float64\nx80           float64\nx81           float64\nx82           float64\nx83           float64\nx84           float64\nx85           float64\nx86           float64\nx87           float64\nx88           float64\nx89           float64\nx90           float64\nx91           float64\nx92           float64\nx93           float64\nx94           float64\nx95           float64\nx96           float64\nx97           float64\nx98           float64\nx99           float64\nx100            int64\nx101          float64\nx102          float64\nx103          float64\nx104          float64\nx105          float64\nx106            int64\nx107          float64\nx108            int64\nx109            int64\nx110            int64\nx111          float64\nx112            int64\nx113            int64\nx114          float64\nx115            int64\nx116          float64\nx117          float64\nx118          float64\nx119          float64\nx120          float64\nx121            int64\nx122          float64\nx123          float64\nx124          float64\nx125          float64\nx126            int64\nx127            int64\nx128            int64\nx129          float64\nx130            int64\nx131            int64\nx132          float64\nx133            int64\nx134            int64\nx135          float64\nx136          float64\nx137          float64\nx138          float64\nx139            int64\nx140            int64\nx141            int64\nx142            int64\nx143            int64\nx144            int64\nx145            int64\nx146            int64\nx147            int64\nx148            int64\nx149            int64\nx150            int64\nx151            int64\nx152            int64\nx153            int64\nx154            int64\nx155            int64\nx156            int64\nx157            int64\nx158            int64\nx159            int64\nx160            int64\nx161            int64\nx162            int64\nx163            int64\nx164            int64\nx165            int64\nx166            int64\nx167            int64\nx168            int64\nx169            int64\nx170            int64\nx171            int64\nx172            int64\nx173            int64\nx174            int64\nx175            int64\nx176            int64\nx177            int64\nx178          float64\nx179            int64\nx180            int64\nx181          float64\nx182          float64\nx183          float64\nx184           object\nx185          float64\nx186          float64\nx187          float64\nx188            int64\nx189          float64\nx190          float64\nx191          float64\nx192            int64\nx193           object\nx194           object\nx195           object\nx196            int64\nx197            int64\nx198          float64\nx199          float64\nx200            int64\nx201            int64\nx202          float64\nx203          float64\nx204          float64\nx205          float64\nx206            int64\nx207            int64\nx208            int64\nx209            int64\nx210            int64\nx211            int64\nx212            int64\nx213            int64\nx214            int64\nx215            int64\nx216          float64\nx217          float64\nx218            int64\nx219            int64\nx220          float64\nx221          float64\nx222          float64\nx223          float64\nx224            int64\nx225            int64\nx226            int64\nx227            int64\nx228            int64\nx229            int64\nx230            int64\nx231            int64\nx232            int64\nx233            int64\nx234          float64\nx235          float64\nx236            int64\nx237            int64\nx238          float64\nx239          float64\nx240          float64\nx241          float64\nx242            int64\nx243            int64\nx244            int64\nx245            int64\nx246            int64\nx247            int64\nx248            int64\nx249            int64\nx250            int64\nx251            int64\nx252            int64\nx253           object\nx254          float64\nx255           object\nx256           object\nx257          float64\nx258          float64\nx259            int64\nx260           object\nx261           object\nx262           object\nx263          float64\nx264          float64\nx265          float64\nx266          float64\nx267          float64\nx268          float64\nx269          float64\nx270          float64\nx271          float64\nx272          float64\nx273           object\nx274           object\nx275           object\nx276           object\ndtype: object\n"
          ]
        }
      ],
      "source": [
        "print(df_train.dtypes)"
      ]
    },
    {
      "cell_type": "code",
      "execution_count": 10,
      "metadata": {},
      "outputs": [
        {
          "output_type": "execute_result",
          "data": {
            "text/plain": [
              "  0.000000   \n",
              "max    76988.000000  14867.000000  3790.000000   946.000000  3760.000000   \n",
              "\n",
              "         x108    x109    x110           x111    x112    x113           x114  \\\n",
              "count  6591.0  6591.0  6591.0    6591.000000  6591.0  6591.0    6591.000000   \n",
              "mean      0.0     0.0     0.0   14449.107865     0.0     0.0    3160.859738   \n",
              "std       0.0     0.0     0.0   33640.627223     0.0     0.0    8703.889479   \n",
              "min       0.0     0.0     0.0       0.000000     0.0     0.0       0.000000   \n",
              "25%       0.0     0.0     0.0     280.500000     0.0     0.0       0.000000   \n",
              "50%       0.0     0.0     0.0    3478.000000     0.0     0.0     465.410000   \n",
              "75%       0.0     0.0     0.0   14919.110000     0.0     0.0    2368.180000   \n",
              "max       0.0     0.0     0.0  834433.600000     0.0     0.0  196633.000000   \n",
              "\n",
              "              x115         x116          x117          x118           x119  \\\n",
              "count  6591.000000  6591.000000   6591.000000   6591.000000    6591.000000   \n",
              "mean      0.111364     0.758380    813.523978    741.424509     253.207856   \n",
              "std       9.041082    54.864363   2093.928051   1765.777349    6484.494664   \n",
              "min       0.000000     0.000000      0.000000      0.000000       0.000000   \n",
              "25%       0.000000     0.000000      0.000000      0.000000       0.000000   \n",
              "50%       0.000000     0.000000      0.000000    100.000000       0.000000   \n",
              "75%       0.000000     0.000000   1004.000000    800.000000       5.105000   \n",
              "max     734.000000  4416.000000  90144.000000  57264.710000  488958.000000   \n",
              "\n",
              "               x120    x121         x122         x123          x124  \\\n",
              "count   6591.000000  6591.0  6591.000000  6591.000000   6591.000000   \n",
              "mean     134.155649     0.0     7.998842    12.592091    800.502192   \n",
              "std      495.576671     0.0   102.039123    63.430637   2079.472431   \n",
              "min        0.000000     0.0     0.000000     0.000000      0.000000   \n",
              "25%        0.000000     0.0     0.000000     0.000000      0.000000   \n",
              "50%        0.000000     0.0     0.000000     0.000000      0.000000   \n",
              "75%        0.000000     0.0     0.000000     0.000000    995.000000   \n",
              "max    20000.000000     0.0  6918.000000  2692.000000  90000.000000   \n",
              "\n",
              "               x125         x126         x127         x128         x129  \\\n",
              "count   6591.000000  6591.000000  6591.000000  6591.000000  6591.000000   \n",
              "mean     650.540452     0.061447     0.258838     0.296768     0.351595   \n",
              "std     1510.796501     0.250072     0.558073     0.568725     0.419842   \n",
              "min        0.000000     0.000000     0.000000     0.000000     0.000000   \n",
              "25%        0.000000     0.000000     0.000000     0.000000     0.000000   \n",
              "50%       69.000000     0.000000     0.000000     0.000000     0.096216   \n",
              "75%      730.000000     0.000000     0.000000     0.000000     0.891067   \n",
              "max    48740.470000     2.000000     3.000000     4.000000     1.000000   \n",
              "\n",
              "         x130    x131         x132    x133    x134         x135         x136  \\\n",
              "count  6591.0  6591.0  6591.000000  6591.0  6591.0  6591.000000  6591.000000   \n",
              "mean      0.0     0.0     0.637883     0.0     0.0     0.347249     0.347249   \n",
              "std       0.0     0.0     0.428321     0.0     0.0     0.423245     0.423245   \n",
              "min       0.0     0.0     0.000000     0.0     0.0     0.000000     0.000000   \n",
              "25%       0.0     0.0     0.033043     0.0     0.0     0.000000     0.000000   \n",
              "50%       0.0     0.0     0.907324     0.0     0.0     0.077994     0.077994   \n",
              "75%       0.0     0.0     1.000000     0.0     0.0     0.908350     0.908350   \n",
              "max       0.0     0.0     1.000000     0.0     0.0     1.000000     1.000000   \n",
              "\n",
              "              x137         x138         x139         x140         x141  \\\n",
              "count  6591.000000  6591.000000  6591.000000  6591.000000  6591.000000   \n",
              "mean      0.513798     0.488573     1.826278     1.482931     0.472007   \n",
              "std       0.430884     0.504886     1.629866     2.031237     1.577372   \n",
              "min       0.000000     0.000000     0.000000     0.000000     0.000000   \n",
              "25%       0.000000     0.000000     1.000000     0.000000     0.000000   \n",
              "50%       0.666792     0.460000     1.000000     1.000000     0.000000   \n",
              "75%       0.927011     0.959015     3.000000     2.000000     0.000000   \n",
              "max       5.180857     2.580000    12.000000    24.000000    25.000000   \n",
              "\n",
              "              x142         x143         x144         x145         x146  \\\n",
              "count  6591.000000  6591.000000  6591.000000  6591.000000  6591.000000   \n",
              "mean      1.108026     0.068882     1.430284     1.091033     3.102261   \n",
              "std       2.688002     0.469192     3.560825     4.550365     8.530309   \n",
              "min       0.000000     0.000000     0.000000     0.000000     0.000000   \n",
              "25%       0.000000     0.000000     0.000000     0.000000     0.000000   \n",
              "50%       0.000000     0.000000     0.000000     0.000000     0.000000   \n",
              "75%       1.000000     0.000000     1.000000     0.000000     1.000000   \n",
              "max      38.000000    11.000000    71.000000    58.000000    91.000000   \n",
              "\n",
              "              x147         x148         x149         x150         x151  \\\n",
              "count  6591.000000  6591.000000  6591.000000  6591.000000  6591.000000   \n",
              "mean      0.126081     4.092095     0.502503     0.294189     0.574116   \n",
              "std       1.191410    10.537375     1.254292     0.839879     1.136880   \n",
              "min       0.000000     0.000000     0.000000     0.000000     0.000000   \n",
              "25%       0.000000     0.000000     0.000000     0.000000     0.000000   \n",
              "50%       0.000000     0.000000     0.000000     0.000000     0.000000   \n",
              "75%       0.000000     2.000000     0.000000     0.000000     1.000000   \n",
              "max      42.000000    90.000000     6.000000     6.000000     6.000000   \n",
              "\n",
              "              x152         x153         x154         x155        x156  \\\n",
              "count  6591.000000  6591.000000  6591.000000  6591.000000  6591.00000   \n",
              "mean      0.051889     0.693066     0.000455     0.000303     0.00091   \n",
              "std       0.320814     1.273166     0.021331     0.017418     0.03483   \n",
              "min       0.000000     0.000000     0.000000     0.000000     0.00000   \n",
              "25%       0.000000     0.000000     0.000000     0.000000     0.00000   \n",
              "50%       0.000000     0.000000     0.000000     0.000000     0.00000   \n",
              "75%       0.000000     1.000000     0.000000     0.000000     0.00000   \n",
              "max       5.000000     6.000000     1.000000     1.000000     2.00000   \n",
              "\n",
              "              x157         x158         x159         x160         x161  \\\n",
              "count  6591.000000  6591.000000  6591.000000  6591.000000  6591.000000   \n",
              "mean      0.000152     0.000455     0.000303     0.000759     0.000152   \n",
              "std       0.012318     0.021331     0.017418     0.027535     0.012318   \n",
              "min       0.000000     0.000000     0.000000     0.000000     0.000000   \n",
              "25%       0.000000     0.000000     0.000000     0.000000     0.000000   \n",
              "50%       0.000000     0.000000     0.000000     0.000000     0.000000   \n",
              "75%       0.000000     0.000000     0.000000     0.000000     0.000000   \n",
              "max       1.000000     1.000000     1.000000     1.000000     1.000000   \n",
              "\n",
              "         x162    x163    x164    x165    x166    x167    x168    x169    x170  \\\n",
              "count  6591.0  6591.0  6591.0  6591.0  6591.0  6591.0  6591.0  6591.0  6591.0   \n",
              "mean      0.0     0.0     0.0     0.0     0.0     0.0     0.0     0.0     0.0   \n",
              "std       0.0     0.0     0.0     0.0     0.0     0.0     0.0     0.0     0.0   \n",
              "min       0.0     0.0     0.0     0.0     0.0     0.0     0.0     0.0     0.0   \n",
              "25%       0.0     0.0     0.0     0.0     0.0     0.0     0.0     0.0     0.0   \n",
              "50%       0.0     0.0     0.0     0.0     0.0     0.0     0.0     0.0     0.0   \n",
              "75%       0.0     0.0     0.0     0.0     0.0     0.0     0.0     0.0     0.0   \n",
              "max       0.0     0.0     0.0     0.0     0.0     0.0     0.0     0.0     0.0   \n",
              "\n",
              "              x171    x172         x173    x174         x175    x176  \\\n",
              "count  6591.000000  6591.0  6591.000000  6591.0  6591.000000  6591.0   \n",
              "mean      0.000152     0.0     0.000455     0.0     0.000152     0.0   \n",
              "std       0.012318     0.0     0.021331     0.0     0.012318     0.0   \n",
              "min       0.000000     0.0     0.000000     0.0     0.000000     0.0   \n",
              "25%       0.000000     0.0     0.000000     0.0     0.000000     0.0   \n",
              "50%       0.000000     0.0     0.000000     0.0     0.000000     0.0   \n",
              "75%       0.000000     0.0     0.000000     0.0     0.000000     0.0   \n",
              "max       1.000000     0.0     1.000000     0.0     1.000000     0.0   \n",
              "\n",
              "              x177         x178         x179         x180         x181  \\\n",
              "count  6591.000000  6591.000000  6591.000000  6591.000000  6591.000000   \n",
              "mean      0.000607     0.370020     1.173722     1.371112     0.012986   \n",
              "std       0.030168     0.423353     0.908407     1.882523     0.058573   \n",
              "min       0.000000     0.000000     0.000000     0.000000     0.000000   \n",
              "25%       0.000000     0.000000     1.000000     0.000000     0.000000   \n",
              "50%       0.000000     0.118519     1.000000     1.000000     0.000000   \n",
              "75%       0.000000     0.885201     2.000000     2.000000     0.001790   \n",
              "max       2.000000     1.000000     5.000000    21.000000     1.000000   \n",
              "\n",
              "              x182         x183         x185         x186         x187  \\\n",
              "count  6591.000000  6591.000000  6591.000000  6591.000000  6591.000000   \n",
              "mean      0.352719     0.014752    15.047251   642.833496   643.350052   \n",
              "std       0.442645     0.114823     8.776022   603.785573   609.732834   \n",
              "min       0.000000     0.000000     0.000000     0.000000     0.000000   \n",
              "25%       0.000000     0.000000     8.833333     0.000000     0.000000   \n",
              "50%       0.000000     0.000000    20.250000   560.000000   565.235000   \n",
              "75%       0.910583     0.000000    20.800000   932.794250   930.272500   \n",
              "max       2.882500     1.810638    25.600000  3541.533333  3290.100000   \n",
              "\n",
              "              x188         x189         x190         x191         x192  \\\n",
              "count  6591.000000  6591.000000  6591.000000  6591.000000  6591.000000   \n",
              "mean      3.050068    14.990080   641.125505   641.524653     3.038537   \n",
              "std       1.886759     8.807822   604.352357   609.954698     1.892410   \n",
              "min       0.000000     0.000000     0.000000     0.000000     0.000000   \n",
              "25%       1.000000     6.000000     0.000000     0.000000     1.000000   \n",
              "50%       4.000000    20.250000   560.000000   564.000000     4.000000   \n",
              "75%       4.000000    20.800000   930.986250   929.575000     4.000000   \n",
              "max       6.000000    25.600000  3541.533333  3290.100000     6.000000   \n",
              "\n",
              "              x196         x197          x198          x199          x200  \\\n",
              "count  6591.000000  6591.000000   6591.000000   6591.000000  6.591000e+03   \n",
              "mean      0.897132     0.941587    329.495589    385.796254  2.807376e+07   \n",
              "std       0.940914     1.021656    470.787975    558.088982  3.448231e+07   \n",
              "min       0.000000     0.000000      0.000000      0.000000  0.000000e+00   \n",
              "25%       0.000000     0.000000      0.000000      0.000000  0.000000e+00   \n",
              "50%       1.000000     1.000000    147.298667    230.000000  0.000000e+00   \n",
              "75%       1.000000     1.000000    531.741667    580.000000  5.230100e+07   \n",
              "max       9.000000     9.000000  12740.000000  12600.000000  9.629001e+07   \n",
              "\n",
              "              x201         x202         x203         x204         x205  \\\n",
              "count  6591.000000  6591.000000  6591.000000  6591.000000  6591.000000   \n",
              "mean   2160.662722     0.146371     0.025502     0.003080     0.489133   \n",
              "std    2897.784652     0.314779     0.130666     0.046758     0.479120   \n",
              "min       0.000000     0.000000     0.000000     0.000000     0.000000   \n",
              "25%       0.000000     0.000000     0.000000     0.000000     0.000000   \n",
              "50%       0.000000     0.000000     0.000000     0.000000     0.334247   \n",
              "75%    4674.500000     0.000000     0.000000     0.000000     1.000000   \n",
              "max    9900.000000     1.000000     1.000000     1.000000     1.000000   \n",
              "\n",
              "              x206         x207         x208         x209         x210  \\\n",
              "count  6591.000000  6591.000000  6591.000000  6591.000000  6591.000000   \n",
              "mean      3.628888   197.456532    37.871036   194.243514     2.691853   \n",
              "std       3.377473   187.333569    34.904849   184.146724     2.861686   \n",
              "min       0.000000     0.000000     0.000000     0.000000     0.000000   \n",
              "25%       0.000000     0.000000     0.000000     0.000000     0.000000   \n",
              "50%       4.000000   214.000000    41.000000   202.000000     2.000000   \n",
              "75%       7.000000   364.000000    72.000000   364.000000     4.000000   \n",
              "max       9.000000  1473.000000    96.000000  1411.000000     9.000000   \n",
              "\n",
              "              x211         x212         x213         x214         x215  \\\n",
              "count  6591.000000  6591.000000  6591.000000  6591.000000  6591.000000   \n",
              "mean    199.611592    29.764679   196.422698     0.776665     0.794872   \n",
              "std     193.640923    30.408374   190.801018     0.762080     0.800101   \n",
              "min       0.000000     0.000000     0.000000     0.000000     0.000000   \n",
              "25%       0.000000     0.000000     0.000000     0.000000     0.000000   \n",
              "50%     209.000000    25.000000   201.000000     1.000000     1.000000   \n",
              "75%     364.000000    49.000000   364.000000     1.000000     1.000000   \n",
              "max    2630.000000    99.000000  2630.000000     7.000000     7.000000   \n",
              "\n",
              "               x216          x217          x218         x219         x220  \\\n",
              "count   6591.000000   6591.000000  6.591000e+03  6591.000000  6591.000000   \n",
              "mean     344.107205    374.592743  2.959200e+07  2281.857836     0.088801   \n",
              "std      476.747421    533.804853  3.477486e+07  2929.811332     0.255544   \n",
              "min        0.000000      0.000000  0.000000e+00     0.000000     0.000000   \n",
              "25%        0.000000      0.000000  0.000000e+00     0.000000     0.000000   \n",
              "50%      194.333333    230.000000  0.000000e+00     0.000000     0.000000   \n",
              "75%      559.166667    570.000000  5.249000e+07  4711.000000     0.000000   \n",
              "max    12600.000000  12600.000000  9.629001e+07  9900.000000     1.000000   \n",
              "\n",
              "              x221         x222         x223         x224         x225  \\\n",
              "count  6591.000000  6591.000000  6591.000000  6591.000000  6591.000000   \n",
              "mean      0.027592     0.003513     0.544182     3.586254   101.942953   \n",
              "std       0.144383     0.053125     0.486843     3.374067    93.321087   \n",
              "min       0.000000     0.000000     0.000000     0.000000     0.000000   \n",
              "25%       0.000000     0.000000     0.000000     0.000000     0.000000   \n",
              "50%       0.000000     0.000000     1.000000     4.000000   133.000000   \n",
              "75%       0.000000     0.000000     1.000000     7.000000   182.000000   \n",
              "max       1.000000     1.000000     1.000000     9.000000   676.000000   \n",
              "\n",
              "              x226         x227         x228         x229         x230  \\\n",
              "count  6591.000000  6591.000000  6591.000000  6591.000000  6591.000000   \n",
              "mean     37.440753   100.641177     2.674253   102.468821    29.553937   \n",
              "std      34.887281    91.752435     2.858940    94.913728    30.390814   \n",
              "min       0.000000     0.000000     0.000000     0.000000     0.000000   \n",
              "25%       0.000000     0.000000     0.000000     0.000000     0.000000   \n",
              "50%      41.000000   128.000000     2.000000   130.000000    24.000000   \n",
              "75%      72.000000   182.000000     4.000000   182.000000    49.000000   \n",
              "max      96.000000   676.000000     9.000000   740.000000    99.000000   \n",
              "\n",
              "              x231         x232         x233          x234          x235  \\\n",
              "count  6591.000000  6591.000000  6591.000000   6591.000000   6591.000000   \n",
              "mean    101.236686     0.697921     0.705659    357.446865    367.358020   \n",
              "std      93.591599     0.645465     0.664397    489.829366    503.443995   \n",
              "min       0.000000     0.000000     0.000000      0.000000      0.000000   \n",
              "25%       0.000000     0.000000     0.000000      0.000000      0.000000   \n",
              "50%     125.000000     1.000000     1.000000    227.444444    230.000000   \n",
              "75%     182.000000     1.000000     1.000000    566.222222    570.000000   \n",
              "max     740.000000     6.000000     6.000000  12740.000000  12600.000000   \n",
              "\n",
              "               x236         x237         x238         x239         x240  \\\n",
              "count  6.591000e+03  6591.000000  6591.000000  6591.000000  6591.000000   \n",
              "mean   3.073314e+07  2375.097102     0.046311     0.027929     0.003603   \n",
              "std    3.495143e+07  2954.041534     0.189278     0.152407     0.056040   \n",
              "min    0.000000e+00     0.000000     0.000000     0.000000     0.000000   \n",
              "25%    0.000000e+00     0.000000     0.000000     0.000000     0.000000   \n",
              "50%    0.000000e+00     0.000000     0.000000     0.000000     0.000000   \n",
              "75%    5.321100e+07  4715.000000     0.000000     0.000000     0.000000   \n",
              "max    9.629001e+07  9900.000000     1.000000     1.000000     1.000000   \n",
              "\n",
              "              x241         x242         x243         x244         x245  \\\n",
              "count  6591.000000  6591.000000  6591.000000  6591.000000  6591.000000   \n",
              "mean      0.586245     3.526475    51.996966    36.813989    51.492490   \n",
              "std       0.487290     3.369891    47.110573    34.838657    46.412257   \n",
              "min       0.000000     0.000000     0.000000     0.000000     0.000000   \n",
              "25%       0.000000     0.000000     0.000000     0.000000     0.000000   \n",
              "50%       1.000000     4.000000    85.000000    41.000000    84.000000   \n",
              "75%       1.000000     7.000000    91.000000    72.000000    91.000000   \n",
              "max       1.000000     9.000000   316.000000    96.000000   316.000000   \n",
              "\n",
              "              x246         x247         x248         x249         x250  \\\n",
              "count  6591.000000  6591.000000  6591.000000  6591.000000  6591.000000   \n",
              "mean      2.633440    52.076620    29.128660    51.615081    22.175998   \n",
              "std       2.849976    47.557285    30.330233    46.953909    46.997869   \n",
              "min       0.000000     0.000000     0.000000     0.000000     0.000000   \n",
              "25%       0.000000     0.000000     0.000000     0.000000     0.000000   \n",
              "50%       2.000000    84.000000    23.000000    82.000000     2.000000   \n",
              "75%       4.000000    91.000000    49.000000    91.000000    23.000000   \n",
              "max       9.000000   404.000000    99.000000   404.000000   446.000000   \n",
              "\n",
              "              x251         x252         x254         x257         x258  \\\n",
              "count  6591.000000  6591.000000  6591.000000  6591.000000  6591.000000   \n",
              "mean     79.928691     3.438932    32.244706    30.328709    28.832073   \n",
              "std      98.543612     3.840586   128.025745   121.592090   121.536341   \n",
              "min       0.000000     0.000000     0.000000     0.000000     0.000000   \n",
              "25%       0.000000     0.000000     0.000000     0.000000     0.000000   \n",
              "50%      42.000000     3.000000     0.000000     0.000000     0.000000   \n",
              "75%     138.000000     5.000000     0.000000     0.000000     0.000000   \n",
              "max    1433.000000    34.000000  1389.030000  1389.030000  1389.030000   \n",
              "\n",
              "              x259           x263          x264           x265           x266  \\\n",
              "count  6591.000000    6591.000000   6591.000000    6591.000000    6591.000000   \n",
              "mean      8.693825   15110.472186   2957.543767   18068.015954   12755.120513   \n",
              "std      37.810863   32753.367349   6926.611799   34258.804024   28387.862647   \n",
              "min      -7.000000       0.000000      0.000000      60.000000       0.000000   \n",
              "25%       0.000000     500.000000      0.000000    1800.000000      91.635000   \n",
              "50%       0.000000    4401.000000    500.000000    7132.000000    2988.000000   \n",
              "75%       0.000000   17076.500000   2400.000000   21180.000000   13974.000000   \n",
              "max     462.000000  786743.000000  92218.000000  811557.670000  624455.000000   \n",
              "\n",
              "                x267           x268           x269          x270  \\\n",
              "count    6591.000000    6591.000000    6591.000000   6591.000000   \n",
              "mean     2496.586148   15251.706661    2118.257113     30.899707   \n",
              "std      6815.445553   29914.465542    5848.487981    621.748365   \n",
              "min         0.000000       0.000000       0.000000      0.000000   \n",
              "25%         0.000000    1106.140000       0.000000      0.000000   \n",
              "50%       361.000000    5214.000000     200.000000      0.000000   \n",
              "75%      1762.015000   17665.690000    1354.000000      0.000000   \n",
              "max    196633.000000  624455.000000  162549.000000  49514.000000   \n",
              "\n",
              "               x271          x272  \n",
              "count   6591.000000   6591.000000  \n",
              "mean      21.471639     52.371346  \n",
              "std      619.437373   1237.021516  \n",
              "min        0.000000      0.000000  \n",
              "25%        0.000000      0.000000  \n",
              "50%        0.000000      0.000000  \n",
              "75%        0.000000      9.000000  \n",
              "max    49514.000000  99028.000000  "
            ],
            "text/html": "<div>\n<style scoped>\n    .dataframe tbody tr th:only-of-type {\n        vertical-align: middle;\n    }\n\n    .dataframe tbody tr th {\n        vertical-align: top;\n    }\n\n    .dataframe thead th {\n        text-align: right;\n    }\n</style>\n<table border=\"1\" class=\"dataframe\">\n  <thead>\n    <tr style=\"text-align: right;\">\n      <th></th>\n      <th>Unnamed: 0</th>\n      <th>Bad_Flag</th>\n      <th>x1</th>\n      <th>x17</th>\n      <th>x18</th>\n      <th>x19</th>\n      <th>x20</th>\n      <th>x21</th>\n      <th>x22</th>\n      <th>x23</th>\n      <th>x24</th>\n      <th>x25</th>\n      <th>x26</th>\n      <th>x27</th>\n      <th>x28</th>\n      <th>x29</th>\n      <th>x30</th>\n      <th>x31</th>\n      <th>x32</th>\n      <th>x33</th>\n      <th>x34</th>\n      <th>x35</th>\n      <th>x36</th>\n      <th>x37</th>\n      <th>x38</th>\n      <th>x39</th>\n      <th>x40</th>\n      <th>x41</th>\n      <th>x42</th>\n      <th>x43</th>\n      <th>x44</th>\n      <th>x45</th>\n      <th>x46</th>\n      <th>x47</th>\n      <th>x48</th>\n      <th>x49</th>\n      <th>x50</th>\n      <th>x51</th>\n      <th>x52</th>\n      <th>x53</th>\n      <th>x54</th>\n      <th>x55</th>\n      <th>x56</th>\n      <th>x57</th>\n      <th>x58</th>\n      <th>x59</th>\n      <th>x60</th>\n      <th>x61</th>\n      <th>x62</th>\n      <th>x63</th>\n      <th>x64</th>\n      <th>x65</th>\n      <th>x66</th>\n      <th>x67</th>\n      <th>x68</th>\n      <th>x69</th>\n      <th>x70</th>\n      <th>x71</th>\n      <th>x72</th>\n      <th>x73</th>\n      <th>x74</th>\n      <th>x75</th>\n      <th>x76</th>\n      <th>x77</th>\n      <th>x78</th>\n      <th>x79</th>\n      <th>x80</th>\n      <th>x81</th>\n      <th>x82</th>\n      <th>x83</th>\n      <th>x84</th>\n      <th>x85</th>\n      <th>x86</th>\n      <th>x87</th>\n      <th>x88</th>\n      <th>x89</th>\n      <th>x90</th>\n      <th>x91</th>\n      <th>x92</th>\n      <th>x93</th>\n      <th>x94</th>\n      <th>x95</th>\n      <th>x96</th>\n      <th>x97</th>\n      <th>x98</th>\n      <th>x99</th>\n      <th>x100</th>\n      <th>x101</th>\n      <th>x102</th>\n      <th>x103</th>\n      <th>x104</th>\n      <th>x105</th>\n      <th>x106</th>\n      <th>x107</th>\n      <th>x108</th>\n      <th>x109</th>\n      <th>x110</th>\n      <th>x111</th>\n      <th>x112</th>\n      <th>x113</th>\n      <th>x114</th>\n      <th>x115</th>\n      <th>x116</th>\n      <th>x117</th>\n      <th>x118</th>\n      <th>x119</th>\n      <th>x120</th>\n      <th>x121</th>\n      <th>x122</th>\n      <th>x123</th>\n      <th>x124</th>\n      <th>x125</th>\n      <th>x126</th>\n      <th>x127</th>\n      <th>x128</th>\n      <th>x129</th>\n      <th>x130</th>\n      <th>x131</th>\n      <th>x132</th>\n      <th>x133</th>\n      <th>x134</th>\n      <th>x135</th>\n      <th>x136</th>\n      <th>x137</th>\n      <th>x138</th>\n      <th>x139</th>\n      <th>x140</th>\n      <th>x141</th>\n      <th>x142</th>\n      <th>x143</th>\n      <th>x144</th>\n      <th>x145</th>\n      <th>x146</th>\n      <th>x147</th>\n      <th>x148</th>\n      <th>x149</th>\n      <th>x150</th>\n      <th>x151</th>\n      <th>x152</th>\n      <th>x153</th>\n      <th>x154</th>\n      <th>x155</th>\n      <th>x156</th>\n      <th>x157</th>\n      <th>x158</th>\n      <th>x159</th>\n      <th>x160</th>\n      <th>x161</th>\n      <th>x162</th>\n      <th>x163</th>\n      <th>x164</th>\n      <th>x165</th>\n      <th>x166</th>\n      <th>x167</th>\n      <th>x168</th>\n      <th>x169</th>\n      <th>x170</th>\n      <th>x171</th>\n      <th>x172</th>\n      <th>x173</th>\n      <th>x174</th>\n      <th>x175</th>\n      <th>x176</th>\n      <th>x177</th>\n      <th>x178</th>\n      <th>x179</th>\n      <th>x180</th>\n      <th>x181</th>\n      <th>x182</th>\n      <th>x183</th>\n      <th>x185</th>\n      <th>x186</th>\n      <th>x187</th>\n      <th>x188</th>\n      <th>x189</th>\n      <th>x190</th>\n      <th>x191</th>\n      <th>x192</th>\n      <th>x196</th>\n      <th>x197</th>\n      <th>x198</th>\n      <th>x199</th>\n      <th>x200</th>\n      <th>x201</th>\n      <th>x202</th>\n      <th>x203</th>\n      <th>x204</th>\n      <th>x205</th>\n      <th>x206</th>\n      <th>x207</th>\n      <th>x208</th>\n      <th>x209</th>\n      <th>x210</th>\n      <th>x211</th>\n      <th>x212</th>\n      <th>x213</th>\n      <th>x214</th>\n      <th>x215</th>\n      <th>x216</th>\n      <th>x217</th>\n      <th>x218</th>\n      <th>x219</th>\n      <th>x220</th>\n      <th>x221</th>\n      <th>x222</th>\n      <th>x223</th>\n      <th>x224</th>\n      <th>x225</th>\n      <th>x226</th>\n      <th>x227</th>\n      <th>x228</th>\n      <th>x229</th>\n      <th>x230</th>\n      <th>x231</th>\n      <th>x232</th>\n      <th>x233</th>\n      <th>x234</th>\n      <th>x235</th>\n      <th>x236</th>\n      <th>x237</th>\n      <th>x238</th>\n      <th>x239</th>\n      <th>x240</th>\n      <th>x241</th>\n      <th>x242</th>\n      <th>x243</th>\n      <th>x244</th>\n      <th>x245</th>\n      <th>x246</th>\n      <th>x247</th>\n      <th>x248</th>\n      <th>x249</th>\n      <th>x250</th>\n      <th>x251</th>\n      <th>x252</th>\n      <th>x254</th>\n      <th>x257</th>\n      <th>x258</th>\n      <th>x259</th>\n      <th>x263</th>\n      <th>x264</th>\n      <th>x265</th>\n      <th>x266</th>\n      <th>x267</th>\n      <th>x268</th>\n      <th>x269</th>\n      <th>x270</th>\n      <th>x271</th>\n      <th>x272</th>\n    </tr>\n  </thead>\n  <tbody>\n    <tr>\n      <th>count</th>\n      <td>6591.000000</td>\n      <td>6591.000000</td>\n      <td>6591.000000</td>\n      <td>6591.0</td>\n      <td>6591.0</td>\n      <td>6591.0</td>\n      <td>6591.0</td>\n      <td>6591.0</td>\n      <td>6591.000000</td>\n      <td>6591.000000</td>\n      <td>6591.000000</td>\n      <td>6591.000000</td>\n      <td>6591.000000</td>\n      <td>6591.0</td>\n      <td>6591.0</td>\n      <td>6591.000000</td>\n      <td>6591.0</td>\n      <td>6591.0</td>\n      <td>6591.000000</td>\n      <td>6591.000000</td>\n      <td>6591.000000</td>\n      <td>6591.000000</td>\n      <td>6591.000000</td>\n      <td>6591.000000</td>\n      <td>6591.000000</td>\n      <td>6591.000000</td>\n      <td>6591.000000</td>\n      <td>6591.000000</td>\n      <td>6591.000000</td>\n      <td>6591.000000</td>\n      <td>6591.000000</td>\n      <td>6591.000000</td>\n      <td>6591.000000</td>\n      <td>6591.000000</td>\n      <td>6591.0</td>\n      <td>6591.000000</td>\n      <td>6591.0</td>\n      <td>6591.0</td>\n      <td>6591.0</td>\n      <td>6591.0</td>\n      <td>6591.0</td>\n      <td>6591.0</td>\n      <td>6591.000000</td>\n      <td>6591.0</td>\n      <td>6591.000000</td>\n      <td>6591.000000</td>\n      <td>6591.000000</td>\n      <td>6591.000000</td>\n      <td>6591.000000</td>\n      <td>6591.000000</td>\n      <td>6.591000e+03</td>\n      <td>6591.000000</td>\n      <td>6591.000000</td>\n      <td>6591.000000</td>\n      <td>6591.000000</td>\n      <td>6591.000000</td>\n      <td>6591.000000</td>\n      <td>6591.00000</td>\n      <td>6591.000000</td>\n      <td>6591.000000</td>\n      <td>6591.000000</td>\n      <td>6591.000000</td>\n      <td>6591.000000</td>\n      <td>6591.000000</td>\n      <td>6591.000000</td>\n      <td>6591.000000</td>\n      <td>6591.000000</td>\n      <td>6591.000000</td>\n      <td>6591.000000</td>\n      <td>6591.000000</td>\n      <td>6591.000000</td>\n      <td>6591.000000</td>\n      <td>6591.000000</td>\n      <td>6591.000000</td>\n      <td>6591.000000</td>\n      <td>6591.000000</td>\n      <td>6591.000000</td>\n      <td>6591.000000</td>\n      <td>6591.000000</td>\n      <td>6591.000000</td>\n      <td>6591.000000</td>\n      <td>6591.000000</td>\n      <td>6591.000000</td>\n      <td>6591.000000</td>\n      <td>6591.000000</td>\n      <td>6591.000000</td>\n      <td>6591.000000</td>\n      <td>6591.000000</td>\n      <td>6591.000000</td>\n      <td>6591.000000</td>\n      <td>6591.000000</td>\n      <td>6591.000000</td>\n      <td>6591.000000</td>\n      <td>6591.000000</td>\n      <td>6591.0</td>\n      <td>6591.0</td>\n      <td>6591.0</td>\n      <td>6591.000000</td>\n      <td>6591.0</td>\n      <td>6591.0</td>\n      <td>6591.000000</td>\n      <td>6591.000000</td>\n      <td>6591.000000</td>\n      <td>6591.000000</td>\n      <td>6591.000000</td>\n      <td>6591.000000</td>\n      <td>6591.000000</td>\n      <td>6591.0</td>\n      <td>6591.000000</td>\n      <td>6591.000000</td>\n      <td>6591.000000</td>\n      <td>6591.000000</td>\n      <td>6591.000000</td>\n      <td>6591.000000</td>\n      <td>6591.000000</td>\n      <td>6591.000000</td>\n      <td>6591.0</td>\n      <td>6591.0</td>\n      <td>6591.000000</td>\n      <td>6591.0</td>\n      <td>6591.0</td>\n      <td>6591.000000</td>\n      <td>6591.000000</td>\n      <td>6591.000000</td>\n      <td>6591.000000</td>\n      <td>6591.000000</td>\n      <td>6591.000000</td>\n      <td>6591.000000</td>\n      <td>6591.000000</td>\n      <td>6591.000000</td>\n      <td>6591.000000</td>\n      <td>6591.000000</td>\n      <td>6591.000000</td>\n      <td>6591.000000</td>\n      <td>6591.000000</td>\n      <td>6591.000000</td>\n      <td>6591.000000</td>\n      <td>6591.000000</td>\n      <td>6591.000000</td>\n      <td>6591.000000</td>\n      <td>6591.000000</td>\n      <td>6591.000000</td>\n      <td>6591.00000</td>\n      <td>6591.000000</td>\n      <td>6591.000000</td>\n      <td>6591.000000</td>\n      <td>6591.000000</td>\n      <td>6591.000000</td>\n      <td>6591.0</td>\n      <td>6591.0</td>\n      <td>6591.0</td>\n      <td>6591.0</td>\n      <td>6591.0</td>\n      <td>6591.0</td>\n      <td>6591.0</td>\n      <td>6591.0</td>\n      <td>6591.0</td>\n      <td>6591.000000</td>\n      <td>6591.0</td>\n      <td>6591.000000</td>\n      <td>6591.0</td>\n      <td>6591.000000</td>\n      <td>6591.0</td>\n      <td>6591.000000</td>\n      <td>6591.000000</td>\n      <td>6591.000000</td>\n      <td>6591.000000</td>\n      <td>6591.000000</td>\n      <td>6591.000000</td>\n      <td>6591.000000</td>\n      <td>6591.000000</td>\n      <td>6591.000000</td>\n      <td>6591.000000</td>\n      <td>6591.000000</td>\n      <td>6591.000000</td>\n      <td>6591.000000</td>\n      <td>6591.000000</td>\n      <td>6591.000000</td>\n      <td>6591.000000</td>\n      <td>6591.000000</td>\n      <td>6591.000000</td>\n      <td>6591.000000</td>\n      <td>6.591000e+03</td>\n      <td>6591.000000</td>\n      <td>6591.000000</td>\n      <td>6591.000000</td>\n      <td>6591.000000</td>\n      <td>6591.000000</td>\n      <td>6591.000000</td>\n      <td>6591.000000</td>\n      <td>6591.000000</td>\n      <td>6591.000000</td>\n      <td>6591.000000</td>\n      <td>6591.000000</td>\n      <td>6591.000000</td>\n      <td>6591.000000</td>\n      <td>6591.000000</td>\n      <td>6591.000000</td>\n      <td>6591.000000</td>\n      <td>6591.000000</td>\n      <td>6.591000e+03</td>\n      <td>6591.000000</td>\n      <td>6591.000000</td>\n      <td>6591.000000</td>\n      <td>6591.000000</td>\n      <td>6591.000000</td>\n      <td>6591.000000</td>\n      <td>6591.000000</td>\n      <td>6591.000000</td>\n      <td>6591.000000</td>\n      <td>6591.000000</td>\n      <td>6591.000000</td>\n      <td>6591.000000</td>\n      <td>6591.000000</td>\n      <td>6591.000000</td>\n      <td>6591.000000</td>\n      <td>6591.000000</td>\n      <td>6591.000000</td>\n      <td>6.591000e+03</td>\n      <td>6591.000000</td>\n      <td>6591.000000</td>\n      <td>6591.000000</td>\n      <td>6591.000000</td>\n      <td>6591.000000</td>\n      <td>6591.000000</td>\n      <td>6591.000000</td>\n      <td>6591.000000</td>\n      <td>6591.000000</td>\n      <td>6591.000000</td>\n      <td>6591.000000</td>\n      <td>6591.000000</td>\n      <td>6591.000000</td>\n      <td>6591.000000</td>\n      <td>6591.000000</td>\n      <td>6591.000000</td>\n      <td>6591.000000</td>\n      <td>6591.000000</td>\n      <td>6591.000000</td>\n      <td>6591.000000</td>\n      <td>6591.000000</td>\n      <td>6591.000000</td>\n      <td>6591.000000</td>\n      <td>6591.000000</td>\n      <td>6591.000000</td>\n      <td>6591.000000</td>\n      <td>6591.000000</td>\n      <td>6591.000000</td>\n      <td>6591.000000</td>\n      <td>6591.000000</td>\n    </tr>\n    <tr>\n      <th>mean</th>\n      <td>4404.311182</td>\n      <td>0.113792</td>\n      <td>41.252921</td>\n      <td>0.0</td>\n      <td>0.0</td>\n      <td>0.0</td>\n      <td>0.0</td>\n      <td>0.0</td>\n      <td>348.421862</td>\n      <td>316.127727</td>\n      <td>241.171300</td>\n      <td>15110.472186</td>\n      <td>2957.543767</td>\n      <td>0.0</td>\n      <td>0.0</td>\n      <td>12755.120513</td>\n      <td>0.0</td>\n      <td>0.0</td>\n      <td>2496.586148</td>\n      <td>10107.705905</td>\n      <td>2281.830898</td>\n      <td>8599.539958</td>\n      <td>2118.257113</td>\n      <td>9988.094931</td>\n      <td>2278.902041</td>\n      <td>176.188760</td>\n      <td>135.063414</td>\n      <td>18.213389</td>\n      <td>11.495359</td>\n      <td>14798.479263</td>\n      <td>2739.908433</td>\n      <td>189.551053</td>\n      <td>6.939255</td>\n      <td>0.094219</td>\n      <td>0.0</td>\n      <td>0.063840</td>\n      <td>0.0</td>\n      <td>0.0</td>\n      <td>0.0</td>\n      <td>0.0</td>\n      <td>0.0</td>\n      <td>0.0</td>\n      <td>0.047337</td>\n      <td>0.0</td>\n      <td>0.243969</td>\n      <td>0.094219</td>\n      <td>0.047337</td>\n      <td>0.063840</td>\n      <td>0.243969</td>\n      <td>319.025850</td>\n      <td>1.199135e+03</td>\n      <td>6.939255</td>\n      <td>238.876366</td>\n      <td>203.878568</td>\n      <td>166.263009</td>\n      <td>11941.596535</td>\n      <td>1755.161639</td>\n      <td>149.07002</td>\n      <td>111.913034</td>\n      <td>22.900865</td>\n      <td>2.552440</td>\n      <td>11862.354100</td>\n      <td>1623.164219</td>\n      <td>12472.949915</td>\n      <td>1853.605275</td>\n      <td>402.277876</td>\n      <td>246.068683</td>\n      <td>12755.120513</td>\n      <td>2496.586148</td>\n      <td>282.170598</td>\n      <td>642.980872</td>\n      <td>3901.562109</td>\n      <td>631.677063</td>\n      <td>3314.376447</td>\n      <td>361.331623</td>\n      <td>3718.909472</td>\n      <td>435.313787</td>\n      <td>23.064658</td>\n      <td>30.784362</td>\n      <td>9.976280</td>\n      <td>3.649172</td>\n      <td>30.899707</td>\n      <td>15.144530</td>\n      <td>12662.856292</td>\n      <td>2273.704672</td>\n      <td>1101.204172</td>\n      <td>44.035806</td>\n      <td>841.204109</td>\n      <td>16.997412</td>\n      <td>1091.474860</td>\n      <td>25.692605</td>\n      <td>4.625149</td>\n      <td>0.361250</td>\n      <td>2.710038</td>\n      <td>0.0</td>\n      <td>0.0</td>\n      <td>0.0</td>\n      <td>14449.107865</td>\n      <td>0.0</td>\n      <td>0.0</td>\n      <td>3160.859738</td>\n      <td>0.111364</td>\n      <td>0.758380</td>\n      <td>813.523978</td>\n      <td>741.424509</td>\n      <td>253.207856</td>\n      <td>134.155649</td>\n      <td>0.0</td>\n      <td>7.998842</td>\n      <td>12.592091</td>\n      <td>800.502192</td>\n      <td>650.540452</td>\n      <td>0.061447</td>\n      <td>0.258838</td>\n      <td>0.296768</td>\n      <td>0.351595</td>\n      <td>0.0</td>\n      <td>0.0</td>\n      <td>0.637883</td>\n      <td>0.0</td>\n      <td>0.0</td>\n      <td>0.347249</td>\n      <td>0.347249</td>\n      <td>0.513798</td>\n      <td>0.488573</td>\n      <td>1.826278</td>\n      <td>1.482931</td>\n      <td>0.472007</td>\n      <td>1.108026</td>\n      <td>0.068882</td>\n      <td>1.430284</td>\n      <td>1.091033</td>\n      <td>3.102261</td>\n      <td>0.126081</td>\n      <td>4.092095</td>\n      <td>0.502503</td>\n      <td>0.294189</td>\n      <td>0.574116</td>\n      <td>0.051889</td>\n      <td>0.693066</td>\n      <td>0.000455</td>\n      <td>0.000303</td>\n      <td>0.00091</td>\n      <td>0.000152</td>\n      <td>0.000455</td>\n      <td>0.000303</td>\n      <td>0.000759</td>\n      <td>0.000152</td>\n      <td>0.0</td>\n      <td>0.0</td>\n      <td>0.0</td>\n      <td>0.0</td>\n      <td>0.0</td>\n      <td>0.0</td>\n      <td>0.0</td>\n      <td>0.0</td>\n      <td>0.0</td>\n      <td>0.000152</td>\n      <td>0.0</td>\n      <td>0.000455</td>\n      <td>0.0</td>\n      <td>0.000152</td>\n      <td>0.0</td>\n      <td>0.000607</td>\n      <td>0.370020</td>\n      <td>1.173722</td>\n      <td>1.371112</td>\n      <td>0.012986</td>\n      <td>0.352719</td>\n      <td>0.014752</td>\n      <td>15.047251</td>\n      <td>642.833496</td>\n      <td>643.350052</td>\n      <td>3.050068</td>\n      <td>14.990080</td>\n      <td>641.125505</td>\n      <td>641.524653</td>\n      <td>3.038537</td>\n      <td>0.897132</td>\n      <td>0.941587</td>\n      <td>329.495589</td>\n      <td>385.796254</td>\n      <td>2.807376e+07</td>\n      <td>2160.662722</td>\n      <td>0.146371</td>\n      <td>0.025502</td>\n      <td>0.003080</td>\n      <td>0.489133</td>\n      <td>3.628888</td>\n      <td>197.456532</td>\n      <td>37.871036</td>\n      <td>194.243514</td>\n      <td>2.691853</td>\n      <td>199.611592</td>\n      <td>29.764679</td>\n      <td>196.422698</td>\n      <td>0.776665</td>\n      <td>0.794872</td>\n      <td>344.107205</td>\n      <td>374.592743</td>\n      <td>2.959200e+07</td>\n      <td>2281.857836</td>\n      <td>0.088801</td>\n      <td>0.027592</td>\n      <td>0.003513</td>\n      <td>0.544182</td>\n      <td>3.586254</td>\n      <td>101.942953</td>\n      <td>37.440753</td>\n      <td>100.641177</td>\n      <td>2.674253</td>\n      <td>102.468821</td>\n      <td>29.553937</td>\n      <td>101.236686</td>\n      <td>0.697921</td>\n      <td>0.705659</td>\n      <td>357.446865</td>\n      <td>367.358020</td>\n      <td>3.073314e+07</td>\n      <td>2375.097102</td>\n      <td>0.046311</td>\n      <td>0.027929</td>\n      <td>0.003603</td>\n      <td>0.586245</td>\n      <td>3.526475</td>\n      <td>51.996966</td>\n      <td>36.813989</td>\n      <td>51.492490</td>\n      <td>2.633440</td>\n      <td>52.076620</td>\n      <td>29.128660</td>\n      <td>51.615081</td>\n      <td>22.175998</td>\n      <td>79.928691</td>\n      <td>3.438932</td>\n      <td>32.244706</td>\n      <td>30.328709</td>\n      <td>28.832073</td>\n      <td>8.693825</td>\n      <td>15110.472186</td>\n      <td>2957.543767</td>\n      <td>18068.015954</td>\n      <td>12755.120513</td>\n      <td>2496.586148</td>\n      <td>15251.706661</td>\n      <td>2118.257113</td>\n      <td>30.899707</td>\n      <td>21.471639</td>\n      <td>52.371346</td>\n    </tr>\n    <tr>\n      <th>std</th>\n      <td>2523.372091</td>\n      <td>0.317582</td>\n      <td>12.737655</td>\n      <td>0.0</td>\n      <td>0.0</td>\n      <td>0.0</td>\n      <td>0.0</td>\n      <td>0.0</td>\n      <td>3785.603451</td>\n      <td>1381.698371</td>\n      <td>1191.532203</td>\n      <td>32753.367349</td>\n      <td>6926.611799</td>\n      <td>0.0</td>\n      <td>0.0</td>\n      <td>28387.862647</td>\n      <td>0.0</td>\n      <td>0.0</td>\n      <td>6815.445553</td>\n      <td>19103.894729</td>\n      <td>5970.961295</td>\n      <td>17592.946794</td>\n      <td>5848.487981</td>\n      <td>18884.072317</td>\n      <td>5971.398183</td>\n      <td>241.013274</td>\n      <td>305.653211</td>\n      <td>64.937155</td>\n      <td>63.574623</td>\n      <td>31683.509399</td>\n      <td>6748.556398</td>\n      <td>6629.956507</td>\n      <td>79.413931</td>\n      <td>5.440177</td>\n      <td>0.0</td>\n      <td>3.888107</td>\n      <td>0.0</td>\n      <td>0.0</td>\n      <td>0.0</td>\n      <td>0.0</td>\n      <td>0.0</td>\n      <td>0.0</td>\n      <td>3.843076</td>\n      <td>0.0</td>\n      <td>15.086034</td>\n      <td>5.440177</td>\n      <td>3.843076</td>\n      <td>3.888107</td>\n      <td>15.086034</td>\n      <td>9806.135071</td>\n      <td>3.581512e+04</td>\n      <td>79.413931</td>\n      <td>1221.715064</td>\n      <td>303.536588</td>\n      <td>348.831859</td>\n      <td>27897.193021</td>\n      <td>6367.427009</td>\n      <td>2252.21930</td>\n      <td>505.452879</td>\n      <td>613.263532</td>\n      <td>25.195644</td>\n      <td>27781.396556</td>\n      <td>5538.877196</td>\n      <td>28239.378623</td>\n      <td>6398.628632</td>\n      <td>6865.165034</td>\n      <td>735.185483</td>\n      <td>28387.862647</td>\n      <td>6815.445553</td>\n      <td>1013.405469</td>\n      <td>1645.219649</td>\n      <td>25130.613812</td>\n      <td>2757.153871</td>\n      <td>20744.636618</td>\n      <td>3202.384951</td>\n      <td>23839.462433</td>\n      <td>2611.828823</td>\n      <td>162.902295</td>\n      <td>140.372490</td>\n      <td>616.251377</td>\n      <td>25.393428</td>\n      <td>621.748365</td>\n      <td>69.305842</td>\n      <td>28270.845776</td>\n      <td>5914.634174</td>\n      <td>2180.670482</td>\n      <td>288.360161</td>\n      <td>1879.398208</td>\n      <td>245.570270</td>\n      <td>2670.865298</td>\n      <td>311.563694</td>\n      <td>53.157854</td>\n      <td>14.427911</td>\n      <td>49.338223</td>\n      <td>0.0</td>\n      <td>0.0</td>\n      <td>0.0</td>\n      <td>33640.627223</td>\n      <td>0.0</td>\n      <td>0.0</td>\n      <td>8703.889479</td>\n      <td>9.041082</td>\n      <td>54.864363</td>\n      <td>2093.928051</td>\n      <td>1765.777349</td>\n      <td>6484.494664</td>\n      <td>495.576671</td>\n      <td>0.0</td>\n      <td>102.039123</td>\n      <td>63.430637</td>\n      <td>2079.472431</td>\n      <td>1510.796501</td>\n      <td>0.250072</td>\n      <td>0.558073</td>\n      <td>0.568725</td>\n      <td>0.419842</td>\n      <td>0.0</td>\n      <td>0.0</td>\n      <td>0.428321</td>\n      <td>0.0</td>\n      <td>0.0</td>\n      <td>0.423245</td>\n      <td>0.423245</td>\n      <td>0.430884</td>\n      <td>0.504886</td>\n      <td>1.629866</td>\n      <td>2.031237</td>\n      <td>1.577372</td>\n      <td>2.688002</td>\n      <td>0.469192</td>\n      <td>3.560825</td>\n      <td>4.550365</td>\n      <td>8.530309</td>\n      <td>1.191410</td>\n      <td>10.537375</td>\n      <td>1.254292</td>\n      <td>0.839879</td>\n      <td>1.136880</td>\n      <td>0.320814</td>\n      <td>1.273166</td>\n      <td>0.021331</td>\n      <td>0.017418</td>\n      <td>0.03483</td>\n      <td>0.012318</td>\n      <td>0.021331</td>\n      <td>0.017418</td>\n      <td>0.027535</td>\n      <td>0.012318</td>\n      <td>0.0</td>\n      <td>0.0</td>\n      <td>0.0</td>\n      <td>0.0</td>\n      <td>0.0</td>\n      <td>0.0</td>\n      <td>0.0</td>\n      <td>0.0</td>\n      <td>0.0</td>\n      <td>0.012318</td>\n      <td>0.0</td>\n      <td>0.021331</td>\n      <td>0.0</td>\n      <td>0.012318</td>\n      <td>0.0</td>\n      <td>0.030168</td>\n      <td>0.423353</td>\n      <td>0.908407</td>\n      <td>1.882523</td>\n      <td>0.058573</td>\n      <td>0.442645</td>\n      <td>0.114823</td>\n      <td>8.776022</td>\n      <td>603.785573</td>\n      <td>609.732834</td>\n      <td>1.886759</td>\n      <td>8.807822</td>\n      <td>604.352357</td>\n      <td>609.954698</td>\n      <td>1.892410</td>\n      <td>0.940914</td>\n      <td>1.021656</td>\n      <td>470.787975</td>\n      <td>558.088982</td>\n      <td>3.448231e+07</td>\n      <td>2897.784652</td>\n      <td>0.314779</td>\n      <td>0.130666</td>\n      <td>0.046758</td>\n      <td>0.479120</td>\n      <td>3.377473</td>\n      <td>187.333569</td>\n      <td>34.904849</td>\n      <td>184.146724</td>\n      <td>2.861686</td>\n      <td>193.640923</td>\n      <td>30.408374</td>\n      <td>190.801018</td>\n      <td>0.762080</td>\n      <td>0.800101</td>\n      <td>476.747421</td>\n      <td>533.804853</td>\n      <td>3.477486e+07</td>\n      <td>2929.811332</td>\n      <td>0.255544</td>\n      <td>0.144383</td>\n      <td>0.053125</td>\n      <td>0.486843</td>\n      <td>3.374067</td>\n      <td>93.321087</td>\n      <td>34.887281</td>\n      <td>91.752435</td>\n      <td>2.858940</td>\n      <td>94.913728</td>\n      <td>30.390814</td>\n      <td>93.591599</td>\n      <td>0.645465</td>\n      <td>0.664397</td>\n      <td>489.829366</td>\n      <td>503.443995</td>\n      <td>3.495143e+07</td>\n      <td>2954.041534</td>\n      <td>0.189278</td>\n      <td>0.152407</td>\n      <td>0.056040</td>\n      <td>0.487290</td>\n      <td>3.369891</td>\n      <td>47.110573</td>\n      <td>34.838657</td>\n      <td>46.412257</td>\n      <td>2.849976</td>\n      <td>47.557285</td>\n      <td>30.330233</td>\n      <td>46.953909</td>\n      <td>46.997869</td>\n      <td>98.543612</td>\n      <td>3.840586</td>\n      <td>128.025745</td>\n      <td>121.592090</td>\n      <td>121.536341</td>\n      <td>37.810863</td>\n      <td>32753.367349</td>\n      <td>6926.611799</td>\n      <td>34258.804024</td>\n      <td>28387.862647</td>\n      <td>6815.445553</td>\n      <td>29914.465542</td>\n      <td>5848.487981</td>\n      <td>621.748365</td>\n      <td>619.437373</td>\n      <td>1237.021516</td>\n    </tr>\n    <tr>\n      <th>min</th>\n      <td>0.000000</td>\n      <td>0.000000</td>\n      <td>20.000000</td>\n      <td>0.0</td>\n      <td>0.0</td>\n      <td>0.0</td>\n      <td>0.0</td>\n      <td>0.0</td>\n      <td>0.000000</td>\n      <td>0.000000</td>\n      <td>0.000000</td>\n      <td>0.000000</td>\n      <td>0.000000</td>\n      <td>0.0</td>\n      <td>0.0</td>\n      <td>0.000000</td>\n      <td>0.0</td>\n      <td>0.0</td>\n      <td>0.000000</td>\n      <td>0.000000</td>\n      <td>0.000000</td>\n      <td>0.000000</td>\n      <td>0.000000</td>\n      <td>0.000000</td>\n      <td>0.000000</td>\n      <td>0.000000</td>\n      <td>0.000000</td>\n      <td>0.000000</td>\n      <td>0.000000</td>\n      <td>0.000000</td>\n      <td>0.000000</td>\n      <td>0.000000</td>\n      <td>0.000000</td>\n      <td>0.000000</td>\n      <td>0.0</td>\n      <td>0.000000</td>\n      <td>0.0</td>\n      <td>0.0</td>\n      <td>0.0</td>\n      <td>0.0</td>\n      <td>0.0</td>\n      <td>0.0</td>\n      <td>0.000000</td>\n      <td>0.0</td>\n      <td>0.000000</td>\n      <td>0.000000</td>\n      <td>0.000000</td>\n      <td>0.000000</td>\n      <td>0.000000</td>\n      <td>0.000000</td>\n      <td>0.000000e+00</td>\n      <td>0.000000</td>\n      <td>0.000000</td>\n      <td>0.000000</td>\n      <td>0.000000</td>\n      <td>0.000000</td>\n      <td>0.000000</td>\n      <td>0.00000</td>\n      <td>0.000000</td>\n      <td>0.000000</td>\n      <td>0.000000</td>\n      <td>0.000000</td>\n      <td>0.000000</td>\n      <td>0.000000</td>\n      <td>0.000000</td>\n      <td>0.000000</td>\n      <td>0.000000</td>\n      <td>0.000000</td>\n      <td>0.000000</td>\n      <td>0.000000</td>\n      <td>0.000000</td>\n      <td>0.000000</td>\n      <td>0.000000</td>\n      <td>0.000000</td>\n      <td>0.000000</td>\n      <td>0.000000</td>\n      <td>0.000000</td>\n      <td>0.000000</td>\n      <td>0.000000</td>\n      <td>0.000000</td>\n      <td>0.000000</td>\n      <td>0.000000</td>\n      <td>0.000000</td>\n      <td>0.000000</td>\n      <td>0.000000</td>\n      <td>0.000000</td>\n      <td>0.000000</td>\n      <td>0.000000</td>\n      <td>0.000000</td>\n      <td>0.000000</td>\n      <td>0.000000</td>\n      <td>0.000000</td>\n      <td>0.000000</td>\n      <td>0.000000</td>\n      <td>0.0</td>\n      <td>0.0</td>\n      <td>0.0</td>\n      <td>0.000000</td>\n      <td>0.0</td>\n      <td>0.0</td>\n      <td>0.000000</td>\n      <td>0.000000</td>\n      <td>0.000000</td>\n      <td>0.000000</td>\n      <td>0.000000</td>\n      <td>0.000000</td>\n      <td>0.000000</td>\n      <td>0.0</td>\n      <td>0.000000</td>\n      <td>0.000000</td>\n      <td>0.000000</td>\n      <td>0.000000</td>\n      <td>0.000000</td>\n      <td>0.000000</td>\n      <td>0.000000</td>\n      <td>0.000000</td>\n      <td>0.0</td>\n      <td>0.0</td>\n      <td>0.000000</td>\n      <td>0.0</td>\n      <td>0.0</td>\n      <td>0.000000</td>\n      <td>0.000000</td>\n      <td>0.000000</td>\n      <td>0.000000</td>\n      <td>0.000000</td>\n      <td>0.000000</td>\n      <td>0.000000</td>\n      <td>0.000000</td>\n      <td>0.000000</td>\n      <td>0.000000</td>\n      <td>0.000000</td>\n      <td>0.000000</td>\n      <td>0.000000</td>\n      <td>0.000000</td>\n      <td>0.000000</td>\n      <td>0.000000</td>\n      <td>0.000000</td>\n      <td>0.000000</td>\n      <td>0.000000</td>\n      <td>0.000000</td>\n      <td>0.000000</td>\n      <td>0.00000</td>\n      <td>0.000000</td>\n      <td>0.000000</td>\n      <td>0.000000</td>\n      <td>0.000000</td>\n      <td>0.000000</td>\n      <td>0.0</td>\n      <td>0.0</td>\n      <td>0.0</td>\n      <td>0.0</td>\n      <td>0.0</td>\n      <td>0.0</td>\n      <td>0.0</td>\n      <td>0.0</td>\n      <td>0.0</td>\n      <td>0.000000</td>\n      <td>0.0</td>\n      <td>0.000000</td>\n      <td>0.0</td>\n      <td>0.000000</td>\n      <td>0.0</td>\n      <td>0.000000</td>\n      <td>0.000000</td>\n      <td>0.000000</td>\n      <td>0.000000</td>\n      <td>0.000000</td>\n      <td>0.000000</td>\n      <td>0.000000</td>\n      <td>0.000000</td>\n      <td>0.000000</td>\n      <td>0.000000</td>\n      <td>0.000000</td>\n      <td>0.000000</td>\n      <td>0.000000</td>\n      <td>0.000000</td>\n      <td>0.000000</td>\n      <td>0.000000</td>\n      <td>0.000000</td>\n      <td>0.000000</td>\n      <td>0.000000</td>\n      <td>0.000000e+00</td>\n      <td>0.000000</td>\n      <td>0.000000</td>\n      <td>0.000000</td>\n      <td>0.000000</td>\n      <td>0.000000</td>\n      <td>0.000000</td>\n      <td>0.000000</td>\n      <td>0.000000</td>\n      <td>0.000000</td>\n      <td>0.000000</td>\n      <td>0.000000</td>\n      <td>0.000000</td>\n      <td>0.000000</td>\n      <td>0.000000</td>\n      <td>0.000000</td>\n      <td>0.000000</td>\n      <td>0.000000</td>\n      <td>0.000000e+00</td>\n      <td>0.000000</td>\n      <td>0.000000</td>\n      <td>0.000000</td>\n      <td>0.000000</td>\n      <td>0.000000</td>\n      <td>0.000000</td>\n      <td>0.000000</td>\n      <td>0.000000</td>\n      <td>0.000000</td>\n      <td>0.000000</td>\n      <td>0.000000</td>\n      <td>0.000000</td>\n      <td>0.000000</td>\n      <td>0.000000</td>\n      <td>0.000000</td>\n      <td>0.000000</td>\n      <td>0.000000</td>\n      <td>0.000000e+00</td>\n      <td>0.000000</td>\n      <td>0.000000</td>\n      <td>0.000000</td>\n      <td>0.000000</td>\n      <td>0.000000</td>\n      <td>0.000000</td>\n      <td>0.000000</td>\n      <td>0.000000</td>\n      <td>0.000000</td>\n      <td>0.000000</td>\n      <td>0.000000</td>\n      <td>0.000000</td>\n      <td>0.000000</td>\n      <td>0.000000</td>\n      <td>0.000000</td>\n      <td>0.000000</td>\n      <td>0.000000</td>\n      <td>0.000000</td>\n      <td>0.000000</td>\n      <td>-7.000000</td>\n      <td>0.000000</td>\n      <td>0.000000</td>\n      <td>60.000000</td>\n      <td>0.000000</td>\n      <td>0.000000</td>\n      <td>0.000000</td>\n      <td>0.000000</td>\n      <td>0.000000</td>\n      <td>0.000000</td>\n      <td>0.000000</td>\n    </tr>\n    <tr>\n      <th>25%</th>\n      <td>2210.500000</td>\n      <td>0.000000</td>\n      <td>31.000000</td>\n      <td>0.0</td>\n      <td>0.0</td>\n      <td>0.0</td>\n      <td>0.0</td>\n      <td>0.0</td>\n      <td>0.000000</td>\n      <td>0.000000</td>\n      <td>0.000000</td>\n      <td>500.000000</td>\n      <td>0.000000</td>\n      <td>0.0</td>\n      <td>0.0</td>\n      <td>91.635000</td>\n      <td>0.0</td>\n      <td>0.0</td>\n      <td>0.000000</td>\n      <td>0.000000</td>\n      <td>0.000000</td>\n      <td>0.000000</td>\n      <td>0.000000</td>\n      <td>0.000000</td>\n      <td>0.000000</td>\n      <td>0.000000</td>\n      <td>0.000000</td>\n      <td>0.000000</td>\n      <td>0.000000</td>\n      <td>316.080000</td>\n      <td>0.000000</td>\n      <td>0.000000</td>\n      <td>0.000000</td>\n      <td>0.000000</td>\n      <td>0.0</td>\n      <td>0.000000</td>\n      <td>0.0</td>\n      <td>0.0</td>\n      <td>0.0</td>\n      <td>0.0</td>\n      <td>0.0</td>\n      <td>0.0</td>\n      <td>0.000000</td>\n      <td>0.0</td>\n      <td>0.000000</td>\n      <td>0.000000</td>\n      <td>0.000000</td>\n      <td>0.000000</td>\n      <td>0.000000</td>\n      <td>0.000000</td>\n      <td>0.000000e+00</td>\n      <td>0.000000</td>\n      <td>0.000000</td>\n      <td>0.000000</td>\n      <td>0.000000</td>\n      <td>0.000000</td>\n      <td>0.000000</td>\n      <td>0.00000</td>\n      <td>0.000000</td>\n      <td>0.000000</td>\n      <td>0.000000</td>\n      <td>0.000000</td>\n      <td>0.000000</td>\n      <td>0.000000</td>\n      <td>0.000000</td>\n      <td>0.000000</td>\n      <td>0.000000</td>\n      <td>91.635000</td>\n      <td>0.000000</td>\n      <td>0.000000</td>\n      <td>0.000000</td>\n      <td>0.000000</td>\n      <td>0.000000</td>\n      <td>0.000000</td>\n      <td>0.000000</td>\n      <td>0.000000</td>\n      <td>0.000000</td>\n      <td>0.000000</td>\n      <td>0.000000</td>\n      <td>0.000000</td>\n      <td>0.000000</td>\n      <td>0.000000</td>\n      <td>0.000000</td>\n      <td>73.145000</td>\n      <td>0.000000</td>\n      <td>0.000000</td>\n      <td>0.000000</td>\n      <td>0.000000</td>\n      <td>0.000000</td>\n      <td>0.000000</td>\n      <td>0.000000</td>\n      <td>0.000000</td>\n      <td>0.000000</td>\n      <td>0.000000</td>\n      <td>0.0</td>\n      <td>0.0</td>\n      <td>0.0</td>\n      <td>280.500000</td>\n      <td>0.0</td>\n      <td>0.0</td>\n      <td>0.000000</td>\n      <td>0.000000</td>\n      <td>0.000000</td>\n      <td>0.000000</td>\n      <td>0.000000</td>\n      <td>0.000000</td>\n      <td>0.000000</td>\n      <td>0.0</td>\n      <td>0.000000</td>\n      <td>0.000000</td>\n      <td>0.000000</td>\n      <td>0.000000</td>\n      <td>0.000000</td>\n      <td>0.000000</td>\n      <td>0.000000</td>\n      <td>0.000000</td>\n      <td>0.0</td>\n      <td>0.0</td>\n      <td>0.033043</td>\n      <td>0.0</td>\n      <td>0.0</td>\n      <td>0.000000</td>\n      <td>0.000000</td>\n      <td>0.000000</td>\n      <td>0.000000</td>\n      <td>1.000000</td>\n      <td>0.000000</td>\n      <td>0.000000</td>\n      <td>0.000000</td>\n      <td>0.000000</td>\n      <td>0.000000</td>\n      <td>0.000000</td>\n      <td>0.000000</td>\n      <td>0.000000</td>\n      <td>0.000000</td>\n      <td>0.000000</td>\n      <td>0.000000</td>\n      <td>0.000000</td>\n      <td>0.000000</td>\n      <td>0.000000</td>\n      <td>0.000000</td>\n      <td>0.000000</td>\n      <td>0.00000</td>\n      <td>0.000000</td>\n      <td>0.000000</td>\n      <td>0.000000</td>\n      <td>0.000000</td>\n      <td>0.000000</td>\n      <td>0.0</td>\n      <td>0.0</td>\n      <td>0.0</td>\n      <td>0.0</td>\n      <td>0.0</td>\n      <td>0.0</td>\n      <td>0.0</td>\n      <td>0.0</td>\n      <td>0.0</td>\n      <td>0.000000</td>\n      <td>0.0</td>\n      <td>0.000000</td>\n      <td>0.0</td>\n      <td>0.000000</td>\n      <td>0.0</td>\n      <td>0.000000</td>\n      <td>0.000000</td>\n      <td>1.000000</td>\n      <td>0.000000</td>\n      <td>0.000000</td>\n      <td>0.000000</td>\n      <td>0.000000</td>\n      <td>8.833333</td>\n      <td>0.000000</td>\n      <td>0.000000</td>\n      <td>1.000000</td>\n      <td>6.000000</td>\n      <td>0.000000</td>\n      <td>0.000000</td>\n      <td>1.000000</td>\n      <td>0.000000</td>\n      <td>0.000000</td>\n      <td>0.000000</td>\n      <td>0.000000</td>\n      <td>0.000000e+00</td>\n      <td>0.000000</td>\n      <td>0.000000</td>\n      <td>0.000000</td>\n      <td>0.000000</td>\n      <td>0.000000</td>\n      <td>0.000000</td>\n      <td>0.000000</td>\n      <td>0.000000</td>\n      <td>0.000000</td>\n      <td>0.000000</td>\n      <td>0.000000</td>\n      <td>0.000000</td>\n      <td>0.000000</td>\n      <td>0.000000</td>\n      <td>0.000000</td>\n      <td>0.000000</td>\n      <td>0.000000</td>\n      <td>0.000000e+00</td>\n      <td>0.000000</td>\n      <td>0.000000</td>\n      <td>0.000000</td>\n      <td>0.000000</td>\n      <td>0.000000</td>\n      <td>0.000000</td>\n      <td>0.000000</td>\n      <td>0.000000</td>\n      <td>0.000000</td>\n      <td>0.000000</td>\n      <td>0.000000</td>\n      <td>0.000000</td>\n      <td>0.000000</td>\n      <td>0.000000</td>\n      <td>0.000000</td>\n      <td>0.000000</td>\n      <td>0.000000</td>\n      <td>0.000000e+00</td>\n      <td>0.000000</td>\n      <td>0.000000</td>\n      <td>0.000000</td>\n      <td>0.000000</td>\n      <td>0.000000</td>\n      <td>0.000000</td>\n      <td>0.000000</td>\n      <td>0.000000</td>\n      <td>0.000000</td>\n      <td>0.000000</td>\n      <td>0.000000</td>\n      <td>0.000000</td>\n      <td>0.000000</td>\n      <td>0.000000</td>\n      <td>0.000000</td>\n      <td>0.000000</td>\n      <td>0.000000</td>\n      <td>0.000000</td>\n      <td>0.000000</td>\n      <td>0.000000</td>\n      <td>500.000000</td>\n      <td>0.000000</td>\n      <td>1800.000000</td>\n      <td>91.635000</td>\n      <td>0.000000</td>\n      <td>1106.140000</td>\n      <td>0.000000</td>\n      <td>0.000000</td>\n      <td>0.000000</td>\n      <td>0.000000</td>\n    </tr>\n    <tr>\n      <th>50%</th>\n      <td>4453.000000</td>\n      <td>0.000000</td>\n      <td>40.000000</td>\n      <td>0.0</td>\n      <td>0.0</td>\n      <td>0.0</td>\n      <td>0.0</td>\n      <td>0.0</td>\n      <td>0.000000</td>\n      <td>0.000000</td>\n      <td>0.000000</td>\n      <td>4401.000000</td>\n      <td>500.000000</td>\n      <td>0.0</td>\n      <td>0.0</td>\n      <td>2988.000000</td>\n      <td>0.0</td>\n      <td>0.0</td>\n      <td>361.000000</td>\n      <td>2524.000000</td>\n      <td>291.990000</td>\n      <td>1622.000000</td>\n      <td>200.000000</td>\n      <td>2500.000000</td>\n      <td>260.000000</td>\n      <td>99.000000</td>\n      <td>0.000000</td>\n      <td>0.000000</td>\n      <td>0.000000</td>\n      <td>4209.460000</td>\n      <td>500.000000</td>\n      <td>0.000000</td>\n      <td>0.000000</td>\n      <td>0.000000</td>\n      <td>0.0</td>\n      <td>0.000000</td>\n      <td>0.0</td>\n      <td>0.0</td>\n      <td>0.0</td>\n      <td>0.0</td>\n      <td>0.0</td>\n      <td>0.0</td>\n      <td>0.000000</td>\n      <td>0.0</td>\n      <td>0.000000</td>\n      <td>0.000000</td>\n      <td>0.000000</td>\n      <td>0.000000</td>\n      <td>0.000000</td>\n      <td>0.000000</td>\n      <td>0.000000e+00</td>\n      <td>0.000000</td>\n      <td>0.000000</td>\n      <td>113.000000</td>\n      <td>28.000000</td>\n      <td>2015.440000</td>\n      <td>0.000000</td>\n      <td>0.00000</td>\n      <td>0.000000</td>\n      <td>0.000000</td>\n      <td>0.000000</td>\n      <td>1978.000000</td>\n      <td>0.000000</td>\n      <td>2668.000000</td>\n      <td>0.000000</td>\n      <td>0.000000</td>\n      <td>0.000000</td>\n      <td>2988.000000</td>\n      <td>361.000000</td>\n      <td>0.000000</td>\n      <td>0.000000</td>\n      <td>0.000000</td>\n      <td>0.000000</td>\n      <td>0.000000</td>\n      <td>0.000000</td>\n      <td>0.000000</td>\n      <td>0.000000</td>\n      <td>0.000000</td>\n      <td>0.000000</td>\n      <td>0.000000</td>\n      <td>0.000000</td>\n      <td>0.000000</td>\n      <td>0.000000</td>\n      <td>2936.290000</td>\n      <td>318.000000</td>\n      <td>0.000000</td>\n      <td>0.000000</td>\n      <td>0.000000</td>\n      <td>0.000000</td>\n      <td>0.000000</td>\n      <td>0.000000</td>\n      <td>0.000000</td>\n      <td>0.000000</td>\n      <td>0.000000</td>\n      <td>0.0</td>\n      <td>0.0</td>\n      <td>0.0</td>\n      <td>3478.000000</td>\n      <td>0.0</td>\n      <td>0.0</td>\n      <td>465.410000</td>\n      <td>0.000000</td>\n      <td>0.000000</td>\n      <td>0.000000</td>\n      <td>100.000000</td>\n      <td>0.000000</td>\n      <td>0.000000</td>\n      <td>0.0</td>\n      <td>0.000000</td>\n      <td>0.000000</td>\n      <td>0.000000</td>\n      <td>69.000000</td>\n      <td>0.000000</td>\n      <td>0.000000</td>\n      <td>0.000000</td>\n      <td>0.096216</td>\n      <td>0.0</td>\n      <td>0.0</td>\n      <td>0.907324</td>\n      <td>0.0</td>\n      <td>0.0</td>\n      <td>0.077994</td>\n      <td>0.077994</td>\n      <td>0.666792</td>\n      <td>0.460000</td>\n      <td>1.000000</td>\n      <td>1.000000</td>\n      <td>0.000000</td>\n      <td>0.000000</td>\n      <td>0.000000</td>\n      <td>0.000000</td>\n      <td>0.000000</td>\n      <td>0.000000</td>\n      <td>0.000000</td>\n      <td>0.000000</td>\n      <td>0.000000</td>\n      <td>0.000000</td>\n      <td>0.000000</td>\n      <td>0.000000</td>\n      <td>0.000000</td>\n      <td>0.000000</td>\n      <td>0.000000</td>\n      <td>0.00000</td>\n      <td>0.000000</td>\n      <td>0.000000</td>\n      <td>0.000000</td>\n      <td>0.000000</td>\n      <td>0.000000</td>\n      <td>0.0</td>\n      <td>0.0</td>\n      <td>0.0</td>\n      <td>0.0</td>\n      <td>0.0</td>\n      <td>0.0</td>\n      <td>0.0</td>\n      <td>0.0</td>\n      <td>0.0</td>\n      <td>0.000000</td>\n      <td>0.0</td>\n      <td>0.000000</td>\n      <td>0.0</td>\n      <td>0.000000</td>\n      <td>0.0</td>\n      <td>0.000000</td>\n      <td>0.118519</td>\n      <td>1.000000</td>\n      <td>1.000000</td>\n      <td>0.000000</td>\n      <td>0.000000</td>\n      <td>0.000000</td>\n      <td>20.250000</td>\n      <td>560.000000</td>\n      <td>565.235000</td>\n      <td>4.000000</td>\n      <td>20.250000</td>\n      <td>560.000000</td>\n      <td>564.000000</td>\n      <td>4.000000</td>\n      <td>1.000000</td>\n      <td>1.000000</td>\n      <td>147.298667</td>\n      <td>230.000000</td>\n      <td>0.000000e+00</td>\n      <td>0.000000</td>\n      <td>0.000000</td>\n      <td>0.000000</td>\n      <td>0.000000</td>\n      <td>0.334247</td>\n      <td>4.000000</td>\n      <td>214.000000</td>\n      <td>41.000000</td>\n      <td>202.000000</td>\n      <td>2.000000</td>\n      <td>209.000000</td>\n      <td>25.000000</td>\n      <td>201.000000</td>\n      <td>1.000000</td>\n      <td>1.000000</td>\n      <td>194.333333</td>\n      <td>230.000000</td>\n      <td>0.000000e+00</td>\n      <td>0.000000</td>\n      <td>0.000000</td>\n      <td>0.000000</td>\n      <td>0.000000</td>\n      <td>1.000000</td>\n      <td>4.000000</td>\n      <td>133.000000</td>\n      <td>41.000000</td>\n      <td>128.000000</td>\n      <td>2.000000</td>\n      <td>130.000000</td>\n      <td>24.000000</td>\n      <td>125.000000</td>\n      <td>1.000000</td>\n      <td>1.000000</td>\n      <td>227.444444</td>\n      <td>230.000000</td>\n      <td>0.000000e+00</td>\n      <td>0.000000</td>\n      <td>0.000000</td>\n      <td>0.000000</td>\n      <td>0.000000</td>\n      <td>1.000000</td>\n      <td>4.000000</td>\n      <td>85.000000</td>\n      <td>41.000000</td>\n      <td>84.000000</td>\n      <td>2.000000</td>\n      <td>84.000000</td>\n      <td>23.000000</td>\n      <td>82.000000</td>\n      <td>2.000000</td>\n      <td>42.000000</td>\n      <td>3.000000</td>\n      <td>0.000000</td>\n      <td>0.000000</td>\n      <td>0.000000</td>\n      <td>0.000000</td>\n      <td>4401.000000</td>\n      <td>500.000000</td>\n      <td>7132.000000</td>\n      <td>2988.000000</td>\n      <td>361.000000</td>\n      <td>5214.000000</td>\n      <td>200.000000</td>\n      <td>0.000000</td>\n      <td>0.000000</td>\n      <td>0.000000</td>\n    </tr>\n    <tr>\n      <th>75%</th>\n      <td>6584.500000</td>\n      <td>0.000000</td>\n      <td>50.000000</td>\n      <td>0.0</td>\n      <td>0.0</td>\n      <td>0.0</td>\n      <td>0.0</td>\n      <td>0.0</td>\n      <td>0.000000</td>\n      <td>0.000000</td>\n      <td>0.000000</td>\n      <td>17076.500000</td>\n      <td>2400.000000</td>\n      <td>0.0</td>\n      <td>0.0</td>\n      <td>13974.000000</td>\n      <td>0.0</td>\n      <td>0.0</td>\n      <td>1762.015000</td>\n      <td>13000.000000</td>\n      <td>1514.000000</td>\n      <td>10414.500000</td>\n      <td>1354.000000</td>\n      <td>12924.830000</td>\n      <td>1500.000000</td>\n      <td>264.000000</td>\n      <td>163.500000</td>\n      <td>0.000000</td>\n      <td>0.000000</td>\n      <td>16947.000000</td>\n      <td>2000.000000</td>\n      <td>0.000000</td>\n      <td>0.000000</td>\n      <td>0.000000</td>\n      <td>0.0</td>\n      <td>0.000000</td>\n      <td>0.0</td>\n      <td>0.0</td>\n      <td>0.0</td>\n      <td>0.0</td>\n      <td>0.0</td>\n      <td>0.0</td>\n      <td>0.000000</td>\n      <td>0.0</td>\n      <td>0.000000</td>\n      <td>0.000000</td>\n      <td>0.000000</td>\n      <td>0.000000</td>\n      <td>0.000000</td>\n      <td>0.000000</td>\n      <td>0.000000e+00</td>\n      <td>0.000000</td>\n      <td>88.000000</td>\n      <td>296.000000</td>\n      <td>209.000000</td>\n      <td>12818.175000</td>\n      <td>0.000000</td>\n      <td>0.00000</td>\n      <td>0.000000</td>\n      <td>0.000000</td>\n      <td>0.000000</td>\n      <td>12669.000000</td>\n      <td>0.000000</td>\n      <td>13663.000000</td>\n      <td>310.375000</td>\n      <td>104.150000</td>\n      <td>0.000000</td>\n      <td>13974.000000</td>\n      <td>1762.015000</td>\n      <td>0.000000</td>\n      <td>676.870000</td>\n      <td>0.000000</td>\n      <td>400.000000</td>\n      <td>0.000000</td>\n      <td>0.000000</td>\n      <td>0.000000</td>\n      <td>0.000000</td>\n      <td>0.000000</td>\n      <td>0.000000</td>\n      <td>0.000000</td>\n      <td>0.000000</td>\n      <td>0.000000</td>\n      <td>0.000000</td>\n      <td>13785.025000</td>\n      <td>1581.180000</td>\n      <td>1500.000000</td>\n      <td>0.000000</td>\n      <td>998.180000</td>\n      <td>0.000000</td>\n      <td>1050.190000</td>\n      <td>0.000000</td>\n      <td>0.000000</td>\n      <td>0.000000</td>\n      <td>0.000000</td>\n      <td>0.0</td>\n      <td>0.0</td>\n      <td>0.0</td>\n      <td>14919.110000</td>\n      <td>0.0</td>\n      <td>0.0</td>\n      <td>2368.180000</td>\n      <td>0.000000</td>\n      <td>0.000000</td>\n      <td>1004.000000</td>\n      <td>800.000000</td>\n      <td>5.105000</td>\n      <td>0.000000</td>\n      <td>0.0</td>\n      <td>0.000000</td>\n      <td>0.000000</td>\n      <td>995.000000</td>\n      <td>730.000000</td>\n      <td>0.000000</td>\n      <td>0.000000</td>\n      <td>0.000000</td>\n      <td>0.891067</td>\n      <td>0.0</td>\n      <td>0.0</td>\n      <td>1.000000</td>\n      <td>0.0</td>\n      <td>0.0</td>\n      <td>0.908350</td>\n      <td>0.908350</td>\n      <td>0.927011</td>\n      <td>0.959015</td>\n      <td>3.000000</td>\n      <td>2.000000</td>\n      <td>0.000000</td>\n      <td>1.000000</td>\n      <td>0.000000</td>\n      <td>1.000000</td>\n      <td>0.000000</td>\n      <td>1.000000</td>\n      <td>0.000000</td>\n      <td>2.000000</td>\n      <td>0.000000</td>\n      <td>0.000000</td>\n      <td>1.000000</td>\n      <td>0.000000</td>\n      <td>1.000000</td>\n      <td>0.000000</td>\n      <td>0.000000</td>\n      <td>0.00000</td>\n      <td>0.000000</td>\n      <td>0.000000</td>\n      <td>0.000000</td>\n      <td>0.000000</td>\n      <td>0.000000</td>\n      <td>0.0</td>\n      <td>0.0</td>\n      <td>0.0</td>\n      <td>0.0</td>\n      <td>0.0</td>\n      <td>0.0</td>\n      <td>0.0</td>\n      <td>0.0</td>\n      <td>0.0</td>\n      <td>0.000000</td>\n      <td>0.0</td>\n      <td>0.000000</td>\n      <td>0.0</td>\n      <td>0.000000</td>\n      <td>0.0</td>\n      <td>0.000000</td>\n      <td>0.885201</td>\n      <td>2.000000</td>\n      <td>2.000000</td>\n      <td>0.001790</td>\n      <td>0.910583</td>\n      <td>0.000000</td>\n      <td>20.800000</td>\n      <td>932.794250</td>\n      <td>930.272500</td>\n      <td>4.000000</td>\n      <td>20.800000</td>\n      <td>930.986250</td>\n      <td>929.575000</td>\n      <td>4.000000</td>\n      <td>1.000000</td>\n      <td>1.000000</td>\n      <td>531.741667</td>\n      <td>580.000000</td>\n      <td>5.230100e+07</td>\n      <td>4674.500000</td>\n      <td>0.000000</td>\n      <td>0.000000</td>\n      <td>0.000000</td>\n      <td>1.000000</td>\n      <td>7.000000</td>\n      <td>364.000000</td>\n      <td>72.000000</td>\n      <td>364.000000</td>\n      <td>4.000000</td>\n      <td>364.000000</td>\n      <td>49.000000</td>\n      <td>364.000000</td>\n      <td>1.000000</td>\n      <td>1.000000</td>\n      <td>559.166667</td>\n      <td>570.000000</td>\n      <td>5.249000e+07</td>\n      <td>4711.000000</td>\n      <td>0.000000</td>\n      <td>0.000000</td>\n      <td>0.000000</td>\n      <td>1.000000</td>\n      <td>7.000000</td>\n      <td>182.000000</td>\n      <td>72.000000</td>\n      <td>182.000000</td>\n      <td>4.000000</td>\n      <td>182.000000</td>\n      <td>49.000000</td>\n      <td>182.000000</td>\n      <td>1.000000</td>\n      <td>1.000000</td>\n      <td>566.222222</td>\n      <td>570.000000</td>\n      <td>5.321100e+07</td>\n      <td>4715.000000</td>\n      <td>0.000000</td>\n      <td>0.000000</td>\n      <td>0.000000</td>\n      <td>1.000000</td>\n      <td>7.000000</td>\n      <td>91.000000</td>\n      <td>72.000000</td>\n      <td>91.000000</td>\n      <td>4.000000</td>\n      <td>91.000000</td>\n      <td>49.000000</td>\n      <td>91.000000</td>\n      <td>23.000000</td>\n      <td>138.000000</td>\n      <td>5.000000</td>\n      <td>0.000000</td>\n      <td>0.000000</td>\n      <td>0.000000</td>\n      <td>0.000000</td>\n      <td>17076.500000</td>\n      <td>2400.000000</td>\n      <td>21180.000000</td>\n      <td>13974.000000</td>\n      <td>1762.015000</td>\n      <td>17665.690000</td>\n      <td>1354.000000</td>\n      <td>0.000000</td>\n      <td>0.000000</td>\n      <td>9.000000</td>\n    </tr>\n    <tr>\n      <th>max</th>\n      <td>8787.000000</td>\n      <td>1.000000</td>\n      <td>120.000000</td>\n      <td>0.0</td>\n      <td>0.0</td>\n      <td>0.0</td>\n      <td>0.0</td>\n      <td>0.0</td>\n      <td>165000.000000</td>\n      <td>51000.000000</td>\n      <td>51000.000000</td>\n      <td>786743.000000</td>\n      <td>92218.000000</td>\n      <td>0.0</td>\n      <td>0.0</td>\n      <td>624455.000000</td>\n      <td>0.0</td>\n      <td>0.0</td>\n      <td>196633.000000</td>\n      <td>500000.000000</td>\n      <td>68900.000000</td>\n      <td>497160.000000</td>\n      <td>162549.000000</td>\n      <td>500000.000000</td>\n      <td>68900.000000</td>\n      <td>3035.000000</td>\n      <td>10033.950000</td>\n      <td>2059.000000</td>\n      <td>2692.000000</td>\n      <td>786743.000000</td>\n      <td>92218.000000</td>\n      <td>494019.000000</td>\n      <td>4297.000000</td>\n      <td>378.000000</td>\n      <td>0.0</td>\n      <td>285.000000</td>\n      <td>0.0</td>\n      <td>0.0</td>\n      <td>0.0</td>\n      <td>0.0</td>\n      <td>0.0</td>\n      <td>0.0</td>\n      <td>312.000000</td>\n      <td>0.0</td>\n      <td>1126.000000</td>\n      <td>378.000000</td>\n      <td>312.000000</td>\n      <td>285.000000</td>\n      <td>1126.000000</td>\n      <td>497067.000000</td>\n      <td>2.366174e+06</td>\n      <td>4297.000000</td>\n      <td>50750.000000</td>\n      <td>8439.000000</td>\n      <td>10033.950000</td>\n      <td>620506.000000</td>\n      <td>196633.000000</td>\n      <td>163594.00000</td>\n      <td>8932.000000</td>\n      <td>49514.000000</td>\n      <td>1038.000000</td>\n      <td>620000.000000</td>\n      <td>92218.000000</td>\n      <td>624455.000000</td>\n      <td>196633.000000</td>\n      <td>488958.000000</td>\n      <td>20000.000000</td>\n      <td>624455.000000</td>\n      <td>196633.000000</td>\n      <td>51141.000000</td>\n      <td>57264.710000</td>\n      <td>786743.000000</td>\n      <td>92218.000000</td>\n      <td>620506.000000</td>\n      <td>196633.000000</td>\n      <td>786743.000000</td>\n      <td>92218.000000</td>\n      <td>8439.000000</td>\n      <td>6050.000000</td>\n      <td>49514.000000</td>\n      <td>1038.000000</td>\n      <td>49514.000000</td>\n      <td>2692.000000</td>\n      <td>623949.000000</td>\n      <td>92218.000000</td>\n      <td>39400.000000</td>\n      <td>14668.000000</td>\n      <td>35702.000000</td>\n      <td>14867.000000</td>\n      <td>76988.000000</td>\n      <td>14867.000000</td>\n      <td>3790.000000</td>\n      <td>946.000000</td>\n      <td>3760.000000</td>\n      <td>0.0</td>\n      <td>0.0</td>\n      <td>0.0</td>\n      <td>834433.600000</td>\n      <td>0.0</td>\n      <td>0.0</td>\n      <td>196633.000000</td>\n      <td>734.000000</td>\n      <td>4416.000000</td>\n      <td>90144.000000</td>\n      <td>57264.710000</td>\n      <td>488958.000000</td>\n      <td>20000.000000</td>\n      <td>0.0</td>\n      <td>6918.000000</td>\n      <td>2692.000000</td>\n      <td>90000.000000</td>\n      <td>48740.470000</td>\n      <td>2.000000</td>\n      <td>3.000000</td>\n      <td>4.000000</td>\n      <td>1.000000</td>\n      <td>0.0</td>\n      <td>0.0</td>\n      <td>1.000000</td>\n      <td>0.0</td>\n      <td>0.0</td>\n      <td>1.000000</td>\n      <td>1.000000</td>\n      <td>5.180857</td>\n      <td>2.580000</td>\n      <td>12.000000</td>\n      <td>24.000000</td>\n      <td>25.000000</td>\n      <td>38.000000</td>\n      <td>11.000000</td>\n      <td>71.000000</td>\n      <td>58.000000</td>\n      <td>91.000000</td>\n      <td>42.000000</td>\n      <td>90.000000</td>\n      <td>6.000000</td>\n      <td>6.000000</td>\n      <td>6.000000</td>\n      <td>5.000000</td>\n      <td>6.000000</td>\n      <td>1.000000</td>\n      <td>1.000000</td>\n      <td>2.00000</td>\n      <td>1.000000</td>\n      <td>1.000000</td>\n      <td>1.000000</td>\n      <td>1.000000</td>\n      <td>1.000000</td>\n      <td>0.0</td>\n      <td>0.0</td>\n      <td>0.0</td>\n      <td>0.0</td>\n      <td>0.0</td>\n      <td>0.0</td>\n      <td>0.0</td>\n      <td>0.0</td>\n      <td>0.0</td>\n      <td>1.000000</td>\n      <td>0.0</td>\n      <td>1.000000</td>\n      <td>0.0</td>\n      <td>1.000000</td>\n      <td>0.0</td>\n      <td>2.000000</td>\n      <td>1.000000</td>\n      <td>5.000000</td>\n      <td>21.000000</td>\n      <td>1.000000</td>\n      <td>2.882500</td>\n      <td>1.810638</td>\n      <td>25.600000</td>\n      <td>3541.533333</td>\n      <td>3290.100000</td>\n      <td>6.000000</td>\n      <td>25.600000</td>\n      <td>3541.533333</td>\n      <td>3290.100000</td>\n      <td>6.000000</td>\n      <td>9.000000</td>\n      <td>9.000000</td>\n      <td>12740.000000</td>\n      <td>12600.000000</td>\n      <td>9.629001e+07</td>\n      <td>9900.000000</td>\n      <td>1.000000</td>\n      <td>1.000000</td>\n      <td>1.000000</td>\n      <td>1.000000</td>\n      <td>9.000000</td>\n      <td>1473.000000</td>\n      <td>96.000000</td>\n      <td>1411.000000</td>\n      <td>9.000000</td>\n      <td>2630.000000</td>\n      <td>99.000000</td>\n      <td>2630.000000</td>\n      <td>7.000000</td>\n      <td>7.000000</td>\n      <td>12600.000000</td>\n      <td>12600.000000</td>\n      <td>9.629001e+07</td>\n      <td>9900.000000</td>\n      <td>1.000000</td>\n      <td>1.000000</td>\n      <td>1.000000</td>\n      <td>1.000000</td>\n      <td>9.000000</td>\n      <td>676.000000</td>\n      <td>96.000000</td>\n      <td>676.000000</td>\n      <td>9.000000</td>\n      <td>740.000000</td>\n      <td>99.000000</td>\n      <td>740.000000</td>\n      <td>6.000000</td>\n      <td>6.000000</td>\n      <td>12740.000000</td>\n      <td>12600.000000</td>\n      <td>9.629001e+07</td>\n      <td>9900.000000</td>\n      <td>1.000000</td>\n      <td>1.000000</td>\n      <td>1.000000</td>\n      <td>1.000000</td>\n      <td>9.000000</td>\n      <td>316.000000</td>\n      <td>96.000000</td>\n      <td>316.000000</td>\n      <td>9.000000</td>\n      <td>404.000000</td>\n      <td>99.000000</td>\n      <td>404.000000</td>\n      <td>446.000000</td>\n      <td>1433.000000</td>\n      <td>34.000000</td>\n      <td>1389.030000</td>\n      <td>1389.030000</td>\n      <td>1389.030000</td>\n      <td>462.000000</td>\n      <td>786743.000000</td>\n      <td>92218.000000</td>\n      <td>811557.670000</td>\n      <td>624455.000000</td>\n      <td>196633.000000</td>\n      <td>624455.000000</td>\n      <td>162549.000000</td>\n      <td>49514.000000</td>\n      <td>49514.000000</td>\n      <td>99028.000000</td>\n    </tr>\n  </tbody>\n</table>\n</div>"
          },
          "metadata": {},
          "execution_count": 10
        }
      ],
      "source": [
        "df_train.describe()"
      ]
    },
    {
      "cell_type": "code",
      "execution_count": 11,
      "metadata": {},
      "outputs": [
        {
          "output_type": "execute_result",
          "data": {
            "text/plain": [
              "Unnamed: 0       0\n",
              "Bad_Flag         0\n",
              "x1               0\n",
              "x2               0\n",
              "x3               0\n",
              "x4               0\n",
              "x5               0\n",
              "x6               0\n",
              "x7               0\n",
              "x8               0\n",
              "x10              0\n",
              "x11              0\n",
              "x12              0\n",
              "x13              0\n",
              "x14              0\n",
              "x15              0\n",
              "x16              0\n",
              "x17              0\n",
              "x18              0\n",
              "x19              0\n",
              "x20              0\n",
              "x21              0\n",
              "x22              0\n",
              "x23              0\n",
              "x24              0\n",
              "x25              0\n",
              "x26              0\n",
              "x27              0\n",
              "x28              0\n",
              "x29              0\n",
              "x30              0\n",
              "x31              0\n",
              "x32              0\n",
              "x33              0\n",
              "x34              0\n",
              "x35              0\n",
              "x36              0\n",
              "x37              0\n",
              "x38              0\n",
              "x39              0\n",
              "x40              0\n",
              "x41              0\n",
              "x42              0\n",
              "x43              0\n",
              "x44              0\n",
              "x45              0\n",
              "x46              0\n",
              "x47              0\n",
              "x48              0\n",
              "x49              0\n",
              "x50              0\n",
              "x51              0\n",
              "x52              0\n",
              "x53              0\n",
              "x54              0\n",
              "x55              0\n",
              "x56              0\n",
              "x57              0\n",
              "x58              0\n",
              "x59              0\n",
              "x60              0\n",
              "x61              0\n",
              "x62              0\n",
              "x63              0\n",
              "x64              0\n",
              "x65              0\n",
              "x66              0\n",
              "x67              0\n",
              "x68              0\n",
              "x69              0\n",
              "x70              0\n",
              "x71              0\n",
              "x72              0\n",
              "x73              0\n",
              "x74              0\n",
              "x75              0\n",
              "x76              0\n",
              "x77              0\n",
              "x78              0\n",
              "x79              0\n",
              "x80              0\n",
              "x81              0\n",
              "x82              0\n",
              "x83              0\n",
              "x84              0\n",
              "x85              0\n",
              "x86              0\n",
              "x87              0\n",
              "x88              0\n",
              "x89              0\n",
              "x90              0\n",
              "x91              0\n",
              "x92              0\n",
              "x93              0\n",
              "x94              0\n",
              "x95              0\n",
              "x96              0\n",
              "x97              0\n",
              "x98              0\n",
              "x99              0\n",
              "x100             0\n",
              "x101             0\n",
              "x102             0\n",
              "x103             0\n",
              "x104             0\n",
              "x105             0\n",
              "x106             0\n",
              "x107             0\n",
              "x108             0\n",
              "x109             0\n",
              "x110             0\n",
              "x111             0\n",
              "x112             0\n",
              "x113             0\n",
              "x114             0\n",
              "x115             0\n",
              "x116             0\n",
              "x117             0\n",
              "x118             0\n",
              "x119             0\n",
              "x120             0\n",
              "x121             0\n",
              "x122             0\n",
              "x123             0\n",
              "x124             0\n",
              "x125             0\n",
              "x126             0\n",
              "x127             0\n",
              "x128             0\n",
              "x129             0\n",
              "x130             0\n",
              "x131             0\n",
              "x132             0\n",
              "x133             0\n",
              "x134             0\n",
              "x135             0\n",
              "x136             0\n",
              "x137             0\n",
              "x138             0\n",
              "x139             0\n",
              "x140             0\n",
              "x141             0\n",
              "x142             0\n",
              "x143             0\n",
              "x144             0\n",
              "x145             0\n",
              "x146             0\n",
              "x147             0\n",
              "x148             0\n",
              "x149             0\n",
              "x150             0\n",
              "x151             0\n",
              "x152             0\n",
              "x153             0\n",
              "x154             0\n",
              "x155             0\n",
              "x156             0\n",
              "x157             0\n",
              "x158             0\n",
              "x159             0\n",
              "x160             0\n",
              "x161             0\n",
              "x162             0\n",
              "x163             0\n",
              "x164             0\n",
              "x165             0\n",
              "x166             0\n",
              "x167             0\n",
              "x168             0\n",
              "x169             0\n",
              "x170             0\n",
              "x171             0\n",
              "x172             0\n",
              "x173             0\n",
              "x174             0\n",
              "x175             0\n",
              "x176             0\n",
              "x177             0\n",
              "x178             0\n",
              "x179             0\n",
              "x180             0\n",
              "x181             0\n",
              "x182             0\n",
              "x183             0\n",
              "x184             0\n",
              "x185             0\n",
              "x186             0\n",
              "x187             0\n",
              "x188             0\n",
              "x189             0\n",
              "x190             0\n",
              "x191             0\n",
              "x192             0\n",
              "x193             0\n",
              "x194             0\n",
              "x195             0\n",
              "x196             0\n",
              "x197             0\n",
              "x198             0\n",
              "x199             0\n",
              "x200             0\n",
              "x201             0\n",
              "x202             0\n",
              "x203             0\n",
              "x204             0\n",
              "x205             0\n",
              "x206             0\n",
              "x207             0\n",
              "x208             0\n",
              "x209             0\n",
              "x210             0\n",
              "x211             0\n",
              "x212             0\n",
              "x213             0\n",
              "x214             0\n",
              "x215             0\n",
              "x216             0\n",
              "x217             0\n",
              "x218             0\n",
              "x219             0\n",
              "x220             0\n",
              "x221             0\n",
              "x222             0\n",
              "x223             0\n",
              "x224             0\n",
              "x225             0\n",
              "x226             0\n",
              "x227             0\n",
              "x228             0\n",
              "x229             0\n",
              "x230             0\n",
              "x231             0\n",
              "x232             0\n",
              "x233             0\n",
              "x234             0\n",
              "x235             0\n",
              "x236             0\n",
              "x237             0\n",
              "x238             0\n",
              "x239             0\n",
              "x240             0\n",
              "x241             0\n",
              "x242             0\n",
              "x243             0\n",
              "x244             0\n",
              "x245             0\n",
              "x246             0\n",
              "x247             0\n",
              "x248             0\n",
              "x249             0\n",
              "x250             0\n",
              "x251             0\n",
              "x252             0\n",
              "x253             0\n",
              "x254             0\n",
              "x255          6046\n",
              "x256             0\n",
              "x257             0\n",
              "x258             0\n",
              "x259             0\n",
              "x260             0\n",
              "x261             0\n",
              "x262             0\n",
              "x263             0\n",
              "x264             0\n",
              "x265             0\n",
              "x266             0\n",
              "x267             0\n",
              "x268             0\n",
              "x269             0\n",
              "x270             0\n",
              "x271             0\n",
              "x272             0\n",
              "x273             0\n",
              "x274             0\n",
              "x275             0\n",
              "x276             0\n",
              "dtype: int64"
            ]
          },
          "metadata": {},
          "execution_count": 11
        }
      ],
      "source": [
        "df_train.isna().sum()"
      ]
    },
    {
      "cell_type": "code",
      "execution_count": 12,
      "metadata": {},
      "outputs": [
        {
          "output_type": "execute_result",
          "data": {
            "text/plain": [
              "5     2016-12-17\n",
              "10    2016-05-09\n",
              "16    2000-03-27\n",
              "22    2019-10-22\n",
              "28    2008-02-29\n",
              "Name: x255, dtype: object"
            ]
          },
          "metadata": {},
          "execution_count": 12
        }
      ],
      "source": [
        "df_train[~df_train[\"x255\"].isna()][\"x255\"].head()"
      ]
    },
    {
      "source": [
        "Поглеждайки бройките липсващи стойности на всяка колона, виждаме, че променлива х255 има висок процент липсващи стойности. След допълнителна проверка, откриваме, че е дата. Размерът на липсващите в х255 е различен от обзервациите с Bad_Flag = 1, което означава, че х255 не е датата, на която обзервациите стават \"Bad\". Следователно, можем да дропнем променливата."
      ],
      "cell_type": "markdown",
      "metadata": {}
    },
    {
      "cell_type": "code",
      "execution_count": 13,
      "metadata": {},
      "outputs": [],
      "source": [
        "df_train = df_train.drop(\"x255\", axis='columns')\n",
        "df_test = df_test.drop(\"x255\", axis='columns')"
      ]
    },
    {
      "source": [
        "Премахваме променливи, които имат само 1 оригинална стойност"
      ],
      "cell_type": "markdown",
      "metadata": {}
    },
    {
      "cell_type": "code",
      "execution_count": 14,
      "metadata": {},
      "outputs": [],
      "source": [
        "# Check for vars with only 1 value\n",
        "vars_to_remove = list(df_train.columns[df_train.nunique() <= 1])"
      ]
    },
    {
      "cell_type": "code",
      "execution_count": 15,
      "metadata": {},
      "outputs": [],
      "source": [
        "df_train = df_train.drop(vars_to_remove, axis='columns')\n",
        "df_test = df_test.drop(vars_to_remove, axis='columns')"
      ]
    },
    {
      "source": [
        "Преглеждаме променливи от тип string"
      ],
      "cell_type": "markdown",
      "metadata": {}
    },
    {
      "cell_type": "code",
      "execution_count": 16,
      "metadata": {},
      "outputs": [],
      "source": [
        "df_num = df_train.select_dtypes(exclude=[np.number])"
      ]
    },
    {
      "cell_type": "code",
      "execution_count": 17,
      "metadata": {},
      "outputs": [
        {
          "output_type": "execute_result",
          "data": {
            "text/plain": [
              "           x2     x3     x4     x5     x6     x7     x8    x10    x11    x12  \\\n",
              "count    6591   6591   6591   6591   6591   6591   6591   6591   6591   6591   \n",
              "unique      4      4      4      4      2      3      2      3      3      3   \n",
              "top     NoDPD  NoDPD  NoDPD  NoDPD  NoDPD  NoDPD  NoDPD  Never  Never  Never   \n",
              "freq     5557   4806   6362   4576   6588   6588   6586   5557   4806   6362   \n",
              "\n",
              "          x13                                            x193  x194  x195  \\\n",
              "count    6591                                            6591  6591  6591   \n",
              "unique      3                                              11    21     2   \n",
              "top     Never  ÐÐµÐ·ÑÑÐ¾ÑÐµÐ½ ÑÑÑÐ´Ð¾Ð² Ð´Ð¾Ð³Ð¾Ð²Ð¾Ñ    01   Yes   \n",
              "freq     4576                                            3870  3690  5038   \n",
              "\n",
              "        x253     x256     x260     x261  x262  x273  x274  x275  x276  \n",
              "count   6591     6591     6591     6591  6591  6591  6591  6591  6591  \n",
              "unique     2        3        3        3     2     2     2     2     2  \n",
              "top      Yes  Missing  Missing  Missing    No    Äà    Äà    Íå    Íå  \n",
              "freq    4377     6046     6046     6046  6046  3524  4226  6189  3449  "
            ],
            "text/html": "<div>\n<style scoped>\n    .dataframe tbody tr th:only-of-type {\n        vertical-align: middle;\n    }\n\n    .dataframe tbody tr th {\n        vertical-align: top;\n    }\n\n    .dataframe thead th {\n        text-align: right;\n    }\n</style>\n<table border=\"1\" class=\"dataframe\">\n  <thead>\n    <tr style=\"text-align: right;\">\n      <th></th>\n      <th>x2</th>\n      <th>x3</th>\n      <th>x4</th>\n      <th>x5</th>\n      <th>x6</th>\n      <th>x7</th>\n      <th>x8</th>\n      <th>x10</th>\n      <th>x11</th>\n      <th>x12</th>\n      <th>x13</th>\n      <th>x193</th>\n      <th>x194</th>\n      <th>x195</th>\n      <th>x253</th>\n      <th>x256</th>\n      <th>x260</th>\n      <th>x261</th>\n      <th>x262</th>\n      <th>x273</th>\n      <th>x274</th>\n      <th>x275</th>\n      <th>x276</th>\n    </tr>\n  </thead>\n  <tbody>\n    <tr>\n      <th>count</th>\n      <td>6591</td>\n      <td>6591</td>\n      <td>6591</td>\n      <td>6591</td>\n      <td>6591</td>\n      <td>6591</td>\n      <td>6591</td>\n      <td>6591</td>\n      <td>6591</td>\n      <td>6591</td>\n      <td>6591</td>\n      <td>6591</td>\n      <td>6591</td>\n      <td>6591</td>\n      <td>6591</td>\n      <td>6591</td>\n      <td>6591</td>\n      <td>6591</td>\n      <td>6591</td>\n      <td>6591</td>\n      <td>6591</td>\n      <td>6591</td>\n      <td>6591</td>\n    </tr>\n    <tr>\n      <th>unique</th>\n      <td>4</td>\n      <td>4</td>\n      <td>4</td>\n      <td>4</td>\n      <td>2</td>\n      <td>3</td>\n      <td>2</td>\n      <td>3</td>\n      <td>3</td>\n      <td>3</td>\n      <td>3</td>\n      <td>11</td>\n      <td>21</td>\n      <td>2</td>\n      <td>2</td>\n      <td>3</td>\n      <td>3</td>\n      <td>3</td>\n      <td>2</td>\n      <td>2</td>\n      <td>2</td>\n      <td>2</td>\n      <td>2</td>\n    </tr>\n    <tr>\n      <th>top</th>\n      <td>NoDPD</td>\n      <td>NoDPD</td>\n      <td>NoDPD</td>\n      <td>NoDPD</td>\n      <td>NoDPD</td>\n      <td>NoDPD</td>\n      <td>NoDPD</td>\n      <td>Never</td>\n      <td>Never</td>\n      <td>Never</td>\n      <td>Never</td>\n      <td>ÐÐµÐ·ÑÑÐ¾ÑÐµÐ½ ÑÑÑÐ´Ð¾Ð² Ð´Ð¾Ð³Ð¾Ð²Ð¾Ñ</td>\n      <td>01</td>\n      <td>Yes</td>\n      <td>Yes</td>\n      <td>Missing</td>\n      <td>Missing</td>\n      <td>Missing</td>\n      <td>No</td>\n      <td>Äà</td>\n      <td>Äà</td>\n      <td>Íå</td>\n      <td>Íå</td>\n    </tr>\n    <tr>\n      <th>freq</th>\n      <td>5557</td>\n      <td>4806</td>\n      <td>6362</td>\n      <td>4576</td>\n      <td>6588</td>\n      <td>6588</td>\n      <td>6586</td>\n      <td>5557</td>\n      <td>4806</td>\n      <td>6362</td>\n      <td>4576</td>\n      <td>3870</td>\n      <td>3690</td>\n      <td>5038</td>\n      <td>4377</td>\n      <td>6046</td>\n      <td>6046</td>\n      <td>6046</td>\n      <td>6046</td>\n      <td>3524</td>\n      <td>4226</td>\n      <td>6189</td>\n      <td>3449</td>\n    </tr>\n  </tbody>\n</table>\n</div>"
          },
          "metadata": {},
          "execution_count": 17
        }
      ],
      "source": [
        "df_num.select_dtypes('object').describe()"
      ]
    },
    {
      "cell_type": "code",
      "execution_count": 18,
      "metadata": {},
      "outputs": [
        {
          "output_type": "stream",
          "name": "stdout",
          "text": [
            "NoDPD     5557\nDPD90      768\nDPD180     158\nDPD181     108\nName: x2, dtype: int64\nNoDPD     4806\nDPD90      912\nDPD181     577\nDPD180     296\nName: x3, dtype: int64\nNoDPD     6362\nDPD90      207\nDPD180      14\nDPD181       8\nName: x4, dtype: int64\nNoDPD     4576\nDPD181     902\nDPD90      860\nDPD180     253\nName: x5, dtype: int64\nNoDPD    6588\nDPD90       3\nName: x6, dtype: int64\nNoDPD     6588\nDPD90        2\nDPD181       1\nName: x7, dtype: int64\nNoDPD    6586\nDPD90       5\nName: x8, dtype: int64\nNever      5557\nMore24M    1031\nLess24M       3\nName: x10, dtype: int64\nNever      4806\nMore24M    1782\nLess24M       3\nName: x11, dtype: int64\nNever      6362\nMore24M     224\nLess24M       5\nName: x12, dtype: int64\nNever      4576\nMore24M    2011\nLess24M       4\nName: x13, dtype: int64\nÐÐµÐ·ÑÑÐ¾ÑÐµÐ½ ÑÑÑÐ´Ð¾Ð² Ð´Ð¾Ð³Ð¾Ð²Ð¾Ñ    3870\nMissing                                           1553\nÐ¡Ð°Ð¼Ð¾Ð¾ÑÐ¸Ð³ÑÑÑÐ²Ð°Ñ ÑÐµ                  323\nUnemployed                                         284\nÐÑÑÐ³Ð¾                                         269\nÐÐµÐ·ÑÐ°Ð±Ð¾ÑÐµÐ½ Ð½Ð° ÑÐ¾Ñ. Ð¿Ð¾Ð¼Ð¾ÑÐ¸     104\nÐÐ¾ÐµÐ½Ð½Ð¾ÑÐ»ÑÐ¶ÐµÑ                           104\nÐÑÑÐ¶Ð°Ð²ÐµÐ½ ÑÐ»ÑÐ¶Ð¸ÑÐµÐ»                   36\nÐÐ¾Ð³Ð¾Ð²Ð¾Ñ Ð·Ð° ÑÐ¿ÑÐ°Ð²Ð»ÐµÐ½Ð¸Ðµ            19\nÄîïúëíèòåëåí òðóäîâ äîãîâîð                         18\nÑúäèÿ/ïðîêóðîð                                      11\nName: x193, dtype: int64\n01         3690\nMissing    1837\n12          273\n16          256\n03          172\n15          104\n06          104\n05           36\n13           28\n10           19\n04           18\n14           12\n24           11\n22           10\n02            8\n82            7\n71            2\n99            1\n26            1\n27            1\n97            1\nName: x194, dtype: int64\nYes    5038\nNo     1553\nName: x195, dtype: int64\nYes    4377\nNo     2214\nName: x253, dtype: int64\nMissing      6046\nïîæèçíåíî     401\nñðî÷íà        144\nName: x256, dtype: int64\nMissing         6046\nËÈ×ÍÀ            523\nÍÀÑËÅÄÑÒÂÅÍÀ      22\nName: x260, dtype: int64\nMissing        6046\nÑÒÀÆ            312\nÈÍÂÀËÈÄÍÎÑÒ     233\nName: x261, dtype: int64\nNo     6046\nYes     545\nName: x262, dtype: int64\nÄà    3524\nÍå    3067\nName: x273, dtype: int64\nÄà    4226\nÍå    2365\nName: x274, dtype: int64\nÍå    6189\nÄà     402\nName: x275, dtype: int64\nÍå    3449\nÄà    3142\nName: x276, dtype: int64\n"
          ]
        }
      ],
      "source": [
        "for i in range(df_num.shape[1]):\n",
        "    print(df_num.iloc[:, i].value_counts(dropna=False))"
      ]
    },
    {
      "source": [
        "Оправяме стойностите в х193, за четимост"
      ],
      "cell_type": "markdown",
      "metadata": {}
    },
    {
      "cell_type": "code",
      "execution_count": 19,
      "metadata": {},
      "outputs": [],
      "source": [
        "df_train[\"x193\"] = np.where(df_train[\"x193\"] == \"Ð\\x91ÐµÐ·Ñ\\x81Ñ\\x80Ð¾Ñ\\x87ÐµÐ½ Ñ\\x82Ñ\\x80Ñ\\x83Ð´Ð¾Ð² Ð´Ð¾Ð³Ð¾Ð²Ð¾Ñ\\x80\", \"Безсрочен трудов договор\", \n",
        "                        np.where(df_train[\"x193\"] == \"Ð¡Ð°Ð¼Ð¾Ð¾Ñ\\x81Ð¸Ð³Ñ\\x83Ñ\\x80Ñ\\x8fÐ²Ð°Ñ\\x89 Ñ\\x81Ðµ\", \"Самоосигуряващ се\", \n",
        "                            np.where(df_train[\"x193\"] == \"Ð\\x92Ð¾ÐµÐ½Ð½Ð¾Ñ\\x81Ð»Ñ\\x83Ð¶ÐµÑ\\x89\", \"Военнослужещ\", \n",
        "                                np.where(df_train[\"x193\"] == \"Ð\\x91ÐµÐ·Ñ\\x80Ð°Ð±Ð¾Ñ\\x82ÐµÐ½ Ð½Ð° Ñ\\x81Ð¾Ñ\\x86. Ð¿Ð¾Ð¼Ð¾Ñ\\x89Ð¸\", \"Безработен на соц. помощи\", \n",
        "                                    np.where(df_train[\"x193\"] == \"Ð\\x94Ñ\\x80Ñ\\x83Ð³Ð¾\", \"Друго\", \n",
        "                                        np.where(df_train[\"x193\"] == \"Ð\\x94Ð¾Ð³Ð¾Ð²Ð¾Ñ\\x80 Ð·Ð° Ñ\\x83Ð¿Ñ\\x80Ð°Ð²Ð»ÐµÐ½Ð¸Ðµ\", \"Договор за управление\", \n",
        "                                            np.where(df_train[\"x193\"] == \"Ð\\x94Ñ\\x8aÑ\\x80Ð¶Ð°Ð²ÐµÐ½ Ñ\\x81Ð»Ñ\\x83Ð¶Ð¸Ñ\\x82ÐµÐ»\", \"Държавен служител\", \n",
        "                                                np.where(df_train[\"x193\"] == \"Äîïúëíèòåëåí òðóäîâ äîãîâîð\", \"Unknown 1\", \n",
        "                                                    np.where(df_train[\"x193\"] == \"Ñúäèÿ/ïðîêóðîð\", \"Unknown 2\", df_train[\"x193\"])))))))))"
      ]
    },
    {
      "cell_type": "code",
      "execution_count": 20,
      "metadata": {},
      "outputs": [],
      "source": [
        "df_test[\"x193\"] = np.where(df_test[\"x193\"] == \"Ð\\x91ÐµÐ·Ñ\\x81Ñ\\x80Ð¾Ñ\\x87ÐµÐ½ Ñ\\x82Ñ\\x80Ñ\\x83Ð´Ð¾Ð² Ð´Ð¾Ð³Ð¾Ð²Ð¾Ñ\\x80\", \"Безсрочен трудов договор\", \n",
        "                        np.where(df_test[\"x193\"] == \"Ð¡Ð°Ð¼Ð¾Ð¾Ñ\\x81Ð¸Ð³Ñ\\x83Ñ\\x80Ñ\\x8fÐ²Ð°Ñ\\x89 Ñ\\x81Ðµ\", \"Самоосигуряващ се\", \n",
        "                            np.where(df_test[\"x193\"] == \"Ð\\x92Ð¾ÐµÐ½Ð½Ð¾Ñ\\x81Ð»Ñ\\x83Ð¶ÐµÑ\\x89\", \"Военнослужещ\", \n",
        "                                np.where(df_test[\"x193\"] == \"Ð\\x91ÐµÐ·Ñ\\x80Ð°Ð±Ð¾Ñ\\x82ÐµÐ½ Ð½Ð° Ñ\\x81Ð¾Ñ\\x86. Ð¿Ð¾Ð¼Ð¾Ñ\\x89Ð¸\", \"Безработен на соц. помощи\", \n",
        "                                    np.where(df_test[\"x193\"] == \"Ð\\x94Ñ\\x80Ñ\\x83Ð³Ð¾\", \"Друго\", \n",
        "                                        np.where(df_test[\"x193\"] == \"Ð\\x94Ð¾Ð³Ð¾Ð²Ð¾Ñ\\x80 Ð·Ð° Ñ\\x83Ð¿Ñ\\x80Ð°Ð²Ð»ÐµÐ½Ð¸Ðµ\", \"Договор за управление\", \n",
        "                                            np.where(df_test[\"x193\"] == \"Ð\\x94Ñ\\x8aÑ\\x80Ð¶Ð°Ð²ÐµÐ½ Ñ\\x81Ð»Ñ\\x83Ð¶Ð¸Ñ\\x82ÐµÐ»\", \"Държавен служител\", \n",
        "                                                np.where(df_test[\"x193\"] == \"Äîïúëíèòåëåí òðóäîâ äîãîâîð\", \"Unknown 1\", \n",
        "                                                    np.where(df_test[\"x193\"] == \"Ñúäèÿ/ïðîêóðîð\", \"Unknown 2\", df_test[\"x193\"])))))))))"
      ]
    },
    {
      "cell_type": "code",
      "execution_count": 21,
      "metadata": {},
      "outputs": [
        {
          "output_type": "execute_result",
          "data": {
            "text/plain": [
              "Безсрочен трудов договор     3870\n",
              "Missing                      1553\n",
              "Самоосигуряващ се             323\n",
              "Unemployed                    284\n",
              "Друго                         269\n",
              "Безработен на соц. помощи     104\n",
              "Военнослужещ                  104\n",
              "Държавен служител              36\n",
              "Договор за управление          19\n",
              "Unknown 1                      18\n",
              "Unknown 2                      11\n",
              "Name: x193, dtype: int64"
            ]
          },
          "metadata": {},
          "execution_count": 21
        }
      ],
      "source": [
        "df_train[\"x193\"].value_counts(dropna=False)"
      ]
    },
    {
      "source": [
        "Виждаме, че пандас има затруднения с четенето на български език. Опитах да променя енкодинг, но нямах успех. Допълнитено, много от променливите имат много висок % струпвания в една стойност и взимаме решение да ги премахнем. "
      ],
      "cell_type": "markdown",
      "metadata": {}
    },
    {
      "cell_type": "code",
      "execution_count": 22,
      "metadata": {},
      "outputs": [],
      "source": [
        "vars_to_remove = [\"x5\", \"x6\", \"x7\"]"
      ]
    },
    {
      "cell_type": "code",
      "execution_count": 23,
      "metadata": {},
      "outputs": [],
      "source": [
        "df_train = df_train.drop(vars_to_remove, axis='columns')\n",
        "df_test = df_test.drop(vars_to_remove, axis='columns')"
      ]
    },
    {
      "source": [
        "Превръщане стринг променливи в нумерични, използвайки pd.get_dummies. Защото в df_test имаме по-малко данни и липсват някои стойности, които може да има в df_train, ние ги добавяме със стойност нула."
      ],
      "cell_type": "markdown",
      "metadata": {}
    },
    {
      "cell_type": "code",
      "execution_count": 24,
      "metadata": {},
      "outputs": [],
      "source": [
        "df_num = df_train.select_dtypes(exclude=[np.number])"
      ]
    },
    {
      "cell_type": "code",
      "execution_count": 25,
      "metadata": {},
      "outputs": [],
      "source": [
        "df_train = pd.get_dummies(data=df_train, columns=list(df_num.columns))\n",
        "df_test = pd.get_dummies(data=df_test, columns=list(df_num.columns))"
      ]
    },
    {
      "cell_type": "code",
      "execution_count": 26,
      "metadata": {},
      "outputs": [
        {
          "output_type": "stream",
          "name": "stdout",
          "text": [
            "(6591, 291)\n(2197, 287)\n"
          ]
        }
      ],
      "source": [
        "print(df_train.shape)\n",
        "print(df_test.shape)"
      ]
    },
    {
      "cell_type": "code",
      "execution_count": 27,
      "metadata": {},
      "outputs": [],
      "source": [
        "df_train, df_test = df_train.align(df_test, join='outer', axis=1, fill_value=0)"
      ]
    },
    {
      "source": [
        "2. Намаляване на размерността на данните"
      ],
      "cell_type": "markdown",
      "metadata": {}
    },
    {
      "cell_type": "code",
      "execution_count": 28,
      "metadata": {},
      "outputs": [],
      "source": [
        "x_train = df_train.drop(\"Bad_Flag\", axis='columns').copy()\n",
        "y_train = df_train[[\"Bad_Flag\"]].copy()\n",
        "\n",
        "x_test = df_test.drop(\"Bad_Flag\", axis='columns').copy()\n",
        "y_test = df_test[[\"Bad_Flag\"]].copy()"
      ]
    },
    {
      "cell_type": "code",
      "execution_count": 29,
      "metadata": {},
      "outputs": [],
      "source": [
        "std_scaler = StandardScaler()\n",
        "x_train = std_scaler.fit_transform(x_train)\n",
        "x_test = std_scaler.transform(x_test)"
      ]
    },
    {
      "cell_type": "code",
      "execution_count": 30,
      "metadata": {},
      "outputs": [],
      "source": [
        "nums = [10, 20, 30, 50, 100, 150, 200, 250, 275, 290]"
      ]
    },
    {
      "cell_type": "code",
      "execution_count": 31,
      "metadata": {},
      "outputs": [],
      "source": [
        "var_ratio = []\n",
        "for num in nums:\n",
        "  pca = PCA(n_components=num)\n",
        "  pca.fit(x_train)\n",
        "  var_ratio.append(np.sum(pca.explained_variance_ratio_))"
      ]
    },
    {
      "cell_type": "code",
      "execution_count": 32,
      "metadata": {},
      "outputs": [
        {
          "output_type": "execute_result",
          "data": {
            "text/plain": [
              "Text(0.5, 1.0, 'n_components vs. Explained Variance Ratio')"
            ]
          },
          "metadata": {},
          "execution_count": 32
        },
        {
          "output_type": "display_data",
          "data": {
            "text/plain": "<Figure size 1200x600 with 1 Axes>",
            "image/svg+xml": "<?xml version=\"1.0\" encoding=\"utf-8\" standalone=\"no\"?>\n<!DOCTYPE svg PUBLIC \"-//W3C//DTD SVG 1.1//EN\"\n  \"http://www.w3.org/Graphics/SVG/1.1/DTD/svg11.dtd\">\n<svg xmlns:xlink=\"http://www.w3.org/1999/xlink\" width=\"501.127597pt\" height=\"277.314375pt\" viewBox=\"0 0 501.127597 277.314375\" xmlns=\"http://www.w3.org/2000/svg\" version=\"1.1\">\n <metadata>\n  <rdf:RDF xmlns:dc=\"http://purl.org/dc/elements/1.1/\" xmlns:cc=\"http://creativecommons.org/ns#\" xmlns:rdf=\"http://www.w3.org/1999/02/22-rdf-syntax-ns#\">\n   <cc:Work>\n    <dc:type rdf:resource=\"http://purl.org/dc/dcmitype/StillImage\"/>\n    <dc:date>2024-02-21T20:10:41.121447</dc:date>\n    <dc:format>image/svg+xml</dc:format>\n    <dc:creator>\n     <cc:Agent>\n      <dc:title>Matplotlib v3.5.1, https://matplotlib.org/</dc:title>\n     </cc:Agent>\n    </dc:creator>\n   </cc:Work>\n  </rdf:RDF>\n </metadata>\n <defs>\n  <style type=\"text/css\">*{stroke-linejoin: round; stroke-linecap: butt}</style>\n </defs>\n <g id=\"figure_1\">\n  <g id=\"patch_1\">\n   <path d=\"M 0 277.314375 \nL 501.127597 277.314375 \nL 501.127597 0 \nL 0 0 \nL 0 277.314375 \nz\n\" style=\"fill: none\"/>\n  </g>\n  <g id=\"axes_1\">\n   <g id=\"patch_2\">\n    <path d=\"M 43.78125 239.758125 \nL 490.18125 239.758125 \nL 490.18125 22.318125 \nL 43.78125 22.318125 \nz\n\" style=\"fill: #ffffff\"/>\n   </g>\n   <g id=\"matplotlib.axis_1\">\n    <g id=\"xtick_1\">\n     <g id=\"line2d_1\">\n      <path d=\"M 49.578653 239.758125 \nL 49.578653 22.318125 \n\" clip-path=\"url(#p1faec92371)\" style=\"fill: none; stroke: #b0b0b0; stroke-width: 0.8; stroke-linecap: square\"/>\n     </g>\n     <g id=\"line2d_2\">\n      <defs>\n       <path id=\"m53cd24fc2f\" d=\"M 0 0 \nL 0 3.5 \n\" style=\"stroke: #000000; stroke-width: 0.8\"/>\n      </defs>\n      <g>\n       <use xlink:href=\"#m53cd24fc2f\" x=\"49.578653\" y=\"239.758125\" style=\"stroke: #000000; stroke-width: 0.8\"/>\n      </g>\n     </g>\n     <g id=\"text_1\">\n      <!-- 0 -->\n      <g transform=\"translate(46.397403 254.356562)scale(0.1 -0.1)\">\n       <defs>\n        <path id=\"DejaVuSans-30\" d=\"M 2034 4250 \nQ 1547 4250 1301 3770 \nQ 1056 3291 1056 2328 \nQ 1056 1369 1301 889 \nQ 1547 409 2034 409 \nQ 2525 409 2770 889 \nQ 3016 1369 3016 2328 \nQ 3016 3291 2770 3770 \nQ 2525 4250 2034 4250 \nz\nM 2034 4750 \nQ 2819 4750 3233 4129 \nQ 3647 3509 3647 2328 \nQ 3647 1150 3233 529 \nQ 2819 -91 2034 -91 \nQ 1250 -91 836 529 \nQ 422 1150 422 2328 \nQ 422 3509 836 4129 \nQ 1250 4750 2034 4750 \nz\n\" transform=\"scale(0.015625)\"/>\n       </defs>\n       <use xlink:href=\"#DejaVuSans-30\"/>\n      </g>\n     </g>\n    </g>\n    <g id=\"xtick_2\">\n     <g id=\"line2d_3\">\n      <path d=\"M 122.046185 239.758125 \nL 122.046185 22.318125 \n\" clip-path=\"url(#p1faec92371)\" style=\"fill: none; stroke: #b0b0b0; stroke-width: 0.8; stroke-linecap: square\"/>\n     </g>\n     <g id=\"line2d_4\">\n      <g>\n       <use xlink:href=\"#m53cd24fc2f\" x=\"122.046185\" y=\"239.758125\" style=\"stroke: #000000; stroke-width: 0.8\"/>\n      </g>\n     </g>\n     <g id=\"text_2\">\n      <!-- 50 -->\n      <g transform=\"translate(115.683685 254.356562)scale(0.1 -0.1)\">\n       <defs>\n        <path id=\"DejaVuSans-35\" d=\"M 691 4666 \nL 3169 4666 \nL 3169 4134 \nL 1269 4134 \nL 1269 2991 \nQ 1406 3038 1543 3061 \nQ 1681 3084 1819 3084 \nQ 2600 3084 3056 2656 \nQ 3513 2228 3513 1497 \nQ 3513 744 3044 326 \nQ 2575 -91 1722 -91 \nQ 1428 -91 1123 -41 \nQ 819 9 494 109 \nL 494 744 \nQ 775 591 1075 516 \nQ 1375 441 1709 441 \nQ 2250 441 2565 725 \nQ 2881 1009 2881 1497 \nQ 2881 1984 2565 2268 \nQ 2250 2553 1709 2553 \nQ 1456 2553 1204 2497 \nQ 953 2441 691 2322 \nL 691 4666 \nz\n\" transform=\"scale(0.015625)\"/>\n       </defs>\n       <use xlink:href=\"#DejaVuSans-35\"/>\n       <use xlink:href=\"#DejaVuSans-30\" x=\"63.623047\"/>\n      </g>\n     </g>\n    </g>\n    <g id=\"xtick_3\">\n     <g id=\"line2d_5\">\n      <path d=\"M 194.513718 239.758125 \nL 194.513718 22.318125 \n\" clip-path=\"url(#p1faec92371)\" style=\"fill: none; stroke: #b0b0b0; stroke-width: 0.8; stroke-linecap: square\"/>\n     </g>\n     <g id=\"line2d_6\">\n      <g>\n       <use xlink:href=\"#m53cd24fc2f\" x=\"194.513718\" y=\"239.758125\" style=\"stroke: #000000; stroke-width: 0.8\"/>\n      </g>\n     </g>\n     <g id=\"text_3\">\n      <!-- 100 -->\n      <g transform=\"translate(184.969968 254.356562)scale(0.1 -0.1)\">\n       <defs>\n        <path id=\"DejaVuSans-31\" d=\"M 794 531 \nL 1825 531 \nL 1825 4091 \nL 703 3866 \nL 703 4441 \nL 1819 4666 \nL 2450 4666 \nL 2450 531 \nL 3481 531 \nL 3481 0 \nL 794 0 \nL 794 531 \nz\n\" transform=\"scale(0.015625)\"/>\n       </defs>\n       <use xlink:href=\"#DejaVuSans-31\"/>\n       <use xlink:href=\"#DejaVuSans-30\" x=\"63.623047\"/>\n       <use xlink:href=\"#DejaVuSans-30\" x=\"127.246094\"/>\n      </g>\n     </g>\n    </g>\n    <g id=\"xtick_4\">\n     <g id=\"line2d_7\">\n      <path d=\"M 266.98125 239.758125 \nL 266.98125 22.318125 \n\" clip-path=\"url(#p1faec92371)\" style=\"fill: none; stroke: #b0b0b0; stroke-width: 0.8; stroke-linecap: square\"/>\n     </g>\n     <g id=\"line2d_8\">\n      <g>\n       <use xlink:href=\"#m53cd24fc2f\" x=\"266.98125\" y=\"239.758125\" style=\"stroke: #000000; stroke-width: 0.8\"/>\n      </g>\n     </g>\n     <g id=\"text_4\">\n      <!-- 150 -->\n      <g transform=\"translate(257.4375 254.356562)scale(0.1 -0.1)\">\n       <use xlink:href=\"#DejaVuSans-31\"/>\n       <use xlink:href=\"#DejaVuSans-35\" x=\"63.623047\"/>\n       <use xlink:href=\"#DejaVuSans-30\" x=\"127.246094\"/>\n      </g>\n     </g>\n    </g>\n    <g id=\"xtick_5\">\n     <g id=\"line2d_9\">\n      <path d=\"M 339.448782 239.758125 \nL 339.448782 22.318125 \n\" clip-path=\"url(#p1faec92371)\" style=\"fill: none; stroke: #b0b0b0; stroke-width: 0.8; stroke-linecap: square\"/>\n     </g>\n     <g id=\"line2d_10\">\n      <g>\n       <use xlink:href=\"#m53cd24fc2f\" x=\"339.448782\" y=\"239.758125\" style=\"stroke: #000000; stroke-width: 0.8\"/>\n      </g>\n     </g>\n     <g id=\"text_5\">\n      <!-- 200 -->\n      <g transform=\"translate(329.905032 254.356562)scale(0.1 -0.1)\">\n       <defs>\n        <path id=\"DejaVuSans-32\" d=\"M 1228 531 \nL 3431 531 \nL 3431 0 \nL 469 0 \nL 469 531 \nQ 828 903 1448 1529 \nQ 2069 2156 2228 2338 \nQ 2531 2678 2651 2914 \nQ 2772 3150 2772 3378 \nQ 2772 3750 2511 3984 \nQ 2250 4219 1831 4219 \nQ 1534 4219 1204 4116 \nQ 875 4013 500 3803 \nL 500 4441 \nQ 881 4594 1212 4672 \nQ 1544 4750 1819 4750 \nQ 2544 4750 2975 4387 \nQ 3406 4025 3406 3419 \nQ 3406 3131 3298 2873 \nQ 3191 2616 2906 2266 \nQ 2828 2175 2409 1742 \nQ 1991 1309 1228 531 \nz\n\" transform=\"scale(0.015625)\"/>\n       </defs>\n       <use xlink:href=\"#DejaVuSans-32\"/>\n       <use xlink:href=\"#DejaVuSans-30\" x=\"63.623047\"/>\n       <use xlink:href=\"#DejaVuSans-30\" x=\"127.246094\"/>\n      </g>\n     </g>\n    </g>\n    <g id=\"xtick_6\">\n     <g id=\"line2d_11\">\n      <path d=\"M 411.916315 239.758125 \nL 411.916315 22.318125 \n\" clip-path=\"url(#p1faec92371)\" style=\"fill: none; stroke: #b0b0b0; stroke-width: 0.8; stroke-linecap: square\"/>\n     </g>\n     <g id=\"line2d_12\">\n      <g>\n       <use xlink:href=\"#m53cd24fc2f\" x=\"411.916315\" y=\"239.758125\" style=\"stroke: #000000; stroke-width: 0.8\"/>\n      </g>\n     </g>\n     <g id=\"text_6\">\n      <!-- 250 -->\n      <g transform=\"translate(402.372565 254.356562)scale(0.1 -0.1)\">\n       <use xlink:href=\"#DejaVuSans-32\"/>\n       <use xlink:href=\"#DejaVuSans-35\" x=\"63.623047\"/>\n       <use xlink:href=\"#DejaVuSans-30\" x=\"127.246094\"/>\n      </g>\n     </g>\n    </g>\n    <g id=\"xtick_7\">\n     <g id=\"line2d_13\">\n      <path d=\"M 484.383847 239.758125 \nL 484.383847 22.318125 \n\" clip-path=\"url(#p1faec92371)\" style=\"fill: none; stroke: #b0b0b0; stroke-width: 0.8; stroke-linecap: square\"/>\n     </g>\n     <g id=\"line2d_14\">\n      <g>\n       <use xlink:href=\"#m53cd24fc2f\" x=\"484.383847\" y=\"239.758125\" style=\"stroke: #000000; stroke-width: 0.8\"/>\n      </g>\n     </g>\n     <g id=\"text_7\">\n      <!-- 300 -->\n      <g transform=\"translate(474.840097 254.356562)scale(0.1 -0.1)\">\n       <defs>\n        <path id=\"DejaVuSans-33\" d=\"M 2597 2516 \nQ 3050 2419 3304 2112 \nQ 3559 1806 3559 1356 \nQ 3559 666 3084 287 \nQ 2609 -91 1734 -91 \nQ 1441 -91 1130 -33 \nQ 819 25 488 141 \nL 488 750 \nQ 750 597 1062 519 \nQ 1375 441 1716 441 \nQ 2309 441 2620 675 \nQ 2931 909 2931 1356 \nQ 2931 1769 2642 2001 \nQ 2353 2234 1838 2234 \nL 1294 2234 \nL 1294 2753 \nL 1863 2753 \nQ 2328 2753 2575 2939 \nQ 2822 3125 2822 3475 \nQ 2822 3834 2567 4026 \nQ 2313 4219 1838 4219 \nQ 1578 4219 1281 4162 \nQ 984 4106 628 3988 \nL 628 4550 \nQ 988 4650 1302 4700 \nQ 1616 4750 1894 4750 \nQ 2613 4750 3031 4423 \nQ 3450 4097 3450 3541 \nQ 3450 3153 3228 2886 \nQ 3006 2619 2597 2516 \nz\n\" transform=\"scale(0.015625)\"/>\n       </defs>\n       <use xlink:href=\"#DejaVuSans-33\"/>\n       <use xlink:href=\"#DejaVuSans-30\" x=\"63.623047\"/>\n       <use xlink:href=\"#DejaVuSans-30\" x=\"127.246094\"/>\n      </g>\n     </g>\n    </g>\n    <g id=\"text_8\">\n     <!-- n_components -->\n     <g transform=\"translate(230.421094 267.756562)scale(0.1 -0.1)\">\n      <defs>\n       <path id=\"DejaVuSans-6e\" d=\"M 3513 2113 \nL 3513 0 \nL 2938 0 \nL 2938 2094 \nQ 2938 2591 2744 2837 \nQ 2550 3084 2163 3084 \nQ 1697 3084 1428 2787 \nQ 1159 2491 1159 1978 \nL 1159 0 \nL 581 0 \nL 581 3500 \nL 1159 3500 \nL 1159 2956 \nQ 1366 3272 1645 3428 \nQ 1925 3584 2291 3584 \nQ 2894 3584 3203 3211 \nQ 3513 2838 3513 2113 \nz\n\" transform=\"scale(0.015625)\"/>\n       <path id=\"DejaVuSans-5f\" d=\"M 3263 -1063 \nL 3263 -1509 \nL -63 -1509 \nL -63 -1063 \nL 3263 -1063 \nz\n\" transform=\"scale(0.015625)\"/>\n       <path id=\"DejaVuSans-63\" d=\"M 3122 3366 \nL 3122 2828 \nQ 2878 2963 2633 3030 \nQ 2388 3097 2138 3097 \nQ 1578 3097 1268 2742 \nQ 959 2388 959 1747 \nQ 959 1106 1268 751 \nQ 1578 397 2138 397 \nQ 2388 397 2633 464 \nQ 2878 531 3122 666 \nL 3122 134 \nQ 2881 22 2623 -34 \nQ 2366 -91 2075 -91 \nQ 1284 -91 818 406 \nQ 353 903 353 1747 \nQ 353 2603 823 3093 \nQ 1294 3584 2113 3584 \nQ 2378 3584 2631 3529 \nQ 2884 3475 3122 3366 \nz\n\" transform=\"scale(0.015625)\"/>\n       <path id=\"DejaVuSans-6f\" d=\"M 1959 3097 \nQ 1497 3097 1228 2736 \nQ 959 2375 959 1747 \nQ 959 1119 1226 758 \nQ 1494 397 1959 397 \nQ 2419 397 2687 759 \nQ 2956 1122 2956 1747 \nQ 2956 2369 2687 2733 \nQ 2419 3097 1959 3097 \nz\nM 1959 3584 \nQ 2709 3584 3137 3096 \nQ 3566 2609 3566 1747 \nQ 3566 888 3137 398 \nQ 2709 -91 1959 -91 \nQ 1206 -91 779 398 \nQ 353 888 353 1747 \nQ 353 2609 779 3096 \nQ 1206 3584 1959 3584 \nz\n\" transform=\"scale(0.015625)\"/>\n       <path id=\"DejaVuSans-6d\" d=\"M 3328 2828 \nQ 3544 3216 3844 3400 \nQ 4144 3584 4550 3584 \nQ 5097 3584 5394 3201 \nQ 5691 2819 5691 2113 \nL 5691 0 \nL 5113 0 \nL 5113 2094 \nQ 5113 2597 4934 2840 \nQ 4756 3084 4391 3084 \nQ 3944 3084 3684 2787 \nQ 3425 2491 3425 1978 \nL 3425 0 \nL 2847 0 \nL 2847 2094 \nQ 2847 2600 2669 2842 \nQ 2491 3084 2119 3084 \nQ 1678 3084 1418 2786 \nQ 1159 2488 1159 1978 \nL 1159 0 \nL 581 0 \nL 581 3500 \nL 1159 3500 \nL 1159 2956 \nQ 1356 3278 1631 3431 \nQ 1906 3584 2284 3584 \nQ 2666 3584 2933 3390 \nQ 3200 3197 3328 2828 \nz\n\" transform=\"scale(0.015625)\"/>\n       <path id=\"DejaVuSans-70\" d=\"M 1159 525 \nL 1159 -1331 \nL 581 -1331 \nL 581 3500 \nL 1159 3500 \nL 1159 2969 \nQ 1341 3281 1617 3432 \nQ 1894 3584 2278 3584 \nQ 2916 3584 3314 3078 \nQ 3713 2572 3713 1747 \nQ 3713 922 3314 415 \nQ 2916 -91 2278 -91 \nQ 1894 -91 1617 61 \nQ 1341 213 1159 525 \nz\nM 3116 1747 \nQ 3116 2381 2855 2742 \nQ 2594 3103 2138 3103 \nQ 1681 3103 1420 2742 \nQ 1159 2381 1159 1747 \nQ 1159 1113 1420 752 \nQ 1681 391 2138 391 \nQ 2594 391 2855 752 \nQ 3116 1113 3116 1747 \nz\n\" transform=\"scale(0.015625)\"/>\n       <path id=\"DejaVuSans-65\" d=\"M 3597 1894 \nL 3597 1613 \nL 953 1613 \nQ 991 1019 1311 708 \nQ 1631 397 2203 397 \nQ 2534 397 2845 478 \nQ 3156 559 3463 722 \nL 3463 178 \nQ 3153 47 2828 -22 \nQ 2503 -91 2169 -91 \nQ 1331 -91 842 396 \nQ 353 884 353 1716 \nQ 353 2575 817 3079 \nQ 1281 3584 2069 3584 \nQ 2775 3584 3186 3129 \nQ 3597 2675 3597 1894 \nz\nM 3022 2063 \nQ 3016 2534 2758 2815 \nQ 2500 3097 2075 3097 \nQ 1594 3097 1305 2825 \nQ 1016 2553 972 2059 \nL 3022 2063 \nz\n\" transform=\"scale(0.015625)\"/>\n       <path id=\"DejaVuSans-74\" d=\"M 1172 4494 \nL 1172 3500 \nL 2356 3500 \nL 2356 3053 \nL 1172 3053 \nL 1172 1153 \nQ 1172 725 1289 603 \nQ 1406 481 1766 481 \nL 2356 481 \nL 2356 0 \nL 1766 0 \nQ 1100 0 847 248 \nQ 594 497 594 1153 \nL 594 3053 \nL 172 3053 \nL 172 3500 \nL 594 3500 \nL 594 4494 \nL 1172 4494 \nz\n\" transform=\"scale(0.015625)\"/>\n       <path id=\"DejaVuSans-73\" d=\"M 2834 3397 \nL 2834 2853 \nQ 2591 2978 2328 3040 \nQ 2066 3103 1784 3103 \nQ 1356 3103 1142 2972 \nQ 928 2841 928 2578 \nQ 928 2378 1081 2264 \nQ 1234 2150 1697 2047 \nL 1894 2003 \nQ 2506 1872 2764 1633 \nQ 3022 1394 3022 966 \nQ 3022 478 2636 193 \nQ 2250 -91 1575 -91 \nQ 1294 -91 989 -36 \nQ 684 19 347 128 \nL 347 722 \nQ 666 556 975 473 \nQ 1284 391 1588 391 \nQ 1994 391 2212 530 \nQ 2431 669 2431 922 \nQ 2431 1156 2273 1281 \nQ 2116 1406 1581 1522 \nL 1381 1569 \nQ 847 1681 609 1914 \nQ 372 2147 372 2553 \nQ 372 3047 722 3315 \nQ 1072 3584 1716 3584 \nQ 2034 3584 2315 3537 \nQ 2597 3491 2834 3397 \nz\n\" transform=\"scale(0.015625)\"/>\n      </defs>\n      <use xlink:href=\"#DejaVuSans-6e\"/>\n      <use xlink:href=\"#DejaVuSans-5f\" x=\"63.378906\"/>\n      <use xlink:href=\"#DejaVuSans-63\" x=\"113.378906\"/>\n      <use xlink:href=\"#DejaVuSans-6f\" x=\"168.359375\"/>\n      <use xlink:href=\"#DejaVuSans-6d\" x=\"229.541016\"/>\n      <use xlink:href=\"#DejaVuSans-70\" x=\"326.953125\"/>\n      <use xlink:href=\"#DejaVuSans-6f\" x=\"390.429688\"/>\n      <use xlink:href=\"#DejaVuSans-6e\" x=\"451.611328\"/>\n      <use xlink:href=\"#DejaVuSans-65\" x=\"514.990234\"/>\n      <use xlink:href=\"#DejaVuSans-6e\" x=\"576.513672\"/>\n      <use xlink:href=\"#DejaVuSans-74\" x=\"639.892578\"/>\n      <use xlink:href=\"#DejaVuSans-73\" x=\"679.101562\"/>\n     </g>\n    </g>\n   </g>\n   <g id=\"matplotlib.axis_2\">\n    <g id=\"ytick_1\">\n     <g id=\"line2d_15\">\n      <path d=\"M 43.78125 213.013791 \nL 490.18125 213.013791 \n\" clip-path=\"url(#p1faec92371)\" style=\"fill: none; stroke: #b0b0b0; stroke-width: 0.8; stroke-linecap: square\"/>\n     </g>\n     <g id=\"line2d_16\">\n      <defs>\n       <path id=\"m5ab01a1062\" d=\"M 0 0 \nL -3.5 0 \n\" style=\"stroke: #000000; stroke-width: 0.8\"/>\n      </defs>\n      <g>\n       <use xlink:href=\"#m5ab01a1062\" x=\"43.78125\" y=\"213.013791\" style=\"stroke: #000000; stroke-width: 0.8\"/>\n      </g>\n     </g>\n     <g id=\"text_9\">\n      <!-- 0.5 -->\n      <g transform=\"translate(20.878125 216.813009)scale(0.1 -0.1)\">\n       <defs>\n        <path id=\"DejaVuSans-2e\" d=\"M 684 794 \nL 1344 794 \nL 1344 0 \nL 684 0 \nL 684 794 \nz\n\" transform=\"scale(0.015625)\"/>\n       </defs>\n       <use xlink:href=\"#DejaVuSans-30\"/>\n       <use xlink:href=\"#DejaVuSans-2e\" x=\"63.623047\"/>\n       <use xlink:href=\"#DejaVuSans-35\" x=\"95.410156\"/>\n      </g>\n     </g>\n    </g>\n    <g id=\"ytick_2\">\n     <g id=\"line2d_17\">\n      <path d=\"M 43.78125 176.851385 \nL 490.18125 176.851385 \n\" clip-path=\"url(#p1faec92371)\" style=\"fill: none; stroke: #b0b0b0; stroke-width: 0.8; stroke-linecap: square\"/>\n     </g>\n     <g id=\"line2d_18\">\n      <g>\n       <use xlink:href=\"#m5ab01a1062\" x=\"43.78125\" y=\"176.851385\" style=\"stroke: #000000; stroke-width: 0.8\"/>\n      </g>\n     </g>\n     <g id=\"text_10\">\n      <!-- 0.6 -->\n      <g transform=\"translate(20.878125 180.650604)scale(0.1 -0.1)\">\n       <defs>\n        <path id=\"DejaVuSans-36\" d=\"M 2113 2584 \nQ 1688 2584 1439 2293 \nQ 1191 2003 1191 1497 \nQ 1191 994 1439 701 \nQ 1688 409 2113 409 \nQ 2538 409 2786 701 \nQ 3034 994 3034 1497 \nQ 3034 2003 2786 2293 \nQ 2538 2584 2113 2584 \nz\nM 3366 4563 \nL 3366 3988 \nQ 3128 4100 2886 4159 \nQ 2644 4219 2406 4219 \nQ 1781 4219 1451 3797 \nQ 1122 3375 1075 2522 \nQ 1259 2794 1537 2939 \nQ 1816 3084 2150 3084 \nQ 2853 3084 3261 2657 \nQ 3669 2231 3669 1497 \nQ 3669 778 3244 343 \nQ 2819 -91 2113 -91 \nQ 1303 -91 875 529 \nQ 447 1150 447 2328 \nQ 447 3434 972 4092 \nQ 1497 4750 2381 4750 \nQ 2619 4750 2861 4703 \nQ 3103 4656 3366 4563 \nz\n\" transform=\"scale(0.015625)\"/>\n       </defs>\n       <use xlink:href=\"#DejaVuSans-30\"/>\n       <use xlink:href=\"#DejaVuSans-2e\" x=\"63.623047\"/>\n       <use xlink:href=\"#DejaVuSans-36\" x=\"95.410156\"/>\n      </g>\n     </g>\n    </g>\n    <g id=\"ytick_3\">\n     <g id=\"line2d_19\">\n      <path d=\"M 43.78125 140.688979 \nL 490.18125 140.688979 \n\" clip-path=\"url(#p1faec92371)\" style=\"fill: none; stroke: #b0b0b0; stroke-width: 0.8; stroke-linecap: square\"/>\n     </g>\n     <g id=\"line2d_20\">\n      <g>\n       <use xlink:href=\"#m5ab01a1062\" x=\"43.78125\" y=\"140.688979\" style=\"stroke: #000000; stroke-width: 0.8\"/>\n      </g>\n     </g>\n     <g id=\"text_11\">\n      <!-- 0.7 -->\n      <g transform=\"translate(20.878125 144.488198)scale(0.1 -0.1)\">\n       <defs>\n        <path id=\"DejaVuSans-37\" d=\"M 525 4666 \nL 3525 4666 \nL 3525 4397 \nL 1831 0 \nL 1172 0 \nL 2766 4134 \nL 525 4134 \nL 525 4666 \nz\n\" transform=\"scale(0.015625)\"/>\n       </defs>\n       <use xlink:href=\"#DejaVuSans-30\"/>\n       <use xlink:href=\"#DejaVuSans-2e\" x=\"63.623047\"/>\n       <use xlink:href=\"#DejaVuSans-37\" x=\"95.410156\"/>\n      </g>\n     </g>\n    </g>\n    <g id=\"ytick_4\">\n     <g id=\"line2d_21\">\n      <path d=\"M 43.78125 104.526573 \nL 490.18125 104.526573 \n\" clip-path=\"url(#p1faec92371)\" style=\"fill: none; stroke: #b0b0b0; stroke-width: 0.8; stroke-linecap: square\"/>\n     </g>\n     <g id=\"line2d_22\">\n      <g>\n       <use xlink:href=\"#m5ab01a1062\" x=\"43.78125\" y=\"104.526573\" style=\"stroke: #000000; stroke-width: 0.8\"/>\n      </g>\n     </g>\n     <g id=\"text_12\">\n      <!-- 0.8 -->\n      <g transform=\"translate(20.878125 108.325792)scale(0.1 -0.1)\">\n       <defs>\n        <path id=\"DejaVuSans-38\" d=\"M 2034 2216 \nQ 1584 2216 1326 1975 \nQ 1069 1734 1069 1313 \nQ 1069 891 1326 650 \nQ 1584 409 2034 409 \nQ 2484 409 2743 651 \nQ 3003 894 3003 1313 \nQ 3003 1734 2745 1975 \nQ 2488 2216 2034 2216 \nz\nM 1403 2484 \nQ 997 2584 770 2862 \nQ 544 3141 544 3541 \nQ 544 4100 942 4425 \nQ 1341 4750 2034 4750 \nQ 2731 4750 3128 4425 \nQ 3525 4100 3525 3541 \nQ 3525 3141 3298 2862 \nQ 3072 2584 2669 2484 \nQ 3125 2378 3379 2068 \nQ 3634 1759 3634 1313 \nQ 3634 634 3220 271 \nQ 2806 -91 2034 -91 \nQ 1263 -91 848 271 \nQ 434 634 434 1313 \nQ 434 1759 690 2068 \nQ 947 2378 1403 2484 \nz\nM 1172 3481 \nQ 1172 3119 1398 2916 \nQ 1625 2713 2034 2713 \nQ 2441 2713 2670 2916 \nQ 2900 3119 2900 3481 \nQ 2900 3844 2670 4047 \nQ 2441 4250 2034 4250 \nQ 1625 4250 1398 4047 \nQ 1172 3844 1172 3481 \nz\n\" transform=\"scale(0.015625)\"/>\n       </defs>\n       <use xlink:href=\"#DejaVuSans-30\"/>\n       <use xlink:href=\"#DejaVuSans-2e\" x=\"63.623047\"/>\n       <use xlink:href=\"#DejaVuSans-38\" x=\"95.410156\"/>\n      </g>\n     </g>\n    </g>\n    <g id=\"ytick_5\">\n     <g id=\"line2d_23\">\n      <path d=\"M 43.78125 68.364167 \nL 490.18125 68.364167 \n\" clip-path=\"url(#p1faec92371)\" style=\"fill: none; stroke: #b0b0b0; stroke-width: 0.8; stroke-linecap: square\"/>\n     </g>\n     <g id=\"line2d_24\">\n      <g>\n       <use xlink:href=\"#m5ab01a1062\" x=\"43.78125\" y=\"68.364167\" style=\"stroke: #000000; stroke-width: 0.8\"/>\n      </g>\n     </g>\n     <g id=\"text_13\">\n      <!-- 0.9 -->\n      <g transform=\"translate(20.878125 72.163386)scale(0.1 -0.1)\">\n       <defs>\n        <path id=\"DejaVuSans-39\" d=\"M 703 97 \nL 703 672 \nQ 941 559 1184 500 \nQ 1428 441 1663 441 \nQ 2288 441 2617 861 \nQ 2947 1281 2994 2138 \nQ 2813 1869 2534 1725 \nQ 2256 1581 1919 1581 \nQ 1219 1581 811 2004 \nQ 403 2428 403 3163 \nQ 403 3881 828 4315 \nQ 1253 4750 1959 4750 \nQ 2769 4750 3195 4129 \nQ 3622 3509 3622 2328 \nQ 3622 1225 3098 567 \nQ 2575 -91 1691 -91 \nQ 1453 -91 1209 -44 \nQ 966 3 703 97 \nz\nM 1959 2075 \nQ 2384 2075 2632 2365 \nQ 2881 2656 2881 3163 \nQ 2881 3666 2632 3958 \nQ 2384 4250 1959 4250 \nQ 1534 4250 1286 3958 \nQ 1038 3666 1038 3163 \nQ 1038 2656 1286 2365 \nQ 1534 2075 1959 2075 \nz\n\" transform=\"scale(0.015625)\"/>\n       </defs>\n       <use xlink:href=\"#DejaVuSans-30\"/>\n       <use xlink:href=\"#DejaVuSans-2e\" x=\"63.623047\"/>\n       <use xlink:href=\"#DejaVuSans-39\" x=\"95.410156\"/>\n      </g>\n     </g>\n    </g>\n    <g id=\"ytick_6\">\n     <g id=\"line2d_25\">\n      <path d=\"M 43.78125 32.201761 \nL 490.18125 32.201761 \n\" clip-path=\"url(#p1faec92371)\" style=\"fill: none; stroke: #b0b0b0; stroke-width: 0.8; stroke-linecap: square\"/>\n     </g>\n     <g id=\"line2d_26\">\n      <g>\n       <use xlink:href=\"#m5ab01a1062\" x=\"43.78125\" y=\"32.201761\" style=\"stroke: #000000; stroke-width: 0.8\"/>\n      </g>\n     </g>\n     <g id=\"text_14\">\n      <!-- 1.0 -->\n      <g transform=\"translate(20.878125 36.00098)scale(0.1 -0.1)\">\n       <use xlink:href=\"#DejaVuSans-31\"/>\n       <use xlink:href=\"#DejaVuSans-2e\" x=\"63.623047\"/>\n       <use xlink:href=\"#DejaVuSans-30\" x=\"95.410156\"/>\n      </g>\n     </g>\n    </g>\n    <g id=\"text_15\">\n     <!-- Explained variance ratio -->\n     <g transform=\"translate(14.798438 191.825625)rotate(-90)scale(0.1 -0.1)\">\n      <defs>\n       <path id=\"DejaVuSans-45\" d=\"M 628 4666 \nL 3578 4666 \nL 3578 4134 \nL 1259 4134 \nL 1259 2753 \nL 3481 2753 \nL 3481 2222 \nL 1259 2222 \nL 1259 531 \nL 3634 531 \nL 3634 0 \nL 628 0 \nL 628 4666 \nz\n\" transform=\"scale(0.015625)\"/>\n       <path id=\"DejaVuSans-78\" d=\"M 3513 3500 \nL 2247 1797 \nL 3578 0 \nL 2900 0 \nL 1881 1375 \nL 863 0 \nL 184 0 \nL 1544 1831 \nL 300 3500 \nL 978 3500 \nL 1906 2253 \nL 2834 3500 \nL 3513 3500 \nz\n\" transform=\"scale(0.015625)\"/>\n       <path id=\"DejaVuSans-6c\" d=\"M 603 4863 \nL 1178 4863 \nL 1178 0 \nL 603 0 \nL 603 4863 \nz\n\" transform=\"scale(0.015625)\"/>\n       <path id=\"DejaVuSans-61\" d=\"M 2194 1759 \nQ 1497 1759 1228 1600 \nQ 959 1441 959 1056 \nQ 959 750 1161 570 \nQ 1363 391 1709 391 \nQ 2188 391 2477 730 \nQ 2766 1069 2766 1631 \nL 2766 1759 \nL 2194 1759 \nz\nM 3341 1997 \nL 3341 0 \nL 2766 0 \nL 2766 531 \nQ 2569 213 2275 61 \nQ 1981 -91 1556 -91 \nQ 1019 -91 701 211 \nQ 384 513 384 1019 \nQ 384 1609 779 1909 \nQ 1175 2209 1959 2209 \nL 2766 2209 \nL 2766 2266 \nQ 2766 2663 2505 2880 \nQ 2244 3097 1772 3097 \nQ 1472 3097 1187 3025 \nQ 903 2953 641 2809 \nL 641 3341 \nQ 956 3463 1253 3523 \nQ 1550 3584 1831 3584 \nQ 2591 3584 2966 3190 \nQ 3341 2797 3341 1997 \nz\n\" transform=\"scale(0.015625)\"/>\n       <path id=\"DejaVuSans-69\" d=\"M 603 3500 \nL 1178 3500 \nL 1178 0 \nL 603 0 \nL 603 3500 \nz\nM 603 4863 \nL 1178 4863 \nL 1178 4134 \nL 603 4134 \nL 603 4863 \nz\n\" transform=\"scale(0.015625)\"/>\n       <path id=\"DejaVuSans-64\" d=\"M 2906 2969 \nL 2906 4863 \nL 3481 4863 \nL 3481 0 \nL 2906 0 \nL 2906 525 \nQ 2725 213 2448 61 \nQ 2172 -91 1784 -91 \nQ 1150 -91 751 415 \nQ 353 922 353 1747 \nQ 353 2572 751 3078 \nQ 1150 3584 1784 3584 \nQ 2172 3584 2448 3432 \nQ 2725 3281 2906 2969 \nz\nM 947 1747 \nQ 947 1113 1208 752 \nQ 1469 391 1925 391 \nQ 2381 391 2643 752 \nQ 2906 1113 2906 1747 \nQ 2906 2381 2643 2742 \nQ 2381 3103 1925 3103 \nQ 1469 3103 1208 2742 \nQ 947 2381 947 1747 \nz\n\" transform=\"scale(0.015625)\"/>\n       <path id=\"DejaVuSans-20\" transform=\"scale(0.015625)\"/>\n       <path id=\"DejaVuSans-76\" d=\"M 191 3500 \nL 800 3500 \nL 1894 563 \nL 2988 3500 \nL 3597 3500 \nL 2284 0 \nL 1503 0 \nL 191 3500 \nz\n\" transform=\"scale(0.015625)\"/>\n       <path id=\"DejaVuSans-72\" d=\"M 2631 2963 \nQ 2534 3019 2420 3045 \nQ 2306 3072 2169 3072 \nQ 1681 3072 1420 2755 \nQ 1159 2438 1159 1844 \nL 1159 0 \nL 581 0 \nL 581 3500 \nL 1159 3500 \nL 1159 2956 \nQ 1341 3275 1631 3429 \nQ 1922 3584 2338 3584 \nQ 2397 3584 2469 3576 \nQ 2541 3569 2628 3553 \nL 2631 2963 \nz\n\" transform=\"scale(0.015625)\"/>\n      </defs>\n      <use xlink:href=\"#DejaVuSans-45\"/>\n      <use xlink:href=\"#DejaVuSans-78\" x=\"63.183594\"/>\n      <use xlink:href=\"#DejaVuSans-70\" x=\"122.363281\"/>\n      <use xlink:href=\"#DejaVuSans-6c\" x=\"185.839844\"/>\n      <use xlink:href=\"#DejaVuSans-61\" x=\"213.623047\"/>\n      <use xlink:href=\"#DejaVuSans-69\" x=\"274.902344\"/>\n      <use xlink:href=\"#DejaVuSans-6e\" x=\"302.685547\"/>\n      <use xlink:href=\"#DejaVuSans-65\" x=\"366.064453\"/>\n      <use xlink:href=\"#DejaVuSans-64\" x=\"427.587891\"/>\n      <use xlink:href=\"#DejaVuSans-20\" x=\"491.064453\"/>\n      <use xlink:href=\"#DejaVuSans-76\" x=\"522.851562\"/>\n      <use xlink:href=\"#DejaVuSans-61\" x=\"582.03125\"/>\n      <use xlink:href=\"#DejaVuSans-72\" x=\"643.310547\"/>\n      <use xlink:href=\"#DejaVuSans-69\" x=\"684.423828\"/>\n      <use xlink:href=\"#DejaVuSans-61\" x=\"712.207031\"/>\n      <use xlink:href=\"#DejaVuSans-6e\" x=\"773.486328\"/>\n      <use xlink:href=\"#DejaVuSans-63\" x=\"836.865234\"/>\n      <use xlink:href=\"#DejaVuSans-65\" x=\"891.845703\"/>\n      <use xlink:href=\"#DejaVuSans-20\" x=\"953.369141\"/>\n      <use xlink:href=\"#DejaVuSans-72\" x=\"985.15625\"/>\n      <use xlink:href=\"#DejaVuSans-61\" x=\"1026.269531\"/>\n      <use xlink:href=\"#DejaVuSans-74\" x=\"1087.548828\"/>\n      <use xlink:href=\"#DejaVuSans-69\" x=\"1126.757812\"/>\n      <use xlink:href=\"#DejaVuSans-6f\" x=\"1154.541016\"/>\n     </g>\n    </g>\n   </g>\n   <g id=\"line2d_27\">\n    <path d=\"M 64.072159 229.874489 \nL 78.565666 175.678135 \nL 93.059172 140.480816 \nL 122.046185 95.092201 \nL 194.513718 43.093851 \nL 266.98125 33.052003 \nL 339.448782 32.202093 \nL 411.916315 32.201761 \nL 448.150081 32.201761 \nL 469.890341 32.201761 \n\" clip-path=\"url(#p1faec92371)\" style=\"fill: none; stroke: #1f77b4; stroke-width: 1.5; stroke-linecap: square\"/>\n    <defs>\n     <path id=\"me980f60f8e\" d=\"M 0 3 \nC 0.795609 3 1.55874 2.683901 2.12132 2.12132 \nC 2.683901 1.55874 3 0.795609 3 0 \nC 3 -0.795609 2.683901 -1.55874 2.12132 -2.12132 \nC 1.55874 -2.683901 0.795609 -3 0 -3 \nC -0.795609 -3 -1.55874 -2.683901 -2.12132 -2.12132 \nC -2.683901 -1.55874 -3 -0.795609 -3 0 \nC -3 0.795609 -2.683901 1.55874 -2.12132 2.12132 \nC -1.55874 2.683901 -0.795609 3 0 3 \nz\n\" style=\"stroke: #1f77b4\"/>\n    </defs>\n    <g clip-path=\"url(#p1faec92371)\">\n     <use xlink:href=\"#me980f60f8e\" x=\"64.072159\" y=\"229.874489\" style=\"fill: #1f77b4; stroke: #1f77b4\"/>\n     <use xlink:href=\"#me980f60f8e\" x=\"78.565666\" y=\"175.678135\" style=\"fill: #1f77b4; stroke: #1f77b4\"/>\n     <use xlink:href=\"#me980f60f8e\" x=\"93.059172\" y=\"140.480816\" style=\"fill: #1f77b4; stroke: #1f77b4\"/>\n     <use xlink:href=\"#me980f60f8e\" x=\"122.046185\" y=\"95.092201\" style=\"fill: #1f77b4; stroke: #1f77b4\"/>\n     <use xlink:href=\"#me980f60f8e\" x=\"194.513718\" y=\"43.093851\" style=\"fill: #1f77b4; stroke: #1f77b4\"/>\n     <use xlink:href=\"#me980f60f8e\" x=\"266.98125\" y=\"33.052003\" style=\"fill: #1f77b4; stroke: #1f77b4\"/>\n     <use xlink:href=\"#me980f60f8e\" x=\"339.448782\" y=\"32.202093\" style=\"fill: #1f77b4; stroke: #1f77b4\"/>\n     <use xlink:href=\"#me980f60f8e\" x=\"411.916315\" y=\"32.201761\" style=\"fill: #1f77b4; stroke: #1f77b4\"/>\n     <use xlink:href=\"#me980f60f8e\" x=\"448.150081\" y=\"32.201761\" style=\"fill: #1f77b4; stroke: #1f77b4\"/>\n     <use xlink:href=\"#me980f60f8e\" x=\"469.890341\" y=\"32.201761\" style=\"fill: #1f77b4; stroke: #1f77b4\"/>\n    </g>\n   </g>\n   <g id=\"patch_3\">\n    <path d=\"M 43.78125 239.758125 \nL 43.78125 22.318125 \n\" style=\"fill: none; stroke: #000000; stroke-width: 0.8; stroke-linejoin: miter; stroke-linecap: square\"/>\n   </g>\n   <g id=\"patch_4\">\n    <path d=\"M 490.18125 239.758125 \nL 490.18125 22.318125 \n\" style=\"fill: none; stroke: #000000; stroke-width: 0.8; stroke-linejoin: miter; stroke-linecap: square\"/>\n   </g>\n   <g id=\"patch_5\">\n    <path d=\"M 43.78125 239.758125 \nL 490.18125 239.758125 \n\" style=\"fill: none; stroke: #000000; stroke-width: 0.8; stroke-linejoin: miter; stroke-linecap: square\"/>\n   </g>\n   <g id=\"patch_6\">\n    <path d=\"M 43.78125 22.318125 \nL 490.18125 22.318125 \n\" style=\"fill: none; stroke: #000000; stroke-width: 0.8; stroke-linejoin: miter; stroke-linecap: square\"/>\n   </g>\n   <g id=\"text_16\">\n    <!-- n_components vs. Explained Variance Ratio -->\n    <g transform=\"translate(136.110938 16.318125)scale(0.12 -0.12)\">\n     <defs>\n      <path id=\"DejaVuSans-56\" d=\"M 1831 0 \nL 50 4666 \nL 709 4666 \nL 2188 738 \nL 3669 4666 \nL 4325 4666 \nL 2547 0 \nL 1831 0 \nz\n\" transform=\"scale(0.015625)\"/>\n      <path id=\"DejaVuSans-52\" d=\"M 2841 2188 \nQ 3044 2119 3236 1894 \nQ 3428 1669 3622 1275 \nL 4263 0 \nL 3584 0 \nL 2988 1197 \nQ 2756 1666 2539 1819 \nQ 2322 1972 1947 1972 \nL 1259 1972 \nL 1259 0 \nL 628 0 \nL 628 4666 \nL 2053 4666 \nQ 2853 4666 3247 4331 \nQ 3641 3997 3641 3322 \nQ 3641 2881 3436 2590 \nQ 3231 2300 2841 2188 \nz\nM 1259 4147 \nL 1259 2491 \nL 2053 2491 \nQ 2509 2491 2742 2702 \nQ 2975 2913 2975 3322 \nQ 2975 3731 2742 3939 \nQ 2509 4147 2053 4147 \nL 1259 4147 \nz\n\" transform=\"scale(0.015625)\"/>\n     </defs>\n     <use xlink:href=\"#DejaVuSans-6e\"/>\n     <use xlink:href=\"#DejaVuSans-5f\" x=\"63.378906\"/>\n     <use xlink:href=\"#DejaVuSans-63\" x=\"113.378906\"/>\n     <use xlink:href=\"#DejaVuSans-6f\" x=\"168.359375\"/>\n     <use xlink:href=\"#DejaVuSans-6d\" x=\"229.541016\"/>\n     <use xlink:href=\"#DejaVuSans-70\" x=\"326.953125\"/>\n     <use xlink:href=\"#DejaVuSans-6f\" x=\"390.429688\"/>\n     <use xlink:href=\"#DejaVuSans-6e\" x=\"451.611328\"/>\n     <use xlink:href=\"#DejaVuSans-65\" x=\"514.990234\"/>\n     <use xlink:href=\"#DejaVuSans-6e\" x=\"576.513672\"/>\n     <use xlink:href=\"#DejaVuSans-74\" x=\"639.892578\"/>\n     <use xlink:href=\"#DejaVuSans-73\" x=\"679.101562\"/>\n     <use xlink:href=\"#DejaVuSans-20\" x=\"731.201172\"/>\n     <use xlink:href=\"#DejaVuSans-76\" x=\"762.988281\"/>\n     <use xlink:href=\"#DejaVuSans-73\" x=\"822.167969\"/>\n     <use xlink:href=\"#DejaVuSans-2e\" x=\"874.267578\"/>\n     <use xlink:href=\"#DejaVuSans-20\" x=\"906.054688\"/>\n     <use xlink:href=\"#DejaVuSans-45\" x=\"937.841797\"/>\n     <use xlink:href=\"#DejaVuSans-78\" x=\"1001.025391\"/>\n     <use xlink:href=\"#DejaVuSans-70\" x=\"1060.205078\"/>\n     <use xlink:href=\"#DejaVuSans-6c\" x=\"1123.681641\"/>\n     <use xlink:href=\"#DejaVuSans-61\" x=\"1151.464844\"/>\n     <use xlink:href=\"#DejaVuSans-69\" x=\"1212.744141\"/>\n     <use xlink:href=\"#DejaVuSans-6e\" x=\"1240.527344\"/>\n     <use xlink:href=\"#DejaVuSans-65\" x=\"1303.90625\"/>\n     <use xlink:href=\"#DejaVuSans-64\" x=\"1365.429688\"/>\n     <use xlink:href=\"#DejaVuSans-20\" x=\"1428.90625\"/>\n     <use xlink:href=\"#DejaVuSans-56\" x=\"1460.693359\"/>\n     <use xlink:href=\"#DejaVuSans-61\" x=\"1521.351562\"/>\n     <use xlink:href=\"#DejaVuSans-72\" x=\"1582.630859\"/>\n     <use xlink:href=\"#DejaVuSans-69\" x=\"1623.744141\"/>\n     <use xlink:href=\"#DejaVuSans-61\" x=\"1651.527344\"/>\n     <use xlink:href=\"#DejaVuSans-6e\" x=\"1712.806641\"/>\n     <use xlink:href=\"#DejaVuSans-63\" x=\"1776.185547\"/>\n     <use xlink:href=\"#DejaVuSans-65\" x=\"1831.166016\"/>\n     <use xlink:href=\"#DejaVuSans-20\" x=\"1892.689453\"/>\n     <use xlink:href=\"#DejaVuSans-52\" x=\"1924.476562\"/>\n     <use xlink:href=\"#DejaVuSans-61\" x=\"1991.708984\"/>\n     <use xlink:href=\"#DejaVuSans-74\" x=\"2052.988281\"/>\n     <use xlink:href=\"#DejaVuSans-69\" x=\"2092.197266\"/>\n     <use xlink:href=\"#DejaVuSans-6f\" x=\"2119.980469\"/>\n    </g>\n   </g>\n  </g>\n </g>\n <defs>\n  <clipPath id=\"p1faec92371\">\n   <rect x=\"43.78125\" y=\"22.318125\" width=\"446.4\" height=\"217.44\"/>\n  </clipPath>\n </defs>\n</svg>\n",
            "image/png": "[encoded data removed]"
          },
          "metadata": {
            "needs_background": "light"
          }
        }
      ],
      "source": [
        "plt.figure(figsize=(8,4),dpi=150)\n",
        "plt.grid()\n",
        "plt.plot(nums,var_ratio,marker='o')\n",
        "plt.xlabel('n_components')\n",
        "plt.ylabel('Explained variance ratio')\n",
        "plt.title('n_components vs. Explained Variance Ratio')"
      ]
    },
    {
      "source": [
        "Можем да видим от графиката, че при използване на 150 променвили, не губим информация, а при 100 променливи губим около 3%. В този случай, ще изберем 100 n_components, за следващите стъпки."
      ],
      "cell_type": "markdown",
      "metadata": {}
    },
    {
      "source": [
        "pca = PCA(n_components=150)\n",
        "pca_features = pca.fit_transform(x_train)"
      ],
      "cell_type": "code",
      "metadata": {},
      "execution_count": 33,
      "outputs": []
    },
    {
      "cell_type": "code",
      "execution_count": 34,
      "metadata": {},
      "outputs": [
        {
          "output_type": "stream",
          "name": "stdout",
          "text": [
            "0.9976481815166865\n"
          ]
        }
      ],
      "source": [
        "print(sum(pca.explained_variance_ratio_))"
      ]
    },
    {
      "source": [
        "# Show PCA characteristics\n",
        "print('Shape before PCA: ', x_train.shape)\n",
        "print('Shape after PCA: ', pca_features.shape)"
      ],
      "cell_type": "code",
      "metadata": {},
      "execution_count": 35,
      "outputs": [
        {
          "output_type": "stream",
          "name": "stdout",
          "text": [
            "Shape before PCA:  (6591, 290)\nShape after PCA:  (6591, 150)\n"
          ]
        }
      ]
    },
    {
      "cell_type": "code",
      "execution_count": 36,
      "metadata": {},
      "outputs": [],
      "source": [
        "pca_test = PCA(n_components=150)\n",
        "pca_features_test = pca_test.fit_transform(x_test)"
      ]
    },
    {
      "cell_type": "code",
      "execution_count": 37,
      "metadata": {},
      "outputs": [
        {
          "output_type": "stream",
          "name": "stdout",
          "text": [
            "0.9993243447863547\n"
          ]
        }
      ],
      "source": [
        "print(sum(pca_test.explained_variance_ratio_))"
      ]
    },
    {
      "cell_type": "code",
      "execution_count": 38,
      "metadata": {},
      "outputs": [
        {
          "output_type": "stream",
          "name": "stdout",
          "text": [
            "Shape before PCA:  (2197, 290)\nShape after PCA:  (2197, 150)\n"
          ]
        }
      ],
      "source": [
        "# Show PCA characteristics\n",
        "print('Shape before PCA: ', x_test.shape)\n",
        "print('Shape after PCA: ', pca_features_test.shape)"
      ]
    },
    {
      "source": [
        "5. Логистична регресия"
      ],
      "cell_type": "markdown",
      "metadata": {}
    },
    {
      "cell_type": "code",
      "execution_count": 52,
      "metadata": {},
      "outputs": [],
      "source": [
        "def gini(x):\n",
        "    # (Warning: This is a concise implementation, but it is O(n**2)\n",
        "    # in time and memory, where n = len(x).  *Don't* pass in huge\n",
        "    # samples!)\n",
        "\n",
        "    # Mean absolute difference\n",
        "    mad = np.abs(np.subtract.outer(x, x)).mean()\n",
        "    # Relative mean absolute difference\n",
        "    rmad = mad/np.mean(x)\n",
        "    # Gini coefficient\n",
        "    g = 0.5 * rmad\n",
        "    return g"
      ]
    },
    {
      "cell_type": "code",
      "execution_count": 44,
      "metadata": {},
      "outputs": [],
      "source": [
        "cv = StratifiedKFold(n_splits=5, random_state=1, shuffle=True)"
      ]
    },
    {
      "cell_type": "code",
      "execution_count": 37,
      "metadata": {},
      "outputs": [],
      "source": [
        "params = {'C': [0.001, 0.01, 0.1, 1, 10, 100, 10000],\n",
        "          'penalty': ['l1', 'l2'],\n",
        "          'solver': ['liblinear', 'saga']}\n",
        "\n",
        "grid_search = GridSearchCV(LogisticRegression(max_iter = 2000), params, scoring='f1', cv=cv)"
      ]
    },
    {
      "cell_type": "code",
      "execution_count": 38,
      "metadata": {},
      "outputs": [
        {
          "output_type": "execute_result",
          "data": {
            "text/plain": [
              "GridSearchCV(cv=StratifiedKFold(n_splits=5, random_state=1, shuffle=True),\n",
              "             estimator=LogisticRegression(max_iter=2000),\n",
              "             param_grid={'C': [0.001, 0.01, 0.1, 1, 10, 100, 10000],\n",
              "                         'penalty': ['l1', 'l2'],\n",
              "                         'solver': ['liblinear', 'saga']},\n",
              "             scoring='f1')"
            ]
          },
          "metadata": {},
          "execution_count": 38
        }
      ],
      "source": [
        "grid_search.fit(pca_features, y_train)"
      ]
    },
    {
      "cell_type": "code",
      "execution_count": 44,
      "metadata": {},
      "outputs": [
        {
          "output_type": "execute_result",
          "data": {
            "text/plain": [
              "LogisticRegression(C=1, max_iter=2000, solver='saga')"
            ]
          },
          "metadata": {},
          "execution_count": 44
        }
      ],
      "source": [
        "grid_search.best_estimator_"
      ]
    },
    {
      "cell_type": "code",
      "execution_count": 56,
      "metadata": {},
      "outputs": [
        {
          "output_type": "execute_result",
          "data": {
            "text/plain": [
              "'l2'"
            ]
          },
          "metadata": {},
          "execution_count": 56
        }
      ],
      "source": [
        "grid_search.best_estimator_.penalty"
      ]
    },
    {
      "source": [
        "best_model = grid_search.best_estimator_"
      ],
      "cell_type": "code",
      "metadata": {},
      "execution_count": null,
      "outputs": []
    },
    {
      "cell_type": "code",
      "execution_count": 100,
      "metadata": {},
      "outputs": [
        {
          "output_type": "execute_result",
          "data": {
            "text/plain": [
              "LogisticRegression(C=1, max_iter=2000, solver='saga')"
            ]
          },
          "metadata": {},
          "execution_count": 100
        }
      ],
      "source": [
        "# Set params for best model from grid search\n",
        "lr_clf = LogisticRegression().set_params(C=1, max_iter=2000, solver=\"saga\", penalty=\"l2\")\n",
        "lr_clf.fit(pca_features, y_train)\n"
      ]
    },
    {
      "cell_type": "code",
      "execution_count": 101,
      "metadata": {},
      "outputs": [
        {
          "output_type": "stream",
          "name": "stdout",
          "text": [
            "The AUC score of the best Logistic Regression model is  0.4939301489470981\nThe Accuracy of the best Logistic Regression model is  0.8661811561219845\n"
          ]
        }
      ],
      "source": [
        "y_pred = lr_clf.predict(pca_features_test)\n",
        "print('The AUC score of the best Logistic Regression model is ', roc_auc_score(y_test, y_pred))\n",
        "print('The Accuracy of the best Logistic Regression model is ', lr_clf.score(pca_features_test, y_test))"
      ]
    },
    {
      "cell_type": "code",
      "execution_count": 102,
      "metadata": {},
      "outputs": [
        {
          "output_type": "stream",
          "name": "stdout",
          "text": [
            "Gini coefficient for Logistic Regression: 0.9772416932180247\n"
          ]
        }
      ],
      "source": [
        "# Gini coefficient for Logistic Regression\n",
        "print(\"Gini coefficient for Logistic Regression: \" + str(gini(y_pred)))"
      ]
    },
    {
      "cell_type": "code",
      "execution_count": 103,
      "metadata": {},
      "outputs": [
        {
          "output_type": "execute_result",
          "data": {
            "text/plain": [
              "array([[1900,   47],\n",
              "       [ 247,    3]])"
            ]
          },
          "metadata": {},
          "execution_count": 103
        }
      ],
      "source": [
        "confusion_matrix(y_test, y_pred)"
      ]
    },
    {
      "cell_type": "code",
      "execution_count": 104,
      "metadata": {},
      "outputs": [
        {
          "output_type": "stream",
          "name": "stdout",
          "text": [
            "              precision    recall  f1-score   support\n\n           0       0.88      0.98      0.93      1947\n           1       0.06      0.01      0.02       250\n\n    accuracy                           0.87      2197\n   macro avg       0.47      0.49      0.47      2197\nweighted avg       0.79      0.87      0.82      2197\n\n"
          ]
        }
      ],
      "source": [
        "# Classification Report\n",
        "print(classification_report(y_test, y_pred))"
      ]
    },
    {
      "source": [
        "Support Vector Machines"
      ],
      "cell_type": "markdown",
      "metadata": {}
    },
    {
      "cell_type": "code",
      "execution_count": 45,
      "metadata": {},
      "outputs": [],
      "source": [
        "params = {'C': [0.1, 1, 10, 100, 1000],\n",
        "          'gamma': [1, 0.1 ,0.01, 0.001, 0.0001, \"scale\"],\n",
        "          'kernel': ['rbf', 'poly', 'linear', 'sigmoid']}\n",
        "\n",
        "grid_search = GridSearchCV(SVC(), params, scoring='roc_auc', cv=cv)"
      ]
    },
    {
      "cell_type": "code",
      "execution_count": null,
      "metadata": {},
      "outputs": [],
      "source": [
        "grid_search.fit(pca_features, y_train)"
      ]
    },
    {
      "cell_type": "code",
      "execution_count": null,
      "metadata": {},
      "outputs": [],
      "source": [
        "grid_search.best_estimator_"
      ]
    },
    {
      "cell_type": "code",
      "execution_count": null,
      "metadata": {},
      "outputs": [],
      "source": [
        "grid_search.best_estimator_.kernel"
      ]
    },
    {
      "cell_type": "code",
      "execution_count": null,
      "metadata": {},
      "outputs": [],
      "source": [
        "best_model = grid_search.best_estimator_"
      ]
    },
    {
      "cell_type": "code",
      "execution_count": 95,
      "metadata": {},
      "outputs": [
        {
          "output_type": "execute_result",
          "data": {
            "text/plain": [
              "SVC(C=0.1, kernel='sigmoid')"
            ]
          },
          "metadata": {},
          "execution_count": 95
        }
      ],
      "source": [
        "# Set params for best model from grid search\n",
        "svc_clf = SVC().set_params(C=0.1, gamma=\"scale\", kernel=\"sigmoid\")\n",
        "svc_clf.fit(pca_features, y_train)"
      ]
    },
    {
      "cell_type": "code",
      "execution_count": 96,
      "metadata": {},
      "outputs": [
        {
          "output_type": "stream",
          "name": "stdout",
          "text": [
            "The AUC score of the best SVM is  0.5009727786337956\nThe Accuracy of the best SVM is  0.8848429676832044\n"
          ]
        }
      ],
      "source": [
        "y_pred = svc_clf.predict(pca_features_test)\n",
        "print('The AUC score of the best SVM is ', roc_auc_score(y_test, y_pred))\n",
        "print('The Accuracy of the best SVM is ', svc_clf.score(pca_features_test, y_test))"
      ]
    },
    {
      "cell_type": "code",
      "execution_count": 97,
      "metadata": {},
      "outputs": [
        {
          "output_type": "stream",
          "name": "stdout",
          "text": [
            "Gini coefficient for SVC: 0.9977241693218026\n"
          ]
        }
      ],
      "source": [
        "# Gini coefficient for SVC\n",
        "print(\"Gini coefficient for SVC: \" + str(gini(y_pred)))"
      ]
    },
    {
      "cell_type": "code",
      "execution_count": 98,
      "metadata": {},
      "outputs": [
        {
          "output_type": "execute_result",
          "data": {
            "text/plain": [
              "array([[1943,    4],\n",
              "       [ 249,    1]])"
            ]
          },
          "metadata": {},
          "execution_count": 98
        }
      ],
      "source": [
        "# Confusion matrix\n",
        "confusion_matrix(y_test, y_pred)"
      ]
    },
    {
      "cell_type": "code",
      "execution_count": 99,
      "metadata": {},
      "outputs": [
        {
          "output_type": "stream",
          "name": "stdout",
          "text": [
            "              precision    recall  f1-score   support\n\n           0       0.89      1.00      0.94      1947\n           1       0.20      0.00      0.01       250\n\n    accuracy                           0.88      2197\n   macro avg       0.54      0.50      0.47      2197\nweighted avg       0.81      0.88      0.83      2197\n\n"
          ]
        }
      ],
      "source": [
        "# Classification Report\n",
        "print(classification_report(y_test, y_pred))"
      ]
    },
    {
      "source": [
        "От резултатите можем да видим, че Support Vector Machines се справят по-добре от Logistic Regression. От друга страна, Намирането на най-добрите хиперпараметри за логистичната регресия отне няколко часа, за опорните вектори отне няколко дни на различни лаптопи."
      ],
      "cell_type": "markdown",
      "metadata": {}
    },
    {
      "source": [
        "6. Сплайн ядро на Steve Gunn"
      ],
      "cell_type": "markdown",
      "metadata": {}
    },
    {
      "cell_type": "code",
      "execution_count": 66,
      "metadata": {},
      "outputs": [],
      "source": [
        "def spline(data_1, data_2):\n",
        "\n",
        "    kernel = np.ones((data_1.shape[0], data_2.shape[0]))\n",
        "\n",
        "    for d in range(data_1.shape[1]):\n",
        "        column_1 = data_1[:, d].reshape(-1, 1)\n",
        "        column_2 = data_2[:, d].reshape(-1, 1)\n",
        "        c_prod = column_1 * column_2.T\n",
        "        c_sum = column_1 + column_2.T\n",
        "        c_min = np.minimum(column_1, column_2.T)\n",
        "        kernel *= 1. + c_prod + c_prod * c_min \\\n",
        "                        - c_sum/2. * c_min ** 2. \\\n",
        "                         + 1./3. * c_min ** 3.\n",
        "    return kernel"
      ]
    },
    {
      "cell_type": "code",
      "execution_count": 69,
      "metadata": {},
      "outputs": [],
      "source": [
        "# Additional normalization of the data\n",
        "transformer = Normalizer().fit(pca_features)\n",
        "transformer = transformer.transform(pca_features)\n",
        "\n",
        "transformer_test = Normalizer().fit(pca_features_test)\n",
        "transformer_test = transformer_test.transform(pca_features_test)"
      ]
    },
    {
      "cell_type": "code",
      "execution_count": 92,
      "metadata": {},
      "outputs": [
        {
          "output_type": "stream",
          "name": "stdout",
          "text": [
            "The AUC score of the best SVM is  0.5\nThe Accuracy of the best SVM is  0.8862084660901229\n"
          ]
        }
      ],
      "source": [
        "# Set params for best model from grid search with the Spline kernel\n",
        "svc_clf_spline = SVC().set_params(C=0.1, gamma=\"scale\", kernel=\"sigmoid\")\n",
        "svc_clf_spline.fit(transformer, y_train)\n",
        "\n",
        "y_pred = svc_clf_spline.predict(transformer_test)\n",
        "print('The AUC score of the best SVM is ', roc_auc_score(y_test, y_pred))\n",
        "print('The Accuracy of the best SVM is ', svc_clf_spline.score(transformer_test, y_test))"
      ]
    },
    {
      "cell_type": "code",
      "execution_count": 93,
      "metadata": {},
      "outputs": [
        {
          "output_type": "execute_result",
          "data": {
            "text/plain": [
              "array([[1947,    0],\n",
              "       [ 250,    0]])"
            ]
          },
          "metadata": {},
          "execution_count": 93
        }
      ],
      "source": [
        "# Confusion matrix\n",
        "confusion_matrix(y_test, y_pred)"
      ]
    },
    {
      "cell_type": "code",
      "execution_count": 94,
      "metadata": {},
      "outputs": [
        {
          "output_type": "stream",
          "name": "stdout",
          "text": [
            "              precision    recall  f1-score   support\n\n           0       0.89      1.00      0.94      1947\n           1       0.00      0.00      0.00       250\n\n    accuracy                           0.89      2197\n   macro avg       0.44      0.50      0.47      2197\nweighted avg       0.79      0.89      0.83      2197\n\n"
          ]
        }
      ],
      "source": [
        "# Classification Report\n",
        "print(classification_report(y_test, y_pred))"
      ]
    },
    {
      "source": [
        "7. XG Boost with HyperOpt hyperparameter optimization"
      ],
      "cell_type": "markdown",
      "metadata": {}
    },
    {
      "cell_type": "code",
      "execution_count": 73,
      "metadata": {},
      "outputs": [],
      "source": [
        "# Setting params space \n",
        "space={'max_depth': hp.quniform(\"max_depth\", 3, 18, 1),\n",
        "        'gamma': hp.uniform ('gamma', 1,9),\n",
        "        'reg_alpha' : hp.quniform('reg_alpha', 40,180,1),\n",
        "        'reg_lambda' : hp.uniform('reg_lambda', 0,1),\n",
        "        'colsample_bytree' : hp.uniform('colsample_bytree', 0.5,1),\n",
        "        'min_child_weight' : hp.quniform('min_child_weight', 0, 10, 1),\n",
        "        'n_estimators': 180,\n",
        "        'seed': 0\n",
        "    }"
      ]
    },
    {
      "cell_type": "code",
      "execution_count": 74,
      "metadata": {},
      "outputs": [],
      "source": [
        "# Setting model, evaluation and scoring methods\n",
        "def objective(space):\n",
        "    clf=xgb.XGBClassifier(\n",
        "                    n_estimators =space['n_estimators'], max_depth = int(space['max_depth']), gamma = space['gamma'],\n",
        "                    reg_alpha = int(space['reg_alpha']),min_child_weight=int(space['min_child_weight']),\n",
        "                    colsample_bytree=int(space['colsample_bytree']))\n",
        "\n",
        "    evaluation = [( x_train, y_train), ( x_test, y_test)]\n",
        "\n",
        "    clf.fit(x_train, y_train,\n",
        "            eval_set=evaluation, eval_metric=\"auc\",\n",
        "            early_stopping_rounds=10,verbose=False)\n",
        "\n",
        "\n",
        "    pred = clf.predict(x_test)\n",
        "    accuracy = accuracy_score(y_test, pred>0.5)\n",
        "    print (\"SCORE:\", accuracy)\n",
        "    return {'loss': -accuracy, 'status': STATUS_OK, 'model': clf }"
      ]
    },
    {
      "cell_type": "code",
      "execution_count": 77,
      "metadata": {},
      "outputs": [
        {
          "output_type": "stream",
          "name": "stdout",
          "text": [
            "SCORE:\n",
            "0.8862084660901229\n",
            "SCORE:\n",
            "0.8862084660901229\n",
            "SCORE:\n",
            "0.8862084660901229\n",
            "SCORE:\n",
            "0.8862084660901229\n",
            "SCORE:\n",
            "0.8862084660901229\n",
            "SCORE:\n",
            "0.8862084660901229\n",
            "SCORE:\n",
            "0.8862084660901229\n",
            "SCORE:\n",
            "0.8862084660901229\n",
            "SCORE:\n",
            "0.8862084660901229\n",
            "SCORE:\n",
            "0.8862084660901229\n",
            "SCORE:\n",
            "0.8862084660901229\n",
            "SCORE:\n",
            "0.8862084660901229\n",
            "SCORE:\n",
            "0.8862084660901229\n",
            "SCORE:\n",
            "0.8862084660901229\n",
            "SCORE:\n",
            "0.8862084660901229\n",
            "SCORE:\n",
            "0.8862084660901229\n",
            "SCORE:\n",
            "0.8862084660901229\n",
            "SCORE:\n",
            "0.8862084660901229\n",
            "SCORE:\n",
            "0.8862084660901229\n",
            "SCORE:\n",
            "0.8862084660901229\n",
            "SCORE:\n",
            "0.8862084660901229\n",
            "SCORE:\n",
            "0.8862084660901229\n",
            "SCORE:\n",
            "0.8862084660901229\n",
            "SCORE:\n",
            "0.8862084660901229\n",
            "SCORE:\n",
            "0.8862084660901229\n",
            "SCORE:\n",
            "0.8862084660901229\n",
            "SCORE:\n",
            "0.8862084660901229\n",
            "SCORE:\n",
            "0.8862084660901229\n",
            "SCORE:\n",
            "0.8862084660901229\n",
            "SCORE:\n",
            "0.8862084660901229\n",
            "SCORE:\n",
            "0.8862084660901229\n",
            "SCORE:\n",
            "0.8862084660901229\n",
            "SCORE:\n",
            "0.8862084660901229\n",
            "SCORE:\n",
            "0.8862084660901229\n",
            "SCORE:\n",
            "0.8862084660901229\n",
            "SCORE:\n",
            "0.8862084660901229\n",
            "SCORE:\n",
            "0.8862084660901229\n",
            "SCORE:\n",
            "0.8862084660901229\n",
            "SCORE:\n",
            "0.8862084660901229\n",
            "SCORE:\n",
            "0.8862084660901229\n",
            "SCORE:\n",
            "0.8862084660901229\n",
            "SCORE:\n",
            "0.8862084660901229\n",
            "SCORE:\n",
            "0.8862084660901229\n",
            "SCORE:\n",
            "0.8862084660901229\n",
            "SCORE:\n",
            "0.8862084660901229\n",
            "SCORE:\n",
            "0.8862084660901229\n",
            "SCORE:\n",
            "0.8862084660901229\n",
            "SCORE:\n",
            "0.8862084660901229\n",
            "SCORE:\n",
            "0.8862084660901229\n",
            "SCORE:\n",
            "0.8862084660901229\n",
            "SCORE:\n",
            "0.8862084660901229\n",
            "SCORE:\n",
            "0.8862084660901229\n",
            "SCORE:\n",
            "0.8862084660901229\n",
            "SCORE:\n",
            "0.8862084660901229\n",
            "SCORE:\n",
            "0.8862084660901229\n",
            "SCORE:\n",
            "0.8862084660901229\n",
            "SCORE:\n",
            "0.8862084660901229\n",
            "SCORE:\n",
            "0.8862084660901229\n",
            "SCORE:\n",
            "0.8862084660901229\n",
            "SCORE:\n",
            "0.8862084660901229\n",
            "SCORE:\n",
            "0.8862084660901229\n",
            "SCORE:\n",
            "0.8862084660901229\n",
            "SCORE:\n",
            "0.8862084660901229\n",
            "SCORE:\n",
            "0.8862084660901229\n",
            "SCORE:\n",
            "0.8862084660901229\n",
            "SCORE:\n",
            "0.8862084660901229\n",
            "SCORE:\n",
            "0.8862084660901229\n",
            "SCORE:\n",
            "0.8862084660901229\n",
            "SCORE:\n",
            "0.8862084660901229\n",
            "SCORE:\n",
            "0.8862084660901229\n",
            "SCORE:\n",
            "0.8862084660901229\n",
            "SCORE:\n",
            "0.8862084660901229\n",
            "SCORE:\n",
            "0.8862084660901229\n",
            "SCORE:\n",
            "0.8862084660901229\n",
            "SCORE:\n",
            "0.8862084660901229\n",
            "SCORE:\n",
            "0.8862084660901229\n",
            "SCORE:\n",
            "0.8862084660901229\n",
            "SCORE:\n",
            "0.8862084660901229\n",
            "SCORE:\n",
            "0.8862084660901229\n",
            "SCORE:\n",
            "0.8862084660901229\n",
            "SCORE:\n",
            "0.8862084660901229\n",
            "SCORE:\n",
            "0.8862084660901229\n",
            "SCORE:\n",
            "0.8862084660901229\n",
            "SCORE:\n",
            "0.8862084660901229\n",
            "SCORE:\n",
            "0.8862084660901229\n",
            "SCORE:\n",
            "0.8862084660901229\n",
            "SCORE:\n",
            "0.8862084660901229\n",
            "SCORE:\n",
            "0.8862084660901229\n",
            "SCORE:\n",
            "0.8862084660901229\n",
            "SCORE:\n",
            "0.8862084660901229\n",
            "SCORE:\n",
            "0.8862084660901229\n",
            "SCORE:\n",
            "0.8862084660901229\n",
            "SCORE:\n",
            "0.8862084660901229\n",
            "SCORE:\n",
            "0.8862084660901229\n",
            "SCORE:\n",
            "0.8862084660901229\n",
            "SCORE:\n",
            "0.8862084660901229\n",
            "SCORE:\n",
            "0.8862084660901229\n",
            "SCORE:\n",
            "0.8862084660901229\n",
            "SCORE:\n",
            "0.8862084660901229\n",
            "SCORE:\n",
            "0.8862084660901229\n",
            "100%|██████████| 100/100 [00:16<00:00,  6.15trial/s, best loss: -0.8862084660901229]\n"
          ]
        }
      ],
      "source": [
        "# The actual search for the optimal parameters happens here\n",
        "trials = Trials()\n",
        "\n",
        "best_hyperparams = fmin(fn = objective,\n",
        "                        space = space,\n",
        "                        algo = tpe.suggest,\n",
        "                        max_evals = 100,\n",
        "                        trials = trials)"
      ]
    },
    {
      "cell_type": "code",
      "execution_count": 89,
      "metadata": {},
      "outputs": [
        {
          "output_type": "stream",
          "name": "stdout",
          "text": [
            "The best hyperparameters for XGBoost are:  \n\n{'colsample_bytree': 0.7062392936824688, 'gamma': 7.302307693635425, 'max_depth': 17.0, 'min_child_weight': 7.0, 'reg_alpha': 154.0, 'reg_lambda': 0.39683469993235077}\n"
          ]
        }
      ],
      "source": [
        "print(\"The best hyperparameters for XGBoost are: \",\"\\n\")\n",
        "print(best_hyperparams)"
      ]
    },
    {
      "cell_type": "code",
      "execution_count": 80,
      "metadata": {},
      "outputs": [],
      "source": [
        "# Save the best model\n",
        "clf_xg = trials.results[np.argmin([r['loss'] for r in trials.results])]['model']"
      ]
    },
    {
      "cell_type": "code",
      "execution_count": 81,
      "metadata": {},
      "outputs": [
        {
          "output_type": "stream",
          "name": "stdout",
          "text": [
            "The AUC score of the best XG Classifier with normal data is  0.5\nThe Accuracy of the best XG Classifier with normal data is  0.8862084660901229\n"
          ]
        }
      ],
      "source": [
        "y_pred = clf_xg.predict(x_test)\n",
        "print('The AUC score of the best XG Classifier with normal data is ',roc_auc_score(y_test, y_pred))\n",
        "print('The Accuracy of the best XG Classifier with normal data is ', clf_xg.score(x_test, y_test))"
      ]
    },
    {
      "cell_type": "code",
      "execution_count": 83,
      "metadata": {},
      "outputs": [
        {
          "output_type": "execute_result",
          "data": {
            "text/plain": [
              "array([[1947,    0],\n",
              "       [ 250,    0]])"
            ]
          },
          "metadata": {},
          "execution_count": 83
        }
      ],
      "source": [
        "# Confusion matrix\n",
        "confusion_matrix(y_test, y_pred)"
      ]
    },
    {
      "cell_type": "code",
      "execution_count": 91,
      "metadata": {},
      "outputs": [
        {
          "output_type": "stream",
          "name": "stdout",
          "text": [
            "              precision    recall  f1-score   support\n\n           0       0.89      1.00      0.94      1947\n           1       0.00      0.00      0.00       250\n\n    accuracy                           0.89      2197\n   macro avg       0.44      0.50      0.47      2197\nweighted avg       0.79      0.89      0.83      2197\n\n"
          ]
        }
      ],
      "source": [
        "# Classification Report\n",
        "print(classification_report(y_test, y_pred))"
      ]
    },
    {
      "source": [
        "In conclusion, the confusion matrix and the other report show that the models largely overfitt, ergo, the imbalance in the predictions, mostly being TP (True Positive) and FP (False Positive). We can see the the XGBoost and the SVC with Spline predict only Positive values, while sigmoid SVC and LR predict just a few negatives."
      ],
      "cell_type": "markdown",
      "metadata": {}
    }
  ],
  "metadata": {
    "kernelspec": {
      "display_name": "Python 3 (ipykernel)",
      "language": "python",
      "name": "python3"
    },
    "language_info": {
      "codemirror_mode": {
        "name": "ipython",
        "version": 3
      },
      "file_extension": ".py",
      "mimetype": "text/x-python",
      "name": "python",
      "nbconvert_exporter": "python",
      "pygments_lexer": "ipython3",
      "version": "3.9.7-final"
    },
    "colab": {
      "name": "MFG_zadacha.ipynb",
      "provenance": [],
      "collapsed_sections": []
    }
  },
  "nbformat": 4,
  "nbformat_minor": 0
}