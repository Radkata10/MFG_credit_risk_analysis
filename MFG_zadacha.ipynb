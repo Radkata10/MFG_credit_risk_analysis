{
  "cells": [
    {
      "cell_type": "markdown",
      "source": [
        "Задача за DSCM006\n",
        "=================\n",
        "\n",
        "Предаваме като .ipynb в Moodle в курса DSCM006 до 15.02.2022 г."
      ],
      "metadata": {
        "id": "RFttHJ-5auPK"
      }
    },
    {
      "cell_type": "code",
      "execution_count": 1,
      "metadata": {
        "id": "UxDjuFA96690"
      },
      "outputs": [],
      "source": [
        "import pandas as pd\n",
        "import numpy as np\n",
        "import matplotlib.pyplot as plt"
      ]
    },
    {
      "cell_type": "code",
      "execution_count": 2,
      "metadata": {
        "id": "PII_4HFx6698"
      },
      "outputs": [],
      "source": [
        "pd.options.display.max_rows = 999\n",
        "pd.options.display.max_columns = 999"
      ]
    },
    {
      "cell_type": "code",
      "execution_count": 3,
      "metadata": {
        "id": "fCmrg7tp6699"
      },
      "outputs": [],
      "source": [
        "df_train = pd.read_csv('X_train.csv', encoding='\"ISO-8859-1\"')\n",
        "df_test = pd.read_csv('X_test.csv', encoding='\"ISO-8859-1\"')"
      ]
    },
    {
      "cell_type": "markdown",
      "source": [
        "1.   Направете основен експлораторен анализ на обучителния набор;\n",
        "2.   Намалете размерността на данните (PCA, correlation, VIF);\n",
        "3.   Направете необходимите операции, за да присвоите на категорийните променливи числови стойности, така че те да могат да бъдат използвани в модел;\n",
        "4.   Мащабирайте данните - необходимо е най-вече за SVM от моделите, които ще използвате;\n",
        "5.   Използвайки кръстосана валидация с обучителния набор, намерете най-добрия модел, варирайки хиперпараметрите. Използвайте логистична регресия и метода на опорните вектори. Опитайте всички възможности за тези модели и чрез GridSearchCV или по друг начин намерете най-добрия модел като експериментирате с различни приложими метрики за оценка на точността;\n",
        "6.   За SVM, scikit-learn предлага ядрата ‘linear’, ‘poly’, ‘rbf’, ‘sigmoid’, които в т.5 се очаква да използвате в решението си. Освен тях, опитайте модел със сплайн ядро, което е описано [в доклад на Steve Gunn от 1998 г](http://www.svms.org/tutorials/Gunn1998.pdf). За начина на внедряване на код за ядра в sklearn можете да ползвате указанията по [тази](https://krypticmouse.hashnode.dev/training-svm-over-custom-kernels) връзка, а за реализация на сплайн ядро може да използвате [този](https://github.com/gmum/pykernels/blob/master/pykernels/regular.py) код. Ако намерите по-подходящи ядра, опитайте и с тях;\n",
        "7.   *По желание.* Проучете как работи XGBoost и опитайте да решите задачата с него;\n",
        "8.   След като сте избрали най-добрия модел, вижте как той се справя на тестовия набор. "
      ],
      "metadata": {
        "id": "YkGQirn9-vDE"
      }
    },
    {
      "cell_type": "code",
      "source": [
        "df_train[\"Bad_Flag\"].value_counts(dropna=False)"
      ],
      "metadata": {
        "id": "iSc_4RXc5gVP"
      },
      "execution_count": 6,
      "outputs": [
        {
          "output_type": "execute_result",
          "data": {
            "text/plain": [
              "0    5841\n",
              "1     750\n",
              "Name: Bad_Flag, dtype: int64"
            ]
          },
          "metadata": {},
          "execution_count": 6
        }
      ]
    },
    {
      "cell_type": "code",
      "execution_count": null,
      "metadata": {},
      "outputs": [],
      "source": []
    }
  ],
  "metadata": {
    "kernelspec": {
      "display_name": "Python 3 (ipykernel)",
      "language": "python",
      "name": "python3"
    },
    "language_info": {
      "codemirror_mode": {
        "name": "ipython",
        "version": 3
      },
      "file_extension": ".py",
      "mimetype": "text/x-python",
      "name": "python",
      "nbconvert_exporter": "python",
      "pygments_lexer": "ipython3",
      "version": "3.9.7-final"
    },
    "colab": {
      "name": "MFG_zadacha.ipynb",
      "provenance": [],
      "collapsed_sections": []
    }
  },
  "nbformat": 4,
  "nbformat_minor": 0
}