{
  "cells": [
    {
      "cell_type": "markdown",
      "source": [
        "Задача за DSCM006\n",
        "=================\n",
        "\n",
        "Предаваме като .ipynb в Moodle в курса DSCM006 до 15.02.2022 г."
      ],
      "metadata": {
        "id": "RFttHJ-5auPK"
      }
    },
    {
      "cell_type": "code",
      "execution_count": 1,
      "metadata": {
        "id": "UxDjuFA96690"
      },
      "outputs": [],
      "source": [
        "import pandas as pd\n",
        "import numpy as np\n",
        "import matplotlib.pyplot as plt"
      ]
    },
    {
      "cell_type": "code",
      "execution_count": 2,
      "metadata": {
        "id": "PII_4HFx6698"
      },
      "outputs": [],
      "source": [
        "pd.options.display.max_rows = 999\n",
        "pd.options.display.max_columns = 999"
      ]
    },
    {
      "cell_type": "code",
      "execution_count": 3,
      "metadata": {
        "id": "fCmrg7tp6699"
      },
      "outputs": [],
      "source": [
        "df_train = pd.read_csv('X_train.csv', encoding='\"ISO-8859-1\"')\n",
        "df_test = pd.read_csv('X_test.csv', encoding='\"ISO-8859-1\"')"
      ]
    },
    {
      "cell_type": "markdown",
      "source": [
        "1.   Направете основен експлораторен анализ на обучителния набор;\n",
        "2.   Намалете размерността на данните (PCA, correlation, VIF);\n",
        "3.   Направете необходимите операции, за да присвоите на категорийните променливи числови стойности, така че те да могат да бъдат използвани в модел;\n",
        "4.   Мащабирайте данните - необходимо е най-вече за SVM от моделите, които ще използвате;\n",
        "5.   Използвайки кръстосана валидация с обучителния набор, намерете най-добрия модел, варирайки хиперпараметрите. Използвайте логистична регресия и метода на опорните вектори. Опитайте всички възможности за тези модели и чрез GridSearchCV или по друг начин намерете най-добрия модел като експериментирате с различни приложими метрики за оценка на точността;\n",
        "6.   За SVM, scikit-learn предлага ядрата ‘linear’, ‘poly’, ‘rbf’, ‘sigmoid’, които в т.5 се очаква да използвате в решението си. Освен тях, опитайте модел със сплайн ядро, което е описано [в доклад на Steve Gunn от 1998 г](http://www.svms.org/tutorials/Gunn1998.pdf). За начина на внедряване на код за ядра в sklearn можете да ползвате указанията по [тази](https://krypticmouse.hashnode.dev/training-svm-over-custom-kernels) връзка, а за реализация на сплайн ядро може да използвате [този](https://github.com/gmum/pykernels/blob/master/pykernels/regular.py) код. Ако намерите по-подходящи ядра, опитайте и с тях;\n",
        "7.   *По желание.* Проучете как работи XGBoost и опитайте да решите задачата с него;\n",
        "8.   След като сте избрали най-добрия модел, вижте как той се справя на тестовия набор. "
      ],
      "metadata": {
        "id": "YkGQirn9-vDE"
      }
    },
    {
      "cell_type": "code",
      "source": [
        "df_train[\"Bad_Flag\"].value_counts(dropna=False)"
      ],
      "metadata": {
        "id": "iSc_4RXc5gVP"
      },
      "execution_count": 4,
      "outputs": [
        {
          "output_type": "execute_result",
          "data": {
            "text/plain": [
              "0    5841\n",
              "1     750\n",
              "Name: Bad_Flag, dtype: int64"
            ]
          },
          "metadata": {},
          "execution_count": 4
        }
      ]
    },
    {
      "cell_type": "code",
      "execution_count": 5,
      "metadata": {},
      "outputs": [
        {
          "output_type": "execute_result",
          "data": {
            "text/plain": [
              "   Unnamed: 0  Bad_Flag  x1     x2     x3     x4     x5     x6     x7     x8  \\\n",
              "0         707         0  56  NoDPD  NoDPD  NoDPD  NoDPD  NoDPD  NoDPD  NoDPD   \n",
              "1        5740         1  21  NoDPD  NoDPD  NoDPD  NoDPD  NoDPD  NoDPD  NoDPD   \n",
              "2        6646         0  31  NoDPD  NoDPD  NoDPD  NoDPD  NoDPD  NoDPD  NoDPD   \n",
              "3        6841         0  56  NoDPD  DPD90  NoDPD  NoDPD  NoDPD  NoDPD  NoDPD   \n",
              "4         842         0  34  NoDPD  NoDPD  NoDPD  NoDPD  NoDPD  NoDPD  NoDPD   \n",
              "\n",
              "     x10      x11    x12    x13         x14         x15         x16  x17  x18  \\\n",
              "0  Never    Never  Never  Never  DPDCurrent  DPDCurrent  DPDCurrent    0    0   \n",
              "1  Never    Never  Never  Never  DPDCurrent  DPDCurrent  DPDCurrent    0    0   \n",
              "2  Never    Never  Never  Never  DPDCurrent  DPDCurrent  DPDCurrent    0    0   \n",
              "3  Never  More24M  Never  Never  DPDCurrent  DPDCurrent  DPDCurrent    0    0   \n",
              "4  Never    Never  Never  Never  DPDCurrent  DPDCurrent  DPDCurrent    0    0   \n",
              "\n",
              "   x19  x20  x21  x22  x23  x24       x25       x26  x27  x28       x29  x30  \\\n",
              "0    0    0    0  0.0  0.0  0.0   2428.33      0.00    0    0    963.02    0   \n",
              "1    0    0    0  0.0  0.0  0.0      0.00   2300.00    0    0      0.00    0   \n",
              "2    0    0    0  0.0  0.0  0.0   8500.00  29469.17    0    0   8220.00    0   \n",
              "3    0    0    0  0.0  0.0  0.0  12660.00      0.00    0    0  11392.00    0   \n",
              "4    0    0    0  0.0  0.0  0.0      0.00    600.00    0    0      0.00    0   \n",
              "\n",
              "   x31       x32       x33       x34       x35       x36       x37       x38  \\\n",
              "0    0      0.00   1728.33      0.00    963.02      0.00   1728.33      0.00   \n",
              "1    0   1277.27      0.00    800.00      0.00    777.27      0.00    800.00   \n",
              "2    0  27234.56   7000.00  29469.17   6826.00  27234.56   7000.00  29469.32   \n",
              "3    0      0.00  11660.00      0.00  10444.00      0.00  11660.00      0.00   \n",
              "4    0    656.00      0.00    600.00      0.00    656.00      0.00    600.00   \n",
              "\n",
              "      x39     x40  x41     x42       x43       x44  x45  x46  x47  x48  x49  \\\n",
              "0  167.61    0.00  0.0    0.00   2272.24      0.00  0.0  0.0    0    0  0.0   \n",
              "1    0.00  169.23  0.0    0.00      0.00   1800.00  0.0  0.0    0    0  0.0   \n",
              "2  104.49  497.93  0.0  122.11   8473.00  29469.32  0.0  0.0    0    0  0.0   \n",
              "3  223.00    0.00  0.0    0.00  12603.00      0.00  0.0  0.0    0    0  0.0   \n",
              "4    0.00  163.00  0.0  107.00      0.00    600.00  0.0  0.0    0    0  0.0   \n",
              "\n",
              "   x50  x51  x52  x53  x54  x55  x56  x57  x58  x59  x60  x61  x62  x63  \\\n",
              "0    0    0    0    0    0    0    0    0    0    0    0  0.0    0  0.0   \n",
              "1    0    0    0    0    0    0    0    0    0    0    0  0.0    0  0.0   \n",
              "2    0    0    0    0    0    0    0    0    0    0    0  0.0    0  0.0   \n",
              "3    0    0    0    0    0    0    0    0    0    0    0  0.0    0  0.0   \n",
              "4    0    0    0    0    0    0    0    0    0    0    0  0.0    0  0.0   \n",
              "\n",
              "      x64  x65  x66     x67     x68     x69       x70  x71  x72    x73  \\\n",
              "0    0.00  0.0  0.0  167.61    0.00     0.0      0.00  0.0  0.0   0.00   \n",
              "1    0.00  0.0  0.0    0.00  169.23     0.0      0.00  0.0  0.0   0.00   \n",
              "2    0.00  0.0  0.0  134.49  497.93  7742.0  27234.56  0.0  0.0  35.36   \n",
              "3  269.09  0.0  0.0  223.00    0.00  9523.0      0.00  0.0  0.0   0.00   \n",
              "4    0.00  0.0  0.0    0.00  163.00     0.0      0.00  0.0  0.0   0.00   \n",
              "\n",
              "      x74      x75       x76       x77       x78     x79     x80       x81  \\\n",
              "0    0.00     0.00      0.00    260.83      0.00  700.22    0.00    963.02   \n",
              "1    0.00     0.00      0.00      0.00      0.00    0.00  856.27      0.00   \n",
              "2  122.11  7612.14  26905.12   8220.00  27234.56   22.00    0.00   8220.00   \n",
              "3    0.00  9508.00      0.00  10008.00      0.00   57.00    0.00  11392.00   \n",
              "4    0.00     0.00      0.00      0.00      0.00    0.00    0.00      0.00   \n",
              "\n",
              "        x82      x83      x84  x85     x86  x87    x88  x89     x90  x91  x92  \\\n",
              "0      0.00   702.19     0.00  0.0     0.0  0.0    0.0  0.0     0.0  0.0  0.0   \n",
              "1   1277.27     0.00  1277.27  0.0  1500.0  0.0  500.0  0.0  1000.0  0.0  0.0   \n",
              "2  27234.56     0.00     0.00  0.0     0.0  0.0    0.0  0.0     0.0  0.0  0.0   \n",
              "3      0.00  1384.00     0.00  0.0     0.0  0.0    0.0  0.0     0.0  0.0  0.0   \n",
              "4    656.00     0.00   656.00  0.0     0.0  0.0    0.0  0.0     0.0  0.0  0.0   \n",
              "\n",
              "   x93  x94    x95     x96       x97       x98     x99  x100    x101  x102  \\\n",
              "0  0.0  0.0   0.00    0.00    963.02      0.00   700.0     0     0.0   0.0   \n",
              "1  0.0  0.0   0.00    0.00      0.00   1152.68     0.0     0     0.0   0.0   \n",
              "2  0.0  0.0  50.36  122.11   8075.14  26905.12  1500.0     0  1394.0   0.0   \n",
              "3  0.0  0.0   0.00    0.00  11363.00      0.00  1000.0     0   948.0   0.0   \n",
              "4  0.0  0.0   0.00  107.00      0.00    493.00     0.0     0     0.0   0.0   \n",
              "\n",
              "      x103  x104  x105  x106   x107  x108  x109  x110      x111  x112  x113  \\\n",
              "0   543.91   0.0   0.0     0   0.00     0     0     0   1663.24     0     0   \n",
              "1     0.00   0.0   0.0     0   0.00     0     0     0      0.00     0     0   \n",
              "2  1473.00   0.0  30.0     0  50.36     0     0     0   8242.00     0     0   \n",
              "3   943.00   0.0   0.0     0   0.00     0     0     0  11449.00     0     0   \n",
              "4     0.00   0.0   0.0     0   0.00     0     0     0      0.00     0     0   \n",
              "\n",
              "       x114  x115  x116     x117     x118    x119    x120  x121  x122   x123  \\\n",
              "0      0.00     0   0.0   963.02     0.00  700.22    0.00     0   0.0    0.0   \n",
              "1   2133.54     0   0.0     0.00  1277.27    0.00  856.27     0   0.0    0.0   \n",
              "2  27234.56     0   0.0   478.00     0.00   22.00    0.00     0  15.0    0.0   \n",
              "3      0.00     0   0.0  1869.00     0.00   57.00    0.00     0   0.0    0.0   \n",
              "4    656.00     0   0.0     0.00   656.00    0.00    0.00     0   0.0  107.0   \n",
              "\n",
              "      x124     x125  x126  x127  x128      x129  x130  x131      x132  x133  \\\n",
              "0   963.02     0.00     0     0     0  0.000000     0     0  1.000000     0   \n",
              "1     0.00  1152.68     0     0     0  1.000000     0     0  0.000000     0   \n",
              "2   463.00     0.00     0     0     0  0.776134     0     0  0.231846     0   \n",
              "3  1855.00     0.00     0     0     0  0.000000     0     0  1.000000     0   \n",
              "4     0.00   493.00     0     0     0  1.000000     0     0  0.000000     0   \n",
              "\n",
              "   x134      x135      x136      x137      x138  x139  x140  x141  x142  x143  \\\n",
              "0     0  0.000000  0.000000  0.557197  0.000000     3     0     0     0     0   \n",
              "1     0  1.000000  1.000000  0.000000  0.971588     0     5     0     0     0   \n",
              "2     0  0.768154  0.768154  0.975143  0.924167     3     3     0     0     0   \n",
              "3     0  0.000000  0.000000  0.895712  0.000000     4     0     0     4     0   \n",
              "4     0  1.000000  1.000000  0.000000  1.093333     0     1     0     0     0   \n",
              "\n",
              "   x144  x145  x146  x147  x148  x149  x150  x151  x152  x153  x154  x155  \\\n",
              "0     0     0     0     0     0     0     0     0     0     0     0     0   \n",
              "1     0     0     0     0     0     0     0     0     0     0     0     0   \n",
              "2     0     0     0     0     0     0     0     0     0     0     0     0   \n",
              "3     0     0    14     0     0     0     0     4     0     0     0     0   \n",
              "4     0     0     0     0     0     0     0     0     0     0     0     0   \n",
              "\n",
              "   x156  x157  x158  x159  x160  x161  x162  x163  x164  x165  x166  x167  \\\n",
              "0     0     0     0     0     0     0     0     0     0     0     0     0   \n",
              "1     0     0     0     0     0     0     0     0     0     0     0     0   \n",
              "2     0     0     0     0     0     0     0     0     0     0     0     0   \n",
              "3     0     0     0     0     0     0     0     0     0     0     0     0   \n",
              "4     0     0     0     0     0     0     0     0     0     0     0     0   \n",
              "\n",
              "   x168  x169  x170  x171  x172  x173  x174  x175  x176  x177      x178  x179  \\\n",
              "0     0     0     0     0     0     0     0     0     0     0  0.000000     1   \n",
              "1     0     0     0     0     0     0     0     0     0     0  1.000000     0   \n",
              "2     0     0     0     0     0     0     0     0     0     0  0.787341     2   \n",
              "3     0     0     0     0     0     0     0     0     0     0  0.000000     2   \n",
              "4     0     0     0     0     0     0     0     0     0     0  1.000000     0   \n",
              "\n",
              "   x180      x181      x182  x183 x184   x185       x186      x187  x188  \\\n",
              "0     0  0.000000  0.000000   0.0  Yes  20.80  2012.6800  2001.600     5   \n",
              "1     5  0.000000  0.000000   0.0  Yes   0.00     0.0000     0.000     0   \n",
              "2     1  0.004865  0.929333   0.0  Yes  20.75  1320.4725  1321.535     4   \n",
              "3     0  0.000000  0.948000   0.0  Yes  21.75  1260.1300  1317.105     4   \n",
              "4     1  0.163110  0.000000   0.0  Yes   0.00     0.0000     0.000     0   \n",
              "\n",
              "    x189       x190      x191  x192  \\\n",
              "0  20.80  2012.6800  2001.600     5   \n",
              "1   0.00     0.0000     0.000     0   \n",
              "2  20.75  1320.4725  1321.535     4   \n",
              "3  21.75  1260.1300  1317.105     4   \n",
              "4   0.00     0.0000     0.000     0   \n",
              "\n",
              "                                             x193     x194 x195  x196  x197  \\\n",
              "0  ÐÐµÐ·ÑÑÐ¾ÑÐµÐ½ ÑÑÑÐ´Ð¾Ð² Ð´Ð¾Ð³Ð¾Ð²Ð¾Ñ       01  Yes     1     1   \n",
              "1                                         Missing  Missing   No     0     0   \n",
              "2  ÐÐµÐ·ÑÑÐ¾ÑÐµÐ½ ÑÑÑÐ´Ð¾Ð² Ð´Ð¾Ð³Ð¾Ð²Ð¾Ñ       01  Yes     1     1   \n",
              "3  ÐÐµÐ·ÑÑÐ¾ÑÐµÐ½ ÑÑÑÐ´Ð¾Ð² Ð´Ð¾Ð³Ð¾Ð²Ð¾Ñ       01  Yes     1     1   \n",
              "4                                         Missing  Missing   No     0     0   \n",
              "\n",
              "         x198   x199      x200  x201  x202  x203  x204  x205  x206  x207  \\\n",
              "0  807.877778  799.0  72332009  4910   0.0   0.0   0.0   1.0     7   364   \n",
              "1    0.000000    0.0         0     0   0.0   0.0   0.0   0.0     0     0   \n",
              "2  557.638889  550.0  83222006  4639   0.0   0.0   0.0   1.0     8   365   \n",
              "3  586.444444  580.0  72233006  2540   0.0   0.0   0.0   1.0     7   364   \n",
              "4    0.000000    0.0         0     0   0.0   0.0   0.0   0.0     0     0   \n",
              "\n",
              "   x208  x209  x210  x211  x212  x213  x214  x215        x216   x217  \\\n",
              "0    72   364     4   364    49   364     1     1  812.316667  799.0   \n",
              "1     0     0     0     0     0     0     0     0    0.000000    0.0   \n",
              "2    83   365     4   365    46   365     1     1  553.055556  550.0   \n",
              "3    72   364     2   364    25   364     1     1  586.444444  580.0   \n",
              "4     0     0     0     0     0     0     0     0    0.000000    0.0   \n",
              "\n",
              "       x218  x219  x220  x221  x222  x223  x224  x225  x226  x227  x228  x229  \\\n",
              "0  72332009  4910   0.0   0.0   0.0   1.0     7   183    72   183     4   183   \n",
              "1         0     0   0.0   0.0   0.0   0.0     0     0     0     0     0     0   \n",
              "2  83222006  4639   0.0   0.0   0.0   1.0     8   181    83   181     4   181   \n",
              "3  72233006  2540   0.0   0.0   0.0   1.0     7   182    72   182     2   182   \n",
              "4         0     0   0.0   0.0   0.0   0.0     0     0     0     0     0     0   \n",
              "\n",
              "   x230  x231  x232  x233        x234   x235      x236  x237  x238  x239  \\\n",
              "0    49   183     1     1  807.877778  799.0  72332009  4910   0.0   0.0   \n",
              "1     0     0     0     0    0.000000    0.0         0     0   0.0   0.0   \n",
              "2    46   181     1     1  550.000000  550.0  83222006  4639   0.0   0.0   \n",
              "3    25   182     1     1  580.000000  580.0  72233006  2540   0.0   0.0   \n",
              "4     0     0     0     0    0.000000    0.0         0     0   0.0   0.0   \n",
              "\n",
              "   x240  x241  x242  x243  x244  x245  x246  x247  x248  x249  x250  x251  \\\n",
              "0   0.0   1.0     7    91    72    91     4    91    49    91   133   377   \n",
              "1   0.0   0.0     0     0     0     0     0     0     0     0     0     0   \n",
              "2   0.0   1.0     8    90    83    90     4    90    46    90    29   104   \n",
              "3   0.0   1.0     7    90    72    90     2    90    25    90    64   169   \n",
              "4   0.0   0.0     0     0     0     0     0     0     0     0     0     0   \n",
              "\n",
              "   x252 x253  x254 x255     x256  x257  x258  x259     x260     x261 x262  \\\n",
              "0     3  Yes   0.0  NaN  Missing   0.0   0.0     0  Missing  Missing   No   \n",
              "1     0   No   0.0  NaN  Missing   0.0   0.0     0  Missing  Missing   No   \n",
              "2     4  Yes   0.0  NaN  Missing   0.0   0.0     0  Missing  Missing   No   \n",
              "3     4  Yes   0.0  NaN  Missing   0.0   0.0     0  Missing  Missing   No   \n",
              "4     0   No   0.0  NaN  Missing   0.0   0.0     0  Missing  Missing   No   \n",
              "\n",
              "       x263      x264      x265      x266      x267      x268      x269  \\\n",
              "0   2428.33      0.00   2428.33    963.02      0.00    963.02      0.00   \n",
              "1      0.00   2300.00   2300.00      0.00   1277.27   1277.27    777.27   \n",
              "2   8500.00  29469.17  37969.17   8220.00  27234.56  35454.56  27234.56   \n",
              "3  12660.00      0.00  12660.00  11392.00      0.00  11392.00      0.00   \n",
              "4      0.00    600.00    600.00      0.00    656.00    656.00    656.00   \n",
              "\n",
              "    x270    x271    x272 x273 x274 x275 x276  \n",
              "0   0.00    0.00    0.00   Íå   Äà   Íå   Äà  \n",
              "1   0.00    0.00    0.00   Äà   Íå   Íå   Íå  \n",
              "2  50.36  122.11  172.47   Äà   Äà   Íå   Äà  \n",
              "3   0.00    0.00    0.00   Íå   Äà   Íå   Äà  \n",
              "4   0.00  107.00  107.00   Äà   Íå   Íå   Íå  "
            ],
            "text/html": "<div>\n<style scoped>\n    .dataframe tbody tr th:only-of-type {\n        vertical-align: middle;\n    }\n\n    .dataframe tbody tr th {\n        vertical-align: top;\n    }\n\n    .dataframe thead th {\n        text-align: right;\n    }\n</style>\n<table border=\"1\" class=\"dataframe\">\n  <thead>\n    <tr style=\"text-align: right;\">\n      <th></th>\n      <th>Unnamed: 0</th>\n      <th>Bad_Flag</th>\n      <th>x1</th>\n      <th>x2</th>\n      <th>x3</th>\n      <th>x4</th>\n      <th>x5</th>\n      <th>x6</th>\n      <th>x7</th>\n      <th>x8</th>\n      <th>x10</th>\n      <th>x11</th>\n      <th>x12</th>\n      <th>x13</th>\n      <th>x14</th>\n      <th>x15</th>\n      <th>x16</th>\n      <th>x17</th>\n      <th>x18</th>\n      <th>x19</th>\n      <th>x20</th>\n      <th>x21</th>\n      <th>x22</th>\n      <th>x23</th>\n      <th>x24</th>\n      <th>x25</th>\n      <th>x26</th>\n      <th>x27</th>\n      <th>x28</th>\n      <th>x29</th>\n      <th>x30</th>\n      <th>x31</th>\n      <th>x32</th>\n      <th>x33</th>\n      <th>x34</th>\n      <th>x35</th>\n      <th>x36</th>\n      <th>x37</th>\n      <th>x38</th>\n      <th>x39</th>\n      <th>x40</th>\n      <th>x41</th>\n      <th>x42</th>\n      <th>x43</th>\n      <th>x44</th>\n      <th>x45</th>\n      <th>x46</th>\n      <th>x47</th>\n      <th>x48</th>\n      <th>x49</th>\n      <th>x50</th>\n      <th>x51</th>\n      <th>x52</th>\n      <th>x53</th>\n      <th>x54</th>\n      <th>x55</th>\n      <th>x56</th>\n      <th>x57</th>\n      <th>x58</th>\n      <th>x59</th>\n      <th>x60</th>\n      <th>x61</th>\n      <th>x62</th>\n      <th>x63</th>\n      <th>x64</th>\n      <th>x65</th>\n      <th>x66</th>\n      <th>x67</th>\n      <th>x68</th>\n      <th>x69</th>\n      <th>x70</th>\n      <th>x71</th>\n      <th>x72</th>\n      <th>x73</th>\n      <th>x74</th>\n      <th>x75</th>\n      <th>x76</th>\n      <th>x77</th>\n      <th>x78</th>\n      <th>x79</th>\n      <th>x80</th>\n      <th>x81</th>\n      <th>x82</th>\n      <th>x83</th>\n      <th>x84</th>\n      <th>x85</th>\n      <th>x86</th>\n      <th>x87</th>\n      <th>x88</th>\n      <th>x89</th>\n      <th>x90</th>\n      <th>x91</th>\n      <th>x92</th>\n      <th>x93</th>\n      <th>x94</th>\n      <th>x95</th>\n      <th>x96</th>\n      <th>x97</th>\n      <th>x98</th>\n      <th>x99</th>\n      <th>x100</th>\n      <th>x101</th>\n      <th>x102</th>\n      <th>x103</th>\n      <th>x104</th>\n      <th>x105</th>\n      <th>x106</th>\n      <th>x107</th>\n      <th>x108</th>\n      <th>x109</th>\n      <th>x110</th>\n      <th>x111</th>\n      <th>x112</th>\n      <th>x113</th>\n      <th>x114</th>\n      <th>x115</th>\n      <th>x116</th>\n      <th>x117</th>\n      <th>x118</th>\n      <th>x119</th>\n      <th>x120</th>\n      <th>x121</th>\n      <th>x122</th>\n      <th>x123</th>\n      <th>x124</th>\n      <th>x125</th>\n      <th>x126</th>\n      <th>x127</th>\n      <th>x128</th>\n      <th>x129</th>\n      <th>x130</th>\n      <th>x131</th>\n      <th>x132</th>\n      <th>x133</th>\n      <th>x134</th>\n      <th>x135</th>\n      <th>x136</th>\n      <th>x137</th>\n      <th>x138</th>\n      <th>x139</th>\n      <th>x140</th>\n      <th>x141</th>\n      <th>x142</th>\n      <th>x143</th>\n      <th>x144</th>\n      <th>x145</th>\n      <th>x146</th>\n      <th>x147</th>\n      <th>x148</th>\n      <th>x149</th>\n      <th>x150</th>\n      <th>x151</th>\n      <th>x152</th>\n      <th>x153</th>\n      <th>x154</th>\n      <th>x155</th>\n      <th>x156</th>\n      <th>x157</th>\n      <th>x158</th>\n      <th>x159</th>\n      <th>x160</th>\n      <th>x161</th>\n      <th>x162</th>\n      <th>x163</th>\n      <th>x164</th>\n      <th>x165</th>\n      <th>x166</th>\n      <th>x167</th>\n      <th>x168</th>\n      <th>x169</th>\n      <th>x170</th>\n      <th>x171</th>\n      <th>x172</th>\n      <th>x173</th>\n      <th>x174</th>\n      <th>x175</th>\n      <th>x176</th>\n      <th>x177</th>\n      <th>x178</th>\n      <th>x179</th>\n      <th>x180</th>\n      <th>x181</th>\n      <th>x182</th>\n      <th>x183</th>\n      <th>x184</th>\n      <th>x185</th>\n      <th>x186</th>\n      <th>x187</th>\n      <th>x188</th>\n      <th>x189</th>\n      <th>x190</th>\n      <th>x191</th>\n      <th>x192</th>\n      <th>x193</th>\n      <th>x194</th>\n      <th>x195</th>\n      <th>x196</th>\n      <th>x197</th>\n      <th>x198</th>\n      <th>x199</th>\n      <th>x200</th>\n      <th>x201</th>\n      <th>x202</th>\n      <th>x203</th>\n      <th>x204</th>\n      <th>x205</th>\n      <th>x206</th>\n      <th>x207</th>\n      <th>x208</th>\n      <th>x209</th>\n      <th>x210</th>\n      <th>x211</th>\n      <th>x212</th>\n      <th>x213</th>\n      <th>x214</th>\n      <th>x215</th>\n      <th>x216</th>\n      <th>x217</th>\n      <th>x218</th>\n      <th>x219</th>\n      <th>x220</th>\n      <th>x221</th>\n      <th>x222</th>\n      <th>x223</th>\n      <th>x224</th>\n      <th>x225</th>\n      <th>x226</th>\n      <th>x227</th>\n      <th>x228</th>\n      <th>x229</th>\n      <th>x230</th>\n      <th>x231</th>\n      <th>x232</th>\n      <th>x233</th>\n      <th>x234</th>\n      <th>x235</th>\n      <th>x236</th>\n      <th>x237</th>\n      <th>x238</th>\n      <th>x239</th>\n      <th>x240</th>\n      <th>x241</th>\n      <th>x242</th>\n      <th>x243</th>\n      <th>x244</th>\n      <th>x245</th>\n      <th>x246</th>\n      <th>x247</th>\n      <th>x248</th>\n      <th>x249</th>\n      <th>x250</th>\n      <th>x251</th>\n      <th>x252</th>\n      <th>x253</th>\n      <th>x254</th>\n      <th>x255</th>\n      <th>x256</th>\n      <th>x257</th>\n      <th>x258</th>\n      <th>x259</th>\n      <th>x260</th>\n      <th>x261</th>\n      <th>x262</th>\n      <th>x263</th>\n      <th>x264</th>\n      <th>x265</th>\n      <th>x266</th>\n      <th>x267</th>\n      <th>x268</th>\n      <th>x269</th>\n      <th>x270</th>\n      <th>x271</th>\n      <th>x272</th>\n      <th>x273</th>\n      <th>x274</th>\n      <th>x275</th>\n      <th>x276</th>\n    </tr>\n  </thead>\n  <tbody>\n    <tr>\n      <th>0</th>\n      <td>707</td>\n      <td>0</td>\n      <td>56</td>\n      <td>NoDPD</td>\n      <td>NoDPD</td>\n      <td>NoDPD</td>\n      <td>NoDPD</td>\n      <td>NoDPD</td>\n      <td>NoDPD</td>\n      <td>NoDPD</td>\n      <td>Never</td>\n      <td>Never</td>\n      <td>Never</td>\n      <td>Never</td>\n      <td>DPDCurrent</td>\n      <td>DPDCurrent</td>\n      <td>DPDCurrent</td>\n      <td>0</td>\n      <td>0</td>\n      <td>0</td>\n      <td>0</td>\n      <td>0</td>\n      <td>0.0</td>\n      <td>0.0</td>\n      <td>0.0</td>\n      <td>2428.33</td>\n      <td>0.00</td>\n      <td>0</td>\n      <td>0</td>\n      <td>963.02</td>\n      <td>0</td>\n      <td>0</td>\n      <td>0.00</td>\n      <td>1728.33</td>\n      <td>0.00</td>\n      <td>963.02</td>\n      <td>0.00</td>\n      <td>1728.33</td>\n      <td>0.00</td>\n      <td>167.61</td>\n      <td>0.00</td>\n      <td>0.0</td>\n      <td>0.00</td>\n      <td>2272.24</td>\n      <td>0.00</td>\n      <td>0.0</td>\n      <td>0.0</td>\n      <td>0</td>\n      <td>0</td>\n      <td>0.0</td>\n      <td>0</td>\n      <td>0</td>\n      <td>0</td>\n      <td>0</td>\n      <td>0</td>\n      <td>0</td>\n      <td>0</td>\n      <td>0</td>\n      <td>0</td>\n      <td>0</td>\n      <td>0</td>\n      <td>0.0</td>\n      <td>0</td>\n      <td>0.0</td>\n      <td>0.00</td>\n      <td>0.0</td>\n      <td>0.0</td>\n      <td>167.61</td>\n      <td>0.00</td>\n      <td>0.0</td>\n      <td>0.00</td>\n      <td>0.0</td>\n      <td>0.0</td>\n      <td>0.00</td>\n      <td>0.00</td>\n      <td>0.00</td>\n      <td>0.00</td>\n      <td>260.83</td>\n      <td>0.00</td>\n      <td>700.22</td>\n      <td>0.00</td>\n      <td>963.02</td>\n      <td>0.00</td>\n      <td>702.19</td>\n      <td>0.00</td>\n      <td>0.0</td>\n      <td>0.0</td>\n      <td>0.0</td>\n      <td>0.0</td>\n      <td>0.0</td>\n      <td>0.0</td>\n      <td>0.0</td>\n      <td>0.0</td>\n      <td>0.0</td>\n      <td>0.0</td>\n      <td>0.00</td>\n      <td>0.00</td>\n      <td>963.02</td>\n      <td>0.00</td>\n      <td>700.0</td>\n      <td>0</td>\n      <td>0.0</td>\n      <td>0.0</td>\n      <td>543.91</td>\n      <td>0.0</td>\n      <td>0.0</td>\n      <td>0</td>\n      <td>0.00</td>\n      <td>0</td>\n      <td>0</td>\n      <td>0</td>\n      <td>1663.24</td>\n      <td>0</td>\n      <td>0</td>\n      <td>0.00</td>\n      <td>0</td>\n      <td>0.0</td>\n      <td>963.02</td>\n      <td>0.00</td>\n      <td>700.22</td>\n      <td>0.00</td>\n      <td>0</td>\n      <td>0.0</td>\n      <td>0.0</td>\n      <td>963.02</td>\n      <td>0.00</td>\n      <td>0</td>\n      <td>0</td>\n      <td>0</td>\n      <td>0.000000</td>\n      <td>0</td>\n      <td>0</td>\n      <td>1.000000</td>\n      <td>0</td>\n      <td>0</td>\n      <td>0.000000</td>\n      <td>0.000000</td>\n      <td>0.557197</td>\n      <td>0.000000</td>\n      <td>3</td>\n      <td>0</td>\n      <td>0</td>\n      <td>0</td>\n      <td>0</td>\n      <td>0</td>\n      <td>0</td>\n      <td>0</td>\n      <td>0</td>\n      <td>0</td>\n      <td>0</td>\n      <td>0</td>\n      <td>0</td>\n      <td>0</td>\n      <td>0</td>\n      <td>0</td>\n      <td>0</td>\n      <td>0</td>\n      <td>0</td>\n      <td>0</td>\n      <td>0</td>\n      <td>0</td>\n      <td>0</td>\n      <td>0</td>\n      <td>0</td>\n      <td>0</td>\n      <td>0</td>\n      <td>0</td>\n      <td>0</td>\n      <td>0</td>\n      <td>0</td>\n      <td>0</td>\n      <td>0</td>\n      <td>0</td>\n      <td>0</td>\n      <td>0</td>\n      <td>0</td>\n      <td>0</td>\n      <td>0</td>\n      <td>0.000000</td>\n      <td>1</td>\n      <td>0</td>\n      <td>0.000000</td>\n      <td>0.000000</td>\n      <td>0.0</td>\n      <td>Yes</td>\n      <td>20.80</td>\n      <td>2012.6800</td>\n      <td>2001.600</td>\n      <td>5</td>\n      <td>20.80</td>\n      <td>2012.6800</td>\n      <td>2001.600</td>\n      <td>5</td>\n      <td>ÐÐµÐ·ÑÑÐ¾ÑÐµÐ½ ÑÑÑÐ´Ð¾Ð² Ð´Ð¾Ð³Ð¾Ð²Ð¾Ñ</td>\n      <td>01</td>\n      <td>Yes</td>\n      <td>1</td>\n      <td>1</td>\n      <td>807.877778</td>\n      <td>799.0</td>\n      <td>72332009</td>\n      <td>4910</td>\n      <td>0.0</td>\n      <td>0.0</td>\n      <td>0.0</td>\n      <td>1.0</td>\n      <td>7</td>\n      <td>364</td>\n      <td>72</td>\n      <td>364</td>\n      <td>4</td>\n      <td>364</td>\n      <td>49</td>\n      <td>364</td>\n      <td>1</td>\n      <td>1</td>\n      <td>812.316667</td>\n      <td>799.0</td>\n      <td>72332009</td>\n      <td>4910</td>\n      <td>0.0</td>\n      <td>0.0</td>\n      <td>0.0</td>\n      <td>1.0</td>\n      <td>7</td>\n      <td>183</td>\n      <td>72</td>\n      <td>183</td>\n      <td>4</td>\n      <td>183</td>\n      <td>49</td>\n      <td>183</td>\n      <td>1</td>\n      <td>1</td>\n      <td>807.877778</td>\n      <td>799.0</td>\n      <td>72332009</td>\n      <td>4910</td>\n      <td>0.0</td>\n      <td>0.0</td>\n      <td>0.0</td>\n      <td>1.0</td>\n      <td>7</td>\n      <td>91</td>\n      <td>72</td>\n      <td>91</td>\n      <td>4</td>\n      <td>91</td>\n      <td>49</td>\n      <td>91</td>\n      <td>133</td>\n      <td>377</td>\n      <td>3</td>\n      <td>Yes</td>\n      <td>0.0</td>\n      <td>NaN</td>\n      <td>Missing</td>\n      <td>0.0</td>\n      <td>0.0</td>\n      <td>0</td>\n      <td>Missing</td>\n      <td>Missing</td>\n      <td>No</td>\n      <td>2428.33</td>\n      <td>0.00</td>\n      <td>2428.33</td>\n      <td>963.02</td>\n      <td>0.00</td>\n      <td>963.02</td>\n      <td>0.00</td>\n      <td>0.00</td>\n      <td>0.00</td>\n      <td>0.00</td>\n      <td>Íå</td>\n      <td>Äà</td>\n      <td>Íå</td>\n      <td>Äà</td>\n    </tr>\n    <tr>\n      <th>1</th>\n      <td>5740</td>\n      <td>1</td>\n      <td>21</td>\n      <td>NoDPD</td>\n      <td>NoDPD</td>\n      <td>NoDPD</td>\n      <td>NoDPD</td>\n      <td>NoDPD</td>\n      <td>NoDPD</td>\n      <td>NoDPD</td>\n      <td>Never</td>\n      <td>Never</td>\n      <td>Never</td>\n      <td>Never</td>\n      <td>DPDCurrent</td>\n      <td>DPDCurrent</td>\n      <td>DPDCurrent</td>\n      <td>0</td>\n      <td>0</td>\n      <td>0</td>\n      <td>0</td>\n      <td>0</td>\n      <td>0.0</td>\n      <td>0.0</td>\n      <td>0.0</td>\n      <td>0.00</td>\n      <td>2300.00</td>\n      <td>0</td>\n      <td>0</td>\n      <td>0.00</td>\n      <td>0</td>\n      <td>0</td>\n      <td>1277.27</td>\n      <td>0.00</td>\n      <td>800.00</td>\n      <td>0.00</td>\n      <td>777.27</td>\n      <td>0.00</td>\n      <td>800.00</td>\n      <td>0.00</td>\n      <td>169.23</td>\n      <td>0.0</td>\n      <td>0.00</td>\n      <td>0.00</td>\n      <td>1800.00</td>\n      <td>0.0</td>\n      <td>0.0</td>\n      <td>0</td>\n      <td>0</td>\n      <td>0.0</td>\n      <td>0</td>\n      <td>0</td>\n      <td>0</td>\n      <td>0</td>\n      <td>0</td>\n      <td>0</td>\n      <td>0</td>\n      <td>0</td>\n      <td>0</td>\n      <td>0</td>\n      <td>0</td>\n      <td>0.0</td>\n      <td>0</td>\n      <td>0.0</td>\n      <td>0.00</td>\n      <td>0.0</td>\n      <td>0.0</td>\n      <td>0.00</td>\n      <td>169.23</td>\n      <td>0.0</td>\n      <td>0.00</td>\n      <td>0.0</td>\n      <td>0.0</td>\n      <td>0.00</td>\n      <td>0.00</td>\n      <td>0.00</td>\n      <td>0.00</td>\n      <td>0.00</td>\n      <td>0.00</td>\n      <td>0.00</td>\n      <td>856.27</td>\n      <td>0.00</td>\n      <td>1277.27</td>\n      <td>0.00</td>\n      <td>1277.27</td>\n      <td>0.0</td>\n      <td>1500.0</td>\n      <td>0.0</td>\n      <td>500.0</td>\n      <td>0.0</td>\n      <td>1000.0</td>\n      <td>0.0</td>\n      <td>0.0</td>\n      <td>0.0</td>\n      <td>0.0</td>\n      <td>0.00</td>\n      <td>0.00</td>\n      <td>0.00</td>\n      <td>1152.68</td>\n      <td>0.0</td>\n      <td>0</td>\n      <td>0.0</td>\n      <td>0.0</td>\n      <td>0.00</td>\n      <td>0.0</td>\n      <td>0.0</td>\n      <td>0</td>\n      <td>0.00</td>\n      <td>0</td>\n      <td>0</td>\n      <td>0</td>\n      <td>0.00</td>\n      <td>0</td>\n      <td>0</td>\n      <td>2133.54</td>\n      <td>0</td>\n      <td>0.0</td>\n      <td>0.00</td>\n      <td>1277.27</td>\n      <td>0.00</td>\n      <td>856.27</td>\n      <td>0</td>\n      <td>0.0</td>\n      <td>0.0</td>\n      <td>0.00</td>\n      <td>1152.68</td>\n      <td>0</td>\n      <td>0</td>\n      <td>0</td>\n      <td>1.000000</td>\n      <td>0</td>\n      <td>0</td>\n      <td>0.000000</td>\n      <td>0</td>\n      <td>0</td>\n      <td>1.000000</td>\n      <td>1.000000</td>\n      <td>0.000000</td>\n      <td>0.971588</td>\n      <td>0</td>\n      <td>5</td>\n      <td>0</td>\n      <td>0</td>\n      <td>0</td>\n      <td>0</td>\n      <td>0</td>\n      <td>0</td>\n      <td>0</td>\n      <td>0</td>\n      <td>0</td>\n      <td>0</td>\n      <td>0</td>\n      <td>0</td>\n      <td>0</td>\n      <td>0</td>\n      <td>0</td>\n      <td>0</td>\n      <td>0</td>\n      <td>0</td>\n      <td>0</td>\n      <td>0</td>\n      <td>0</td>\n      <td>0</td>\n      <td>0</td>\n      <td>0</td>\n      <td>0</td>\n      <td>0</td>\n      <td>0</td>\n      <td>0</td>\n      <td>0</td>\n      <td>0</td>\n      <td>0</td>\n      <td>0</td>\n      <td>0</td>\n      <td>0</td>\n      <td>0</td>\n      <td>0</td>\n      <td>0</td>\n      <td>1.000000</td>\n      <td>0</td>\n      <td>5</td>\n      <td>0.000000</td>\n      <td>0.000000</td>\n      <td>0.0</td>\n      <td>Yes</td>\n      <td>0.00</td>\n      <td>0.0000</td>\n      <td>0.000</td>\n      <td>0</td>\n      <td>0.00</td>\n      <td>0.0000</td>\n      <td>0.000</td>\n      <td>0</td>\n      <td>Missing</td>\n      <td>Missing</td>\n      <td>No</td>\n      <td>0</td>\n      <td>0</td>\n      <td>0.000000</td>\n      <td>0.0</td>\n      <td>0</td>\n      <td>0</td>\n      <td>0.0</td>\n      <td>0.0</td>\n      <td>0.0</td>\n      <td>0.0</td>\n      <td>0</td>\n      <td>0</td>\n      <td>0</td>\n      <td>0</td>\n      <td>0</td>\n      <td>0</td>\n      <td>0</td>\n      <td>0</td>\n      <td>0</td>\n      <td>0</td>\n      <td>0.000000</td>\n      <td>0.0</td>\n      <td>0</td>\n      <td>0</td>\n      <td>0.0</td>\n      <td>0.0</td>\n      <td>0.0</td>\n      <td>0.0</td>\n      <td>0</td>\n      <td>0</td>\n      <td>0</td>\n      <td>0</td>\n      <td>0</td>\n      <td>0</td>\n      <td>0</td>\n      <td>0</td>\n      <td>0</td>\n      <td>0</td>\n      <td>0.000000</td>\n      <td>0.0</td>\n      <td>0</td>\n      <td>0</td>\n      <td>0.0</td>\n      <td>0.0</td>\n      <td>0.0</td>\n      <td>0.0</td>\n      <td>0</td>\n      <td>0</td>\n      <td>0</td>\n      <td>0</td>\n      <td>0</td>\n      <td>0</td>\n      <td>0</td>\n      <td>0</td>\n      <td>0</td>\n      <td>0</td>\n      <td>0</td>\n      <td>No</td>\n      <td>0.0</td>\n      <td>NaN</td>\n      <td>Missing</td>\n      <td>0.0</td>\n      <td>0.0</td>\n      <td>0</td>\n      <td>Missing</td>\n      <td>Missing</td>\n      <td>No</td>\n      <td>0.00</td>\n      <td>2300.00</td>\n      <td>2300.00</td>\n      <td>0.00</td>\n      <td>1277.27</td>\n      <td>1277.27</td>\n      <td>777.27</td>\n      <td>0.00</td>\n      <td>0.00</td>\n      <td>0.00</td>\n      <td>Äà</td>\n      <td>Íå</td>\n      <td>Íå</td>\n      <td>Íå</td>\n    </tr>\n    <tr>\n      <th>2</th>\n      <td>6646</td>\n      <td>0</td>\n      <td>31</td>\n      <td>NoDPD</td>\n      <td>NoDPD</td>\n      <td>NoDPD</td>\n      <td>NoDPD</td>\n      <td>NoDPD</td>\n      <td>NoDPD</td>\n      <td>NoDPD</td>\n      <td>Never</td>\n      <td>Never</td>\n      <td>Never</td>\n      <td>Never</td>\n      <td>DPDCurrent</td>\n      <td>DPDCurrent</td>\n      <td>DPDCurrent</td>\n      <td>0</td>\n      <td>0</td>\n      <td>0</td>\n      <td>0</td>\n      <td>0</td>\n      <td>0.0</td>\n      <td>0.0</td>\n      <td>0.0</td>\n      <td>8500.00</td>\n      <td>29469.17</td>\n      <td>0</td>\n      <td>0</td>\n      <td>8220.00</td>\n      <td>0</td>\n      <td>0</td>\n      <td>27234.56</td>\n      <td>7000.00</td>\n      <td>29469.17</td>\n      <td>6826.00</td>\n      <td>27234.56</td>\n      <td>7000.00</td>\n      <td>29469.32</td>\n      <td>104.49</td>\n      <td>497.93</td>\n      <td>0.0</td>\n      <td>122.11</td>\n      <td>8473.00</td>\n      <td>29469.32</td>\n      <td>0.0</td>\n      <td>0.0</td>\n      <td>0</td>\n      <td>0</td>\n      <td>0.0</td>\n      <td>0</td>\n      <td>0</td>\n      <td>0</td>\n      <td>0</td>\n      <td>0</td>\n      <td>0</td>\n      <td>0</td>\n      <td>0</td>\n      <td>0</td>\n      <td>0</td>\n      <td>0</td>\n      <td>0.0</td>\n      <td>0</td>\n      <td>0.0</td>\n      <td>0.00</td>\n      <td>0.0</td>\n      <td>0.0</td>\n      <td>134.49</td>\n      <td>497.93</td>\n      <td>7742.0</td>\n      <td>27234.56</td>\n      <td>0.0</td>\n      <td>0.0</td>\n      <td>35.36</td>\n      <td>122.11</td>\n      <td>7612.14</td>\n      <td>26905.12</td>\n      <td>8220.00</td>\n      <td>27234.56</td>\n      <td>22.00</td>\n      <td>0.00</td>\n      <td>8220.00</td>\n      <td>27234.56</td>\n      <td>0.00</td>\n      <td>0.00</td>\n      <td>0.0</td>\n      <td>0.0</td>\n      <td>0.0</td>\n      <td>0.0</td>\n      <td>0.0</td>\n      <td>0.0</td>\n      <td>0.0</td>\n      <td>0.0</td>\n      <td>0.0</td>\n      <td>0.0</td>\n      <td>50.36</td>\n      <td>122.11</td>\n      <td>8075.14</td>\n      <td>26905.12</td>\n      <td>1500.0</td>\n      <td>0</td>\n      <td>1394.0</td>\n      <td>0.0</td>\n      <td>1473.00</td>\n      <td>0.0</td>\n      <td>30.0</td>\n      <td>0</td>\n      <td>50.36</td>\n      <td>0</td>\n      <td>0</td>\n      <td>0</td>\n      <td>8242.00</td>\n      <td>0</td>\n      <td>0</td>\n      <td>27234.56</td>\n      <td>0</td>\n      <td>0.0</td>\n      <td>478.00</td>\n      <td>0.00</td>\n      <td>22.00</td>\n      <td>0.00</td>\n      <td>0</td>\n      <td>15.0</td>\n      <td>0.0</td>\n      <td>463.00</td>\n      <td>0.00</td>\n      <td>0</td>\n      <td>0</td>\n      <td>0</td>\n      <td>0.776134</td>\n      <td>0</td>\n      <td>0</td>\n      <td>0.231846</td>\n      <td>0</td>\n      <td>0</td>\n      <td>0.768154</td>\n      <td>0.768154</td>\n      <td>0.975143</td>\n      <td>0.924167</td>\n      <td>3</td>\n      <td>3</td>\n      <td>0</td>\n      <td>0</td>\n      <td>0</td>\n      <td>0</td>\n      <td>0</td>\n      <td>0</td>\n      <td>0</td>\n      <td>0</td>\n      <td>0</td>\n      <td>0</td>\n      <td>0</td>\n      <td>0</td>\n      <td>0</td>\n      <td>0</td>\n      <td>0</td>\n      <td>0</td>\n      <td>0</td>\n      <td>0</td>\n      <td>0</td>\n      <td>0</td>\n      <td>0</td>\n      <td>0</td>\n      <td>0</td>\n      <td>0</td>\n      <td>0</td>\n      <td>0</td>\n      <td>0</td>\n      <td>0</td>\n      <td>0</td>\n      <td>0</td>\n      <td>0</td>\n      <td>0</td>\n      <td>0</td>\n      <td>0</td>\n      <td>0</td>\n      <td>0</td>\n      <td>0</td>\n      <td>0.787341</td>\n      <td>2</td>\n      <td>1</td>\n      <td>0.004865</td>\n      <td>0.929333</td>\n      <td>0.0</td>\n      <td>Yes</td>\n      <td>20.75</td>\n      <td>1320.4725</td>\n      <td>1321.535</td>\n      <td>4</td>\n      <td>20.75</td>\n      <td>1320.4725</td>\n      <td>1321.535</td>\n      <td>4</td>\n      <td>ÐÐµÐ·ÑÑÐ¾ÑÐµÐ½ ÑÑÑÐ´Ð¾Ð² Ð´Ð¾Ð³Ð¾Ð²Ð¾Ñ</td>\n      <td>01</td>\n      <td>Yes</td>\n      <td>1</td>\n      <td>1</td>\n      <td>557.638889</td>\n      <td>550.0</td>\n      <td>83222006</td>\n      <td>4639</td>\n      <td>0.0</td>\n      <td>0.0</td>\n      <td>0.0</td>\n      <td>1.0</td>\n      <td>8</td>\n      <td>365</td>\n      <td>83</td>\n      <td>365</td>\n      <td>4</td>\n      <td>365</td>\n      <td>46</td>\n      <td>365</td>\n      <td>1</td>\n      <td>1</td>\n      <td>553.055556</td>\n      <td>550.0</td>\n      <td>83222006</td>\n      <td>4639</td>\n      <td>0.0</td>\n      <td>0.0</td>\n      <td>0.0</td>\n      <td>1.0</td>\n      <td>8</td>\n      <td>181</td>\n      <td>83</td>\n      <td>181</td>\n      <td>4</td>\n      <td>181</td>\n      <td>46</td>\n      <td>181</td>\n      <td>1</td>\n      <td>1</td>\n      <td>550.000000</td>\n      <td>550.0</td>\n      <td>83222006</td>\n      <td>4639</td>\n      <td>0.0</td>\n      <td>0.0</td>\n      <td>0.0</td>\n      <td>1.0</td>\n      <td>8</td>\n      <td>90</td>\n      <td>83</td>\n      <td>90</td>\n      <td>4</td>\n      <td>90</td>\n      <td>46</td>\n      <td>90</td>\n      <td>29</td>\n      <td>104</td>\n      <td>4</td>\n      <td>Yes</td>\n      <td>0.0</td>\n      <td>NaN</td>\n      <td>Missing</td>\n      <td>0.0</td>\n      <td>0.0</td>\n      <td>0</td>\n      <td>Missing</td>\n      <td>Missing</td>\n      <td>No</td>\n      <td>8500.00</td>\n      <td>29469.17</td>\n      <td>37969.17</td>\n      <td>8220.00</td>\n      <td>27234.56</td>\n      <td>35454.56</td>\n      <td>27234.56</td>\n      <td>50.36</td>\n      <td>122.11</td>\n      <td>172.47</td>\n      <td>Äà</td>\n      <td>Äà</td>\n      <td>Íå</td>\n      <td>Äà</td>\n    </tr>\n    <tr>\n      <th>3</th>\n      <td>6841</td>\n      <td>0</td>\n      <td>56</td>\n      <td>NoDPD</td>\n      <td>DPD90</td>\n      <td>NoDPD</td>\n      <td>NoDPD</td>\n      <td>NoDPD</td>\n      <td>NoDPD</td>\n      <td>NoDPD</td>\n      <td>Never</td>\n      <td>More24M</td>\n      <td>Never</td>\n      <td>Never</td>\n      <td>DPDCurrent</td>\n      <td>DPDCurrent</td>\n      <td>DPDCurrent</td>\n      <td>0</td>\n      <td>0</td>\n      <td>0</td>\n      <td>0</td>\n      <td>0</td>\n      <td>0.0</td>\n      <td>0.0</td>\n      <td>0.0</td>\n      <td>12660.00</td>\n      <td>0.00</td>\n      <td>0</td>\n      <td>0</td>\n      <td>11392.00</td>\n      <td>0</td>\n      <td>0</td>\n      <td>0.00</td>\n      <td>11660.00</td>\n      <td>0.00</td>\n      <td>10444.00</td>\n      <td>0.00</td>\n      <td>11660.00</td>\n      <td>0.00</td>\n      <td>223.00</td>\n      <td>0.00</td>\n      <td>0.0</td>\n      <td>0.00</td>\n      <td>12603.00</td>\n      <td>0.00</td>\n      <td>0.0</td>\n      <td>0.0</td>\n      <td>0</td>\n      <td>0</td>\n      <td>0.0</td>\n      <td>0</td>\n      <td>0</td>\n      <td>0</td>\n      <td>0</td>\n      <td>0</td>\n      <td>0</td>\n      <td>0</td>\n      <td>0</td>\n      <td>0</td>\n      <td>0</td>\n      <td>0</td>\n      <td>0.0</td>\n      <td>0</td>\n      <td>0.0</td>\n      <td>269.09</td>\n      <td>0.0</td>\n      <td>0.0</td>\n      <td>223.00</td>\n      <td>0.00</td>\n      <td>9523.0</td>\n      <td>0.00</td>\n      <td>0.0</td>\n      <td>0.0</td>\n      <td>0.00</td>\n      <td>0.00</td>\n      <td>9508.00</td>\n      <td>0.00</td>\n      <td>10008.00</td>\n      <td>0.00</td>\n      <td>57.00</td>\n      <td>0.00</td>\n      <td>11392.00</td>\n      <td>0.00</td>\n      <td>1384.00</td>\n      <td>0.00</td>\n      <td>0.0</td>\n      <td>0.0</td>\n      <td>0.0</td>\n      <td>0.0</td>\n      <td>0.0</td>\n      <td>0.0</td>\n      <td>0.0</td>\n      <td>0.0</td>\n      <td>0.0</td>\n      <td>0.0</td>\n      <td>0.00</td>\n      <td>0.00</td>\n      <td>11363.00</td>\n      <td>0.00</td>\n      <td>1000.0</td>\n      <td>0</td>\n      <td>948.0</td>\n      <td>0.0</td>\n      <td>943.00</td>\n      <td>0.0</td>\n      <td>0.0</td>\n      <td>0</td>\n      <td>0.00</td>\n      <td>0</td>\n      <td>0</td>\n      <td>0</td>\n      <td>11449.00</td>\n      <td>0</td>\n      <td>0</td>\n      <td>0.00</td>\n      <td>0</td>\n      <td>0.0</td>\n      <td>1869.00</td>\n      <td>0.00</td>\n      <td>57.00</td>\n      <td>0.00</td>\n      <td>0</td>\n      <td>0.0</td>\n      <td>0.0</td>\n      <td>1855.00</td>\n      <td>0.00</td>\n      <td>0</td>\n      <td>0</td>\n      <td>0</td>\n      <td>0.000000</td>\n      <td>0</td>\n      <td>0</td>\n      <td>1.000000</td>\n      <td>0</td>\n      <td>0</td>\n      <td>0.000000</td>\n      <td>0.000000</td>\n      <td>0.895712</td>\n      <td>0.000000</td>\n      <td>4</td>\n      <td>0</td>\n      <td>0</td>\n      <td>4</td>\n      <td>0</td>\n      <td>0</td>\n      <td>0</td>\n      <td>14</td>\n      <td>0</td>\n      <td>0</td>\n      <td>0</td>\n      <td>0</td>\n      <td>4</td>\n      <td>0</td>\n      <td>0</td>\n      <td>0</td>\n      <td>0</td>\n      <td>0</td>\n      <td>0</td>\n      <td>0</td>\n      <td>0</td>\n      <td>0</td>\n      <td>0</td>\n      <td>0</td>\n      <td>0</td>\n      <td>0</td>\n      <td>0</td>\n      <td>0</td>\n      <td>0</td>\n      <td>0</td>\n      <td>0</td>\n      <td>0</td>\n      <td>0</td>\n      <td>0</td>\n      <td>0</td>\n      <td>0</td>\n      <td>0</td>\n      <td>0</td>\n      <td>0</td>\n      <td>0.000000</td>\n      <td>2</td>\n      <td>0</td>\n      <td>0.000000</td>\n      <td>0.948000</td>\n      <td>0.0</td>\n      <td>Yes</td>\n      <td>21.75</td>\n      <td>1260.1300</td>\n      <td>1317.105</td>\n      <td>4</td>\n      <td>21.75</td>\n      <td>1260.1300</td>\n      <td>1317.105</td>\n      <td>4</td>\n      <td>ÐÐµÐ·ÑÑÐ¾ÑÐµÐ½ ÑÑÑÐ´Ð¾Ð² Ð´Ð¾Ð³Ð¾Ð²Ð¾Ñ</td>\n      <td>01</td>\n      <td>Yes</td>\n      <td>1</td>\n      <td>1</td>\n      <td>586.444444</td>\n      <td>580.0</td>\n      <td>72233006</td>\n      <td>2540</td>\n      <td>0.0</td>\n      <td>0.0</td>\n      <td>0.0</td>\n      <td>1.0</td>\n      <td>7</td>\n      <td>364</td>\n      <td>72</td>\n      <td>364</td>\n      <td>2</td>\n      <td>364</td>\n      <td>25</td>\n      <td>364</td>\n      <td>1</td>\n      <td>1</td>\n      <td>586.444444</td>\n      <td>580.0</td>\n      <td>72233006</td>\n      <td>2540</td>\n      <td>0.0</td>\n      <td>0.0</td>\n      <td>0.0</td>\n      <td>1.0</td>\n      <td>7</td>\n      <td>182</td>\n      <td>72</td>\n      <td>182</td>\n      <td>2</td>\n      <td>182</td>\n      <td>25</td>\n      <td>182</td>\n      <td>1</td>\n      <td>1</td>\n      <td>580.000000</td>\n      <td>580.0</td>\n      <td>72233006</td>\n      <td>2540</td>\n      <td>0.0</td>\n      <td>0.0</td>\n      <td>0.0</td>\n      <td>1.0</td>\n      <td>7</td>\n      <td>90</td>\n      <td>72</td>\n      <td>90</td>\n      <td>2</td>\n      <td>90</td>\n      <td>25</td>\n      <td>90</td>\n      <td>64</td>\n      <td>169</td>\n      <td>4</td>\n      <td>Yes</td>\n      <td>0.0</td>\n      <td>NaN</td>\n      <td>Missing</td>\n      <td>0.0</td>\n      <td>0.0</td>\n      <td>0</td>\n      <td>Missing</td>\n      <td>Missing</td>\n      <td>No</td>\n      <td>12660.00</td>\n      <td>0.00</td>\n      <td>12660.00</td>\n      <td>11392.00</td>\n      <td>0.00</td>\n      <td>11392.00</td>\n      <td>0.00</td>\n      <td>0.00</td>\n      <td>0.00</td>\n      <td>0.00</td>\n      <td>Íå</td>\n      <td>Äà</td>\n      <td>Íå</td>\n      <td>Äà</td>\n    </tr>\n    <tr>\n      <th>4</th>\n      <td>842</td>\n      <td>0</td>\n      <td>34</td>\n      <td>NoDPD</td>\n      <td>NoDPD</td>\n      <td>NoDPD</td>\n      <td>NoDPD</td>\n      <td>NoDPD</td>\n      <td>NoDPD</td>\n      <td>NoDPD</td>\n      <td>Never</td>\n      <td>Never</td>\n      <td>Never</td>\n      <td>Never</td>\n      <td>DPDCurrent</td>\n      <td>DPDCurrent</td>\n      <td>DPDCurrent</td>\n      <td>0</td>\n      <td>0</td>\n      <td>0</td>\n      <td>0</td>\n      <td>0</td>\n      <td>0.0</td>\n      <td>0.0</td>\n      <td>0.0</td>\n      <td>0.00</td>\n      <td>600.00</td>\n      <td>0</td>\n      <td>0</td>\n      <td>0.00</td>\n      <td>0</td>\n      <td>0</td>\n      <td>656.00</td>\n      <td>0.00</td>\n      <td>600.00</td>\n      <td>0.00</td>\n      <td>656.00</td>\n      <td>0.00</td>\n      <td>600.00</td>\n      <td>0.00</td>\n      <td>163.00</td>\n      <td>0.0</td>\n      <td>107.00</td>\n      <td>0.00</td>\n      <td>600.00</td>\n      <td>0.0</td>\n      <td>0.0</td>\n      <td>0</td>\n      <td>0</td>\n      <td>0.0</td>\n      <td>0</td>\n      <td>0</td>\n      <td>0</td>\n      <td>0</td>\n      <td>0</td>\n      <td>0</td>\n      <td>0</td>\n      <td>0</td>\n      <td>0</td>\n      <td>0</td>\n      <td>0</td>\n      <td>0.0</td>\n      <td>0</td>\n      <td>0.0</td>\n      <td>0.00</td>\n      <td>0.0</td>\n      <td>0.0</td>\n      <td>0.00</td>\n      <td>163.00</td>\n      <td>0.0</td>\n      <td>0.00</td>\n      <td>0.0</td>\n      <td>0.0</td>\n      <td>0.00</td>\n      <td>0.00</td>\n      <td>0.00</td>\n      <td>0.00</td>\n      <td>0.00</td>\n      <td>0.00</td>\n      <td>0.00</td>\n      <td>0.00</td>\n      <td>0.00</td>\n      <td>656.00</td>\n      <td>0.00</td>\n      <td>656.00</td>\n      <td>0.0</td>\n      <td>0.0</td>\n      <td>0.0</td>\n      <td>0.0</td>\n      <td>0.0</td>\n      <td>0.0</td>\n      <td>0.0</td>\n      <td>0.0</td>\n      <td>0.0</td>\n      <td>0.0</td>\n      <td>0.00</td>\n      <td>107.00</td>\n      <td>0.00</td>\n      <td>493.00</td>\n      <td>0.0</td>\n      <td>0</td>\n      <td>0.0</td>\n      <td>0.0</td>\n      <td>0.00</td>\n      <td>0.0</td>\n      <td>0.0</td>\n      <td>0</td>\n      <td>0.00</td>\n      <td>0</td>\n      <td>0</td>\n      <td>0</td>\n      <td>0.00</td>\n      <td>0</td>\n      <td>0</td>\n      <td>656.00</td>\n      <td>0</td>\n      <td>0.0</td>\n      <td>0.00</td>\n      <td>656.00</td>\n      <td>0.00</td>\n      <td>0.00</td>\n      <td>0</td>\n      <td>0.0</td>\n      <td>107.0</td>\n      <td>0.00</td>\n      <td>493.00</td>\n      <td>0</td>\n      <td>0</td>\n      <td>0</td>\n      <td>1.000000</td>\n      <td>0</td>\n      <td>0</td>\n      <td>0.000000</td>\n      <td>0</td>\n      <td>0</td>\n      <td>1.000000</td>\n      <td>1.000000</td>\n      <td>0.000000</td>\n      <td>1.093333</td>\n      <td>0</td>\n      <td>1</td>\n      <td>0</td>\n      <td>0</td>\n      <td>0</td>\n      <td>0</td>\n      <td>0</td>\n      <td>0</td>\n      <td>0</td>\n      <td>0</td>\n      <td>0</td>\n      <td>0</td>\n      <td>0</td>\n      <td>0</td>\n      <td>0</td>\n      <td>0</td>\n      <td>0</td>\n      <td>0</td>\n      <td>0</td>\n      <td>0</td>\n      <td>0</td>\n      <td>0</td>\n      <td>0</td>\n      <td>0</td>\n      <td>0</td>\n      <td>0</td>\n      <td>0</td>\n      <td>0</td>\n      <td>0</td>\n      <td>0</td>\n      <td>0</td>\n      <td>0</td>\n      <td>0</td>\n      <td>0</td>\n      <td>0</td>\n      <td>0</td>\n      <td>0</td>\n      <td>0</td>\n      <td>0</td>\n      <td>1.000000</td>\n      <td>0</td>\n      <td>1</td>\n      <td>0.163110</td>\n      <td>0.000000</td>\n      <td>0.0</td>\n      <td>Yes</td>\n      <td>0.00</td>\n      <td>0.0000</td>\n      <td>0.000</td>\n      <td>0</td>\n      <td>0.00</td>\n      <td>0.0000</td>\n      <td>0.000</td>\n      <td>0</td>\n      <td>Missing</td>\n      <td>Missing</td>\n      <td>No</td>\n      <td>0</td>\n      <td>0</td>\n      <td>0.000000</td>\n      <td>0.0</td>\n      <td>0</td>\n      <td>0</td>\n      <td>0.0</td>\n      <td>0.0</td>\n      <td>0.0</td>\n      <td>0.0</td>\n      <td>0</td>\n      <td>0</td>\n      <td>0</td>\n      <td>0</td>\n      <td>0</td>\n      <td>0</td>\n      <td>0</td>\n      <td>0</td>\n      <td>0</td>\n      <td>0</td>\n      <td>0.000000</td>\n      <td>0.0</td>\n      <td>0</td>\n      <td>0</td>\n      <td>0.0</td>\n      <td>0.0</td>\n      <td>0.0</td>\n      <td>0.0</td>\n      <td>0</td>\n      <td>0</td>\n      <td>0</td>\n      <td>0</td>\n      <td>0</td>\n      <td>0</td>\n      <td>0</td>\n      <td>0</td>\n      <td>0</td>\n      <td>0</td>\n      <td>0.000000</td>\n      <td>0.0</td>\n      <td>0</td>\n      <td>0</td>\n      <td>0.0</td>\n      <td>0.0</td>\n      <td>0.0</td>\n      <td>0.0</td>\n      <td>0</td>\n      <td>0</td>\n      <td>0</td>\n      <td>0</td>\n      <td>0</td>\n      <td>0</td>\n      <td>0</td>\n      <td>0</td>\n      <td>0</td>\n      <td>0</td>\n      <td>0</td>\n      <td>No</td>\n      <td>0.0</td>\n      <td>NaN</td>\n      <td>Missing</td>\n      <td>0.0</td>\n      <td>0.0</td>\n      <td>0</td>\n      <td>Missing</td>\n      <td>Missing</td>\n      <td>No</td>\n      <td>0.00</td>\n      <td>600.00</td>\n      <td>600.00</td>\n      <td>0.00</td>\n      <td>656.00</td>\n      <td>656.00</td>\n      <td>656.00</td>\n      <td>0.00</td>\n      <td>107.00</td>\n      <td>107.00</td>\n      <td>Äà</td>\n      <td>Íå</td>\n      <td>Íå</td>\n      <td>Íå</td>\n    </tr>\n  </tbody>\n</table>\n</div>"
          },
          "metadata": {},
          "execution_count": 5
        }
      ],
      "source": [
        "df_train.head()"
      ]
    },
    {
      "cell_type": "code",
      "execution_count": null,
      "metadata": {},
      "outputs": [],
      "source": []
    }
  ],
  "metadata": {
    "kernelspec": {
      "display_name": "Python 3 (ipykernel)",
      "language": "python",
      "name": "python3"
    },
    "language_info": {
      "codemirror_mode": {
        "name": "ipython",
        "version": 3
      },
      "file_extension": ".py",
      "mimetype": "text/x-python",
      "name": "python",
      "nbconvert_exporter": "python",
      "pygments_lexer": "ipython3",
      "version": "3.9.7-final"
    },
    "colab": {
      "name": "MFG_zadacha.ipynb",
      "provenance": [],
      "collapsed_sections": []
    }
  },
  "nbformat": 4,
  "nbformat_minor": 0
}